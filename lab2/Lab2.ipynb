{
  "cells": [
    {
      "cell_type": "markdown",
      "metadata": {
        "id": "iwu9W9faBwbG"
      },
      "source": [
        "# ЛР №2 Проведение исследований с логистической и линейной регрессией.\n",
        "Для классификации был выбрал датасет '[Mushroom Dataset](https://www.kaggle.com/datasets/prishasawhney/mushroom-dataset)' \\\n",
        "Задачей было классифицировать съедобные и несъедобные грибы  \\\n",
        "Для регрессии был выбран датасет '[Gold Price Regression](https://www.kaggle.com/datasets/franciscogcc/financial-data)'\\\n",
        "Задачей было предсказывать стоимость золота."
      ]
    },
    {
      "cell_type": "markdown",
      "metadata": {
        "id": "U7l2u9R6CEd1"
      },
      "source": [
        "# Логистическая и линейная регрессии"
      ]
    },
    {
      "cell_type": "markdown",
      "metadata": {
        "id": "jWTvgV3GBxZl"
      },
      "source": [
        "Загружаем датасет и смотрим его верхние строки"
      ]
    },
    {
      "cell_type": "code",
      "execution_count": 1,
      "metadata": {
        "colab": {
          "base_uri": "https://localhost:8080/",
          "height": 255
        },
        "id": "VLIuEyBWPfgG",
        "outputId": "738dd220-286f-48e4-9a4c-c637515e8654"
      },
      "outputs": [
        {
          "data": {
            "text/html": [
              "<div>\n",
              "<style scoped>\n",
              "    .dataframe tbody tr th:only-of-type {\n",
              "        vertical-align: middle;\n",
              "    }\n",
              "\n",
              "    .dataframe tbody tr th {\n",
              "        vertical-align: top;\n",
              "    }\n",
              "\n",
              "    .dataframe thead th {\n",
              "        text-align: right;\n",
              "    }\n",
              "</style>\n",
              "<table border=\"1\" class=\"dataframe\">\n",
              "  <thead>\n",
              "    <tr style=\"text-align: right;\">\n",
              "      <th></th>\n",
              "      <th>cap-diameter</th>\n",
              "      <th>cap-shape</th>\n",
              "      <th>gill-attachment</th>\n",
              "      <th>gill-color</th>\n",
              "      <th>stem-height</th>\n",
              "      <th>stem-width</th>\n",
              "      <th>stem-color</th>\n",
              "      <th>season</th>\n",
              "      <th>class</th>\n",
              "    </tr>\n",
              "  </thead>\n",
              "  <tbody>\n",
              "    <tr>\n",
              "      <th>0</th>\n",
              "      <td>1372</td>\n",
              "      <td>2</td>\n",
              "      <td>2</td>\n",
              "      <td>10</td>\n",
              "      <td>3.807467</td>\n",
              "      <td>1545</td>\n",
              "      <td>11</td>\n",
              "      <td>1.804273</td>\n",
              "      <td>1</td>\n",
              "    </tr>\n",
              "    <tr>\n",
              "      <th>1</th>\n",
              "      <td>1461</td>\n",
              "      <td>2</td>\n",
              "      <td>2</td>\n",
              "      <td>10</td>\n",
              "      <td>3.807467</td>\n",
              "      <td>1557</td>\n",
              "      <td>11</td>\n",
              "      <td>1.804273</td>\n",
              "      <td>1</td>\n",
              "    </tr>\n",
              "    <tr>\n",
              "      <th>2</th>\n",
              "      <td>1371</td>\n",
              "      <td>2</td>\n",
              "      <td>2</td>\n",
              "      <td>10</td>\n",
              "      <td>3.612496</td>\n",
              "      <td>1566</td>\n",
              "      <td>11</td>\n",
              "      <td>1.804273</td>\n",
              "      <td>1</td>\n",
              "    </tr>\n",
              "    <tr>\n",
              "      <th>3</th>\n",
              "      <td>1261</td>\n",
              "      <td>6</td>\n",
              "      <td>2</td>\n",
              "      <td>10</td>\n",
              "      <td>3.787572</td>\n",
              "      <td>1566</td>\n",
              "      <td>11</td>\n",
              "      <td>1.804273</td>\n",
              "      <td>1</td>\n",
              "    </tr>\n",
              "    <tr>\n",
              "      <th>4</th>\n",
              "      <td>1305</td>\n",
              "      <td>6</td>\n",
              "      <td>2</td>\n",
              "      <td>10</td>\n",
              "      <td>3.711971</td>\n",
              "      <td>1464</td>\n",
              "      <td>11</td>\n",
              "      <td>0.943195</td>\n",
              "      <td>1</td>\n",
              "    </tr>\n",
              "  </tbody>\n",
              "</table>\n",
              "</div>"
            ],
            "text/plain": [
              "   cap-diameter  cap-shape  gill-attachment  gill-color  stem-height  \\\n",
              "0          1372          2                2          10     3.807467   \n",
              "1          1461          2                2          10     3.807467   \n",
              "2          1371          2                2          10     3.612496   \n",
              "3          1261          6                2          10     3.787572   \n",
              "4          1305          6                2          10     3.711971   \n",
              "\n",
              "   stem-width  stem-color    season  class  \n",
              "0        1545          11  1.804273      1  \n",
              "1        1557          11  1.804273      1  \n",
              "2        1566          11  1.804273      1  \n",
              "3        1566          11  1.804273      1  \n",
              "4        1464          11  0.943195      1  "
            ]
          },
          "execution_count": 1,
          "metadata": {},
          "output_type": "execute_result"
        }
      ],
      "source": [
        "import pandas as pd\n",
        "from sklearn.model_selection import train_test_split, GridSearchCV\n",
        "from sklearn.preprocessing import StandardScaler, LabelEncoder\n",
        "from sklearn.impute import SimpleImputer\n",
        "from sklearn.linear_model import LinearRegression, LogisticRegression\n",
        "from sklearn.model_selection import train_test_split\n",
        "from sklearn import metrics\n",
        "\n",
        "file_path = \"../mushroom_cleaned.csv\"\n",
        "data_class = pd.read_csv(file_path)\n",
        "data_class.head()\n",
        "\n"
      ]
    },
    {
      "cell_type": "markdown",
      "metadata": {
        "id": "5-PLesNzerv4"
      },
      "source": [
        "То же самое для второго датасета"
      ]
    },
    {
      "cell_type": "code",
      "execution_count": 2,
      "metadata": {
        "colab": {
          "base_uri": "https://localhost:8080/",
          "height": 206
        },
        "id": "dMypl9uxbunJ",
        "outputId": "61b26184-1b75-4d59-9833-73d32e3557b0"
      },
      "outputs": [
        {
          "data": {
            "text/html": [
              "<div>\n",
              "<style scoped>\n",
              "    .dataframe tbody tr th:only-of-type {\n",
              "        vertical-align: middle;\n",
              "    }\n",
              "\n",
              "    .dataframe tbody tr th {\n",
              "        vertical-align: top;\n",
              "    }\n",
              "\n",
              "    .dataframe thead th {\n",
              "        text-align: right;\n",
              "    }\n",
              "</style>\n",
              "<table border=\"1\" class=\"dataframe\">\n",
              "  <thead>\n",
              "    <tr style=\"text-align: right;\">\n",
              "      <th></th>\n",
              "      <th>date</th>\n",
              "      <th>sp500 open</th>\n",
              "      <th>sp500 high</th>\n",
              "      <th>sp500 low</th>\n",
              "      <th>sp500 close</th>\n",
              "      <th>sp500 volume</th>\n",
              "      <th>sp500 high-low</th>\n",
              "      <th>nasdaq open</th>\n",
              "      <th>nasdaq high</th>\n",
              "      <th>nasdaq low</th>\n",
              "      <th>...</th>\n",
              "      <th>palladium high</th>\n",
              "      <th>palladium low</th>\n",
              "      <th>palladium close</th>\n",
              "      <th>palladium volume</th>\n",
              "      <th>palladium high-low</th>\n",
              "      <th>gold open</th>\n",
              "      <th>gold high</th>\n",
              "      <th>gold low</th>\n",
              "      <th>gold close</th>\n",
              "      <th>gold volume</th>\n",
              "    </tr>\n",
              "  </thead>\n",
              "  <tbody>\n",
              "    <tr>\n",
              "      <th>0</th>\n",
              "      <td>2010-01-14</td>\n",
              "      <td>114.49</td>\n",
              "      <td>115.14</td>\n",
              "      <td>114.42</td>\n",
              "      <td>114.93</td>\n",
              "      <td>115646960.0</td>\n",
              "      <td>0.72</td>\n",
              "      <td>46.26</td>\n",
              "      <td>46.520</td>\n",
              "      <td>46.22</td>\n",
              "      <td>...</td>\n",
              "      <td>45.02</td>\n",
              "      <td>43.86</td>\n",
              "      <td>44.84</td>\n",
              "      <td>364528.0</td>\n",
              "      <td>1.16</td>\n",
              "      <td>111.51</td>\n",
              "      <td>112.37</td>\n",
              "      <td>110.79</td>\n",
              "      <td>112.03</td>\n",
              "      <td>18305238.0</td>\n",
              "    </tr>\n",
              "    <tr>\n",
              "      <th>1</th>\n",
              "      <td>2010-01-15</td>\n",
              "      <td>114.73</td>\n",
              "      <td>114.84</td>\n",
              "      <td>113.20</td>\n",
              "      <td>113.64</td>\n",
              "      <td>212252769.0</td>\n",
              "      <td>1.64</td>\n",
              "      <td>46.46</td>\n",
              "      <td>46.550</td>\n",
              "      <td>45.65</td>\n",
              "      <td>...</td>\n",
              "      <td>45.76</td>\n",
              "      <td>44.40</td>\n",
              "      <td>45.76</td>\n",
              "      <td>442210.0</td>\n",
              "      <td>1.36</td>\n",
              "      <td>111.35</td>\n",
              "      <td>112.01</td>\n",
              "      <td>110.38</td>\n",
              "      <td>110.86</td>\n",
              "      <td>18000724.0</td>\n",
              "    </tr>\n",
              "    <tr>\n",
              "      <th>2</th>\n",
              "      <td>2010-01-18</td>\n",
              "      <td>NaN</td>\n",
              "      <td>NaN</td>\n",
              "      <td>NaN</td>\n",
              "      <td>NaN</td>\n",
              "      <td>NaN</td>\n",
              "      <td>NaN</td>\n",
              "      <td>NaN</td>\n",
              "      <td>NaN</td>\n",
              "      <td>NaN</td>\n",
              "      <td>...</td>\n",
              "      <td>NaN</td>\n",
              "      <td>NaN</td>\n",
              "      <td>NaN</td>\n",
              "      <td>NaN</td>\n",
              "      <td>NaN</td>\n",
              "      <td>NaN</td>\n",
              "      <td>NaN</td>\n",
              "      <td>NaN</td>\n",
              "      <td>NaN</td>\n",
              "      <td>NaN</td>\n",
              "    </tr>\n",
              "    <tr>\n",
              "      <th>3</th>\n",
              "      <td>2010-01-19</td>\n",
              "      <td>113.62</td>\n",
              "      <td>115.13</td>\n",
              "      <td>113.59</td>\n",
              "      <td>115.06</td>\n",
              "      <td>138671890.0</td>\n",
              "      <td>1.54</td>\n",
              "      <td>45.96</td>\n",
              "      <td>46.640</td>\n",
              "      <td>45.95</td>\n",
              "      <td>...</td>\n",
              "      <td>47.08</td>\n",
              "      <td>45.70</td>\n",
              "      <td>46.94</td>\n",
              "      <td>629150.0</td>\n",
              "      <td>1.38</td>\n",
              "      <td>110.95</td>\n",
              "      <td>111.75</td>\n",
              "      <td>110.83</td>\n",
              "      <td>111.52</td>\n",
              "      <td>10467927.0</td>\n",
              "    </tr>\n",
              "    <tr>\n",
              "      <th>4</th>\n",
              "      <td>2010-01-20</td>\n",
              "      <td>114.28</td>\n",
              "      <td>114.45</td>\n",
              "      <td>112.98</td>\n",
              "      <td>113.89</td>\n",
              "      <td>216330645.0</td>\n",
              "      <td>1.47</td>\n",
              "      <td>46.27</td>\n",
              "      <td>46.604</td>\n",
              "      <td>45.43</td>\n",
              "      <td>...</td>\n",
              "      <td>47.31</td>\n",
              "      <td>45.17</td>\n",
              "      <td>47.05</td>\n",
              "      <td>643198.0</td>\n",
              "      <td>2.14</td>\n",
              "      <td>109.97</td>\n",
              "      <td>110.05</td>\n",
              "      <td>108.46</td>\n",
              "      <td>108.94</td>\n",
              "      <td>17534231.0</td>\n",
              "    </tr>\n",
              "  </tbody>\n",
              "</table>\n",
              "<p>5 rows × 47 columns</p>\n",
              "</div>"
            ],
            "text/plain": [
              "         date  sp500 open  sp500 high  sp500 low  sp500 close  sp500 volume  \\\n",
              "0  2010-01-14      114.49      115.14     114.42       114.93   115646960.0   \n",
              "1  2010-01-15      114.73      114.84     113.20       113.64   212252769.0   \n",
              "2  2010-01-18         NaN         NaN        NaN          NaN           NaN   \n",
              "3  2010-01-19      113.62      115.13     113.59       115.06   138671890.0   \n",
              "4  2010-01-20      114.28      114.45     112.98       113.89   216330645.0   \n",
              "\n",
              "   sp500 high-low  nasdaq open  nasdaq high  nasdaq low  ...  palladium high  \\\n",
              "0            0.72        46.26       46.520       46.22  ...           45.02   \n",
              "1            1.64        46.46       46.550       45.65  ...           45.76   \n",
              "2             NaN          NaN          NaN         NaN  ...             NaN   \n",
              "3            1.54        45.96       46.640       45.95  ...           47.08   \n",
              "4            1.47        46.27       46.604       45.43  ...           47.31   \n",
              "\n",
              "   palladium low  palladium close  palladium volume  palladium high-low  \\\n",
              "0          43.86            44.84          364528.0                1.16   \n",
              "1          44.40            45.76          442210.0                1.36   \n",
              "2            NaN              NaN               NaN                 NaN   \n",
              "3          45.70            46.94          629150.0                1.38   \n",
              "4          45.17            47.05          643198.0                2.14   \n",
              "\n",
              "   gold open  gold high  gold low  gold close  gold volume  \n",
              "0     111.51     112.37    110.79      112.03   18305238.0  \n",
              "1     111.35     112.01    110.38      110.86   18000724.0  \n",
              "2        NaN        NaN       NaN         NaN          NaN  \n",
              "3     110.95     111.75    110.83      111.52   10467927.0  \n",
              "4     109.97     110.05    108.46      108.94   17534231.0  \n",
              "\n",
              "[5 rows x 47 columns]"
            ]
          },
          "execution_count": 2,
          "metadata": {},
          "output_type": "execute_result"
        }
      ],
      "source": [
        "file_path2 = \"../financial_regression.csv\"\n",
        "data_regr = pd.read_csv(file_path2)\n",
        "data_regr.head()"
      ]
    },
    {
      "cell_type": "markdown",
      "metadata": {
        "id": "UpgxeklICAOt"
      },
      "source": [
        "Посмотрим на распределение class в датасете классификации:"
      ]
    },
    {
      "cell_type": "code",
      "execution_count": 3,
      "metadata": {
        "colab": {
          "base_uri": "https://localhost:8080/",
          "height": 564
        },
        "id": "ariuSSQnFgD_",
        "outputId": "198b07b7-23ee-4876-b105-105e173f3246"
      },
      "outputs": [
        {
          "data": {
            "image/png": "[encoded data removed]",
            "text/plain": [
              "<Figure size 800x600 with 1 Axes>"
            ]
          },
          "metadata": {},
          "output_type": "display_data"
        }
      ],
      "source": [
        "import matplotlib.pyplot as plt\n",
        "import seaborn as sns\n",
        "\n",
        "plt.figure(figsize=(8, 6))\n",
        "sns.countplot(x='class', data=data_class)\n",
        "plt.title('class')\n",
        "plt.xlabel('1-edible, 0-not edible')\n",
        "plt.ylabel('count')\n",
        "plt.show()"
      ]
    },
    {
      "cell_type": "markdown",
      "metadata": {
        "id": "0mE2-PXpCNH-"
      },
      "source": [
        "Кодируем категориальные фичи и разделим фичи на целевые и не целевые"
      ]
    },
    {
      "cell_type": "code",
      "execution_count": 4,
      "metadata": {
        "id": "kl9l17QCVNTH"
      },
      "outputs": [],
      "source": [
        "encoded_data = pd.get_dummies(data_class, columns=[\"cap-shape\", \"gill-attachment\", \"gill-color\", \"stem-color\"])\n",
        "\n",
        "label_encoder = LabelEncoder()\n",
        "for column in [\"cap-shape\", \"gill-attachment\", \"gill-color\", \"stem-color\"]:\n",
        "    data_class[column] = label_encoder.fit_transform(data_class[column])\n",
        "\n",
        "# разделение фич на целевую и не целевую\n",
        "X = data_class.drop(columns=[\"class\"])\n",
        "y = data_class[\"class\"]\n",
        "\n",
        "X_train_class, X_test_class, y_train_class, y_test_class = train_test_split(X, y, test_size=0.2, random_state=42)\n",
        "\n",
        "scaler = StandardScaler()\n",
        "X_train_class = scaler.fit_transform(X_train_class)\n",
        "X_test_class = scaler.transform(X_test_class)\n"
      ]
    },
    {
      "cell_type": "markdown",
      "metadata": {
        "id": "QUHr4k5HfPQg"
      },
      "source": [
        "Кодируем фичи для датасета регрессии"
      ]
    },
    {
      "cell_type": "code",
      "execution_count": 5,
      "metadata": {
        "id": "MHLCCOMX0-SU"
      },
      "outputs": [],
      "source": [
        "from sklearn.model_selection import train_test_split\n",
        "\n",
        "data_regr = data_regr.dropna(subset=['sp500 close', 'gold close'])\n",
        "data_regr = data_regr.drop(['us_rates_%', 'CPI', 'date', 'GDP'], axis=1)\n",
        "data_regr = data_regr.dropna()\n",
        "\n",
        "\n",
        "X = data_regr.drop('gold close', axis=1)\n",
        "y = data_regr['gold close']\n",
        "\n",
        "X_train_regr, X_test_regr, y_train_regr, y_test_regr = train_test_split(X, y, test_size=0.2, random_state=42)\n",
        "\n",
        "from sklearn.preprocessing import StandardScaler, LabelEncoder\n",
        "categorical_columns = data_regr.select_dtypes(include=['object']).columns\n",
        "label_encoders = {}\n",
        "for column in categorical_columns:\n",
        "    le = LabelEncoder()\n",
        "    data_regr[column] = le.fit_transform(data_regr[column].astype(str))\n",
        "    label_encoders[column] = le"
      ]
    },
    {
      "cell_type": "markdown",
      "metadata": {
        "id": "q47jKKadCtAW"
      },
      "source": [
        "Обучение моделей линейной и логистической регрессии. В качестве метрики качества будем использовать accuracy"
      ]
    },
    {
      "cell_type": "code",
      "execution_count": 6,
      "metadata": {
        "colab": {
          "base_uri": "https://localhost:8080/",
          "height": 80
        },
        "id": "i_y6u5bWVQbW",
        "outputId": "5e01a1ff-f2c0-47df-ba72-9cffd7ac7513"
      },
      "outputs": [
        {
          "data": {
            "text/html": [
              "<style>#sk-container-id-1 {\n",
              "  /* Definition of color scheme common for light and dark mode */\n",
              "  --sklearn-color-text: black;\n",
              "  --sklearn-color-line: gray;\n",
              "  /* Definition of color scheme for unfitted estimators */\n",
              "  --sklearn-color-unfitted-level-0: #fff5e6;\n",
              "  --sklearn-color-unfitted-level-1: #f6e4d2;\n",
              "  --sklearn-color-unfitted-level-2: #ffe0b3;\n",
              "  --sklearn-color-unfitted-level-3: chocolate;\n",
              "  /* Definition of color scheme for fitted estimators */\n",
              "  --sklearn-color-fitted-level-0: #f0f8ff;\n",
              "  --sklearn-color-fitted-level-1: #d4ebff;\n",
              "  --sklearn-color-fitted-level-2: #b3dbfd;\n",
              "  --sklearn-color-fitted-level-3: cornflowerblue;\n",
              "\n",
              "  /* Specific color for light theme */\n",
              "  --sklearn-color-text-on-default-background: var(--sg-text-color, var(--theme-code-foreground, var(--jp-content-font-color1, black)));\n",
              "  --sklearn-color-background: var(--sg-background-color, var(--theme-background, var(--jp-layout-color0, white)));\n",
              "  --sklearn-color-border-box: var(--sg-text-color, var(--theme-code-foreground, var(--jp-content-font-color1, black)));\n",
              "  --sklearn-color-icon: #696969;\n",
              "\n",
              "  @media (prefers-color-scheme: dark) {\n",
              "    /* Redefinition of color scheme for dark theme */\n",
              "    --sklearn-color-text-on-default-background: var(--sg-text-color, var(--theme-code-foreground, var(--jp-content-font-color1, white)));\n",
              "    --sklearn-color-background: var(--sg-background-color, var(--theme-background, var(--jp-layout-color0, #111)));\n",
              "    --sklearn-color-border-box: var(--sg-text-color, var(--theme-code-foreground, var(--jp-content-font-color1, white)));\n",
              "    --sklearn-color-icon: #878787;\n",
              "  }\n",
              "}\n",
              "\n",
              "#sk-container-id-1 {\n",
              "  color: var(--sklearn-color-text);\n",
              "}\n",
              "\n",
              "#sk-container-id-1 pre {\n",
              "  padding: 0;\n",
              "}\n",
              "\n",
              "#sk-container-id-1 input.sk-hidden--visually {\n",
              "  border: 0;\n",
              "  clip: rect(1px 1px 1px 1px);\n",
              "  clip: rect(1px, 1px, 1px, 1px);\n",
              "  height: 1px;\n",
              "  margin: -1px;\n",
              "  overflow: hidden;\n",
              "  padding: 0;\n",
              "  position: absolute;\n",
              "  width: 1px;\n",
              "}\n",
              "\n",
              "#sk-container-id-1 div.sk-dashed-wrapped {\n",
              "  border: 1px dashed var(--sklearn-color-line);\n",
              "  margin: 0 0.4em 0.5em 0.4em;\n",
              "  box-sizing: border-box;\n",
              "  padding-bottom: 0.4em;\n",
              "  background-color: var(--sklearn-color-background);\n",
              "}\n",
              "\n",
              "#sk-container-id-1 div.sk-container {\n",
              "  /* jupyter's `normalize.less` sets `[hidden] { display: none; }`\n",
              "     but bootstrap.min.css set `[hidden] { display: none !important; }`\n",
              "     so we also need the `!important` here to be able to override the\n",
              "     default hidden behavior on the sphinx rendered scikit-learn.org.\n",
              "     See: https://github.com/scikit-learn/scikit-learn/issues/21755 */\n",
              "  display: inline-block !important;\n",
              "  position: relative;\n",
              "}\n",
              "\n",
              "#sk-container-id-1 div.sk-text-repr-fallback {\n",
              "  display: none;\n",
              "}\n",
              "\n",
              "div.sk-parallel-item,\n",
              "div.sk-serial,\n",
              "div.sk-item {\n",
              "  /* draw centered vertical line to link estimators */\n",
              "  background-image: linear-gradient(var(--sklearn-color-text-on-default-background), var(--sklearn-color-text-on-default-background));\n",
              "  background-size: 2px 100%;\n",
              "  background-repeat: no-repeat;\n",
              "  background-position: center center;\n",
              "}\n",
              "\n",
              "/* Parallel-specific style estimator block */\n",
              "\n",
              "#sk-container-id-1 div.sk-parallel-item::after {\n",
              "  content: \"\";\n",
              "  width: 100%;\n",
              "  border-bottom: 2px solid var(--sklearn-color-text-on-default-background);\n",
              "  flex-grow: 1;\n",
              "}\n",
              "\n",
              "#sk-container-id-1 div.sk-parallel {\n",
              "  display: flex;\n",
              "  align-items: stretch;\n",
              "  justify-content: center;\n",
              "  background-color: var(--sklearn-color-background);\n",
              "  position: relative;\n",
              "}\n",
              "\n",
              "#sk-container-id-1 div.sk-parallel-item {\n",
              "  display: flex;\n",
              "  flex-direction: column;\n",
              "}\n",
              "\n",
              "#sk-container-id-1 div.sk-parallel-item:first-child::after {\n",
              "  align-self: flex-end;\n",
              "  width: 50%;\n",
              "}\n",
              "\n",
              "#sk-container-id-1 div.sk-parallel-item:last-child::after {\n",
              "  align-self: flex-start;\n",
              "  width: 50%;\n",
              "}\n",
              "\n",
              "#sk-container-id-1 div.sk-parallel-item:only-child::after {\n",
              "  width: 0;\n",
              "}\n",
              "\n",
              "/* Serial-specific style estimator block */\n",
              "\n",
              "#sk-container-id-1 div.sk-serial {\n",
              "  display: flex;\n",
              "  flex-direction: column;\n",
              "  align-items: center;\n",
              "  background-color: var(--sklearn-color-background);\n",
              "  padding-right: 1em;\n",
              "  padding-left: 1em;\n",
              "}\n",
              "\n",
              "\n",
              "/* Toggleable style: style used for estimator/Pipeline/ColumnTransformer box that is\n",
              "clickable and can be expanded/collapsed.\n",
              "- Pipeline and ColumnTransformer use this feature and define the default style\n",
              "- Estimators will overwrite some part of the style using the `sk-estimator` class\n",
              "*/\n",
              "\n",
              "/* Pipeline and ColumnTransformer style (default) */\n",
              "\n",
              "#sk-container-id-1 div.sk-toggleable {\n",
              "  /* Default theme specific background. It is overwritten whether we have a\n",
              "  specific estimator or a Pipeline/ColumnTransformer */\n",
              "  background-color: var(--sklearn-color-background);\n",
              "}\n",
              "\n",
              "/* Toggleable label */\n",
              "#sk-container-id-1 label.sk-toggleable__label {\n",
              "  cursor: pointer;\n",
              "  display: block;\n",
              "  width: 100%;\n",
              "  margin-bottom: 0;\n",
              "  padding: 0.5em;\n",
              "  box-sizing: border-box;\n",
              "  text-align: center;\n",
              "}\n",
              "\n",
              "#sk-container-id-1 label.sk-toggleable__label-arrow:before {\n",
              "  /* Arrow on the left of the label */\n",
              "  content: \"▸\";\n",
              "  float: left;\n",
              "  margin-right: 0.25em;\n",
              "  color: var(--sklearn-color-icon);\n",
              "}\n",
              "\n",
              "#sk-container-id-1 label.sk-toggleable__label-arrow:hover:before {\n",
              "  color: var(--sklearn-color-text);\n",
              "}\n",
              "\n",
              "/* Toggleable content - dropdown */\n",
              "\n",
              "#sk-container-id-1 div.sk-toggleable__content {\n",
              "  max-height: 0;\n",
              "  max-width: 0;\n",
              "  overflow: hidden;\n",
              "  text-align: left;\n",
              "  /* unfitted */\n",
              "  background-color: var(--sklearn-color-unfitted-level-0);\n",
              "}\n",
              "\n",
              "#sk-container-id-1 div.sk-toggleable__content.fitted {\n",
              "  /* fitted */\n",
              "  background-color: var(--sklearn-color-fitted-level-0);\n",
              "}\n",
              "\n",
              "#sk-container-id-1 div.sk-toggleable__content pre {\n",
              "  margin: 0.2em;\n",
              "  border-radius: 0.25em;\n",
              "  color: var(--sklearn-color-text);\n",
              "  /* unfitted */\n",
              "  background-color: var(--sklearn-color-unfitted-level-0);\n",
              "}\n",
              "\n",
              "#sk-container-id-1 div.sk-toggleable__content.fitted pre {\n",
              "  /* unfitted */\n",
              "  background-color: var(--sklearn-color-fitted-level-0);\n",
              "}\n",
              "\n",
              "#sk-container-id-1 input.sk-toggleable__control:checked~div.sk-toggleable__content {\n",
              "  /* Expand drop-down */\n",
              "  max-height: 200px;\n",
              "  max-width: 100%;\n",
              "  overflow: auto;\n",
              "}\n",
              "\n",
              "#sk-container-id-1 input.sk-toggleable__control:checked~label.sk-toggleable__label-arrow:before {\n",
              "  content: \"▾\";\n",
              "}\n",
              "\n",
              "/* Pipeline/ColumnTransformer-specific style */\n",
              "\n",
              "#sk-container-id-1 div.sk-label input.sk-toggleable__control:checked~label.sk-toggleable__label {\n",
              "  color: var(--sklearn-color-text);\n",
              "  background-color: var(--sklearn-color-unfitted-level-2);\n",
              "}\n",
              "\n",
              "#sk-container-id-1 div.sk-label.fitted input.sk-toggleable__control:checked~label.sk-toggleable__label {\n",
              "  background-color: var(--sklearn-color-fitted-level-2);\n",
              "}\n",
              "\n",
              "/* Estimator-specific style */\n",
              "\n",
              "/* Colorize estimator box */\n",
              "#sk-container-id-1 div.sk-estimator input.sk-toggleable__control:checked~label.sk-toggleable__label {\n",
              "  /* unfitted */\n",
              "  background-color: var(--sklearn-color-unfitted-level-2);\n",
              "}\n",
              "\n",
              "#sk-container-id-1 div.sk-estimator.fitted input.sk-toggleable__control:checked~label.sk-toggleable__label {\n",
              "  /* fitted */\n",
              "  background-color: var(--sklearn-color-fitted-level-2);\n",
              "}\n",
              "\n",
              "#sk-container-id-1 div.sk-label label.sk-toggleable__label,\n",
              "#sk-container-id-1 div.sk-label label {\n",
              "  /* The background is the default theme color */\n",
              "  color: var(--sklearn-color-text-on-default-background);\n",
              "}\n",
              "\n",
              "/* On hover, darken the color of the background */\n",
              "#sk-container-id-1 div.sk-label:hover label.sk-toggleable__label {\n",
              "  color: var(--sklearn-color-text);\n",
              "  background-color: var(--sklearn-color-unfitted-level-2);\n",
              "}\n",
              "\n",
              "/* Label box, darken color on hover, fitted */\n",
              "#sk-container-id-1 div.sk-label.fitted:hover label.sk-toggleable__label.fitted {\n",
              "  color: var(--sklearn-color-text);\n",
              "  background-color: var(--sklearn-color-fitted-level-2);\n",
              "}\n",
              "\n",
              "/* Estimator label */\n",
              "\n",
              "#sk-container-id-1 div.sk-label label {\n",
              "  font-family: monospace;\n",
              "  font-weight: bold;\n",
              "  display: inline-block;\n",
              "  line-height: 1.2em;\n",
              "}\n",
              "\n",
              "#sk-container-id-1 div.sk-label-container {\n",
              "  text-align: center;\n",
              "}\n",
              "\n",
              "/* Estimator-specific */\n",
              "#sk-container-id-1 div.sk-estimator {\n",
              "  font-family: monospace;\n",
              "  border: 1px dotted var(--sklearn-color-border-box);\n",
              "  border-radius: 0.25em;\n",
              "  box-sizing: border-box;\n",
              "  margin-bottom: 0.5em;\n",
              "  /* unfitted */\n",
              "  background-color: var(--sklearn-color-unfitted-level-0);\n",
              "}\n",
              "\n",
              "#sk-container-id-1 div.sk-estimator.fitted {\n",
              "  /* fitted */\n",
              "  background-color: var(--sklearn-color-fitted-level-0);\n",
              "}\n",
              "\n",
              "/* on hover */\n",
              "#sk-container-id-1 div.sk-estimator:hover {\n",
              "  /* unfitted */\n",
              "  background-color: var(--sklearn-color-unfitted-level-2);\n",
              "}\n",
              "\n",
              "#sk-container-id-1 div.sk-estimator.fitted:hover {\n",
              "  /* fitted */\n",
              "  background-color: var(--sklearn-color-fitted-level-2);\n",
              "}\n",
              "\n",
              "/* Specification for estimator info (e.g. \"i\" and \"?\") */\n",
              "\n",
              "/* Common style for \"i\" and \"?\" */\n",
              "\n",
              ".sk-estimator-doc-link,\n",
              "a:link.sk-estimator-doc-link,\n",
              "a:visited.sk-estimator-doc-link {\n",
              "  float: right;\n",
              "  font-size: smaller;\n",
              "  line-height: 1em;\n",
              "  font-family: monospace;\n",
              "  background-color: var(--sklearn-color-background);\n",
              "  border-radius: 1em;\n",
              "  height: 1em;\n",
              "  width: 1em;\n",
              "  text-decoration: none !important;\n",
              "  margin-left: 1ex;\n",
              "  /* unfitted */\n",
              "  border: var(--sklearn-color-unfitted-level-1) 1pt solid;\n",
              "  color: var(--sklearn-color-unfitted-level-1);\n",
              "}\n",
              "\n",
              ".sk-estimator-doc-link.fitted,\n",
              "a:link.sk-estimator-doc-link.fitted,\n",
              "a:visited.sk-estimator-doc-link.fitted {\n",
              "  /* fitted */\n",
              "  border: var(--sklearn-color-fitted-level-1) 1pt solid;\n",
              "  color: var(--sklearn-color-fitted-level-1);\n",
              "}\n",
              "\n",
              "/* On hover */\n",
              "div.sk-estimator:hover .sk-estimator-doc-link:hover,\n",
              ".sk-estimator-doc-link:hover,\n",
              "div.sk-label-container:hover .sk-estimator-doc-link:hover,\n",
              ".sk-estimator-doc-link:hover {\n",
              "  /* unfitted */\n",
              "  background-color: var(--sklearn-color-unfitted-level-3);\n",
              "  color: var(--sklearn-color-background);\n",
              "  text-decoration: none;\n",
              "}\n",
              "\n",
              "div.sk-estimator.fitted:hover .sk-estimator-doc-link.fitted:hover,\n",
              ".sk-estimator-doc-link.fitted:hover,\n",
              "div.sk-label-container:hover .sk-estimator-doc-link.fitted:hover,\n",
              ".sk-estimator-doc-link.fitted:hover {\n",
              "  /* fitted */\n",
              "  background-color: var(--sklearn-color-fitted-level-3);\n",
              "  color: var(--sklearn-color-background);\n",
              "  text-decoration: none;\n",
              "}\n",
              "\n",
              "/* Span, style for the box shown on hovering the info icon */\n",
              ".sk-estimator-doc-link span {\n",
              "  display: none;\n",
              "  z-index: 9999;\n",
              "  position: relative;\n",
              "  font-weight: normal;\n",
              "  right: .2ex;\n",
              "  padding: .5ex;\n",
              "  margin: .5ex;\n",
              "  width: min-content;\n",
              "  min-width: 20ex;\n",
              "  max-width: 50ex;\n",
              "  color: var(--sklearn-color-text);\n",
              "  box-shadow: 2pt 2pt 4pt #999;\n",
              "  /* unfitted */\n",
              "  background: var(--sklearn-color-unfitted-level-0);\n",
              "  border: .5pt solid var(--sklearn-color-unfitted-level-3);\n",
              "}\n",
              "\n",
              ".sk-estimator-doc-link.fitted span {\n",
              "  /* fitted */\n",
              "  background: var(--sklearn-color-fitted-level-0);\n",
              "  border: var(--sklearn-color-fitted-level-3);\n",
              "}\n",
              "\n",
              ".sk-estimator-doc-link:hover span {\n",
              "  display: block;\n",
              "}\n",
              "\n",
              "/* \"?\"-specific style due to the `<a>` HTML tag */\n",
              "\n",
              "#sk-container-id-1 a.estimator_doc_link {\n",
              "  float: right;\n",
              "  font-size: 1rem;\n",
              "  line-height: 1em;\n",
              "  font-family: monospace;\n",
              "  background-color: var(--sklearn-color-background);\n",
              "  border-radius: 1rem;\n",
              "  height: 1rem;\n",
              "  width: 1rem;\n",
              "  text-decoration: none;\n",
              "  /* unfitted */\n",
              "  color: var(--sklearn-color-unfitted-level-1);\n",
              "  border: var(--sklearn-color-unfitted-level-1) 1pt solid;\n",
              "}\n",
              "\n",
              "#sk-container-id-1 a.estimator_doc_link.fitted {\n",
              "  /* fitted */\n",
              "  border: var(--sklearn-color-fitted-level-1) 1pt solid;\n",
              "  color: var(--sklearn-color-fitted-level-1);\n",
              "}\n",
              "\n",
              "/* On hover */\n",
              "#sk-container-id-1 a.estimator_doc_link:hover {\n",
              "  /* unfitted */\n",
              "  background-color: var(--sklearn-color-unfitted-level-3);\n",
              "  color: var(--sklearn-color-background);\n",
              "  text-decoration: none;\n",
              "}\n",
              "\n",
              "#sk-container-id-1 a.estimator_doc_link.fitted:hover {\n",
              "  /* fitted */\n",
              "  background-color: var(--sklearn-color-fitted-level-3);\n",
              "}\n",
              "</style><div id=\"sk-container-id-1\" class=\"sk-top-container\"><div class=\"sk-text-repr-fallback\"><pre>LogisticRegression()</pre><b>In a Jupyter environment, please rerun this cell to show the HTML representation or trust the notebook. <br />On GitHub, the HTML representation is unable to render, please try loading this page with nbviewer.org.</b></div><div class=\"sk-container\" hidden><div class=\"sk-item\"><div class=\"sk-estimator fitted sk-toggleable\"><input class=\"sk-toggleable__control sk-hidden--visually\" id=\"sk-estimator-id-1\" type=\"checkbox\" checked><label for=\"sk-estimator-id-1\" class=\"sk-toggleable__label fitted sk-toggleable__label-arrow fitted\">&nbsp;&nbsp;LogisticRegression<a class=\"sk-estimator-doc-link fitted\" rel=\"noreferrer\" target=\"_blank\" href=\"https://scikit-learn.org/1.4/modules/generated/sklearn.linear_model.LogisticRegression.html\">?<span>Documentation for LogisticRegression</span></a><span class=\"sk-estimator-doc-link fitted\">i<span>Fitted</span></span></label><div class=\"sk-toggleable__content fitted\"><pre>LogisticRegression()</pre></div> </div></div></div></div>"
            ],
            "text/plain": [
              "LogisticRegression()"
            ]
          },
          "execution_count": 6,
          "metadata": {},
          "output_type": "execute_result"
        }
      ],
      "source": [
        "model_linRegr = LinearRegression()\n",
        "model_linRegr.fit(X_train_regr, y_train_regr)\n",
        "\n",
        "model_logRegr = LogisticRegression()\n",
        "model_logRegr.fit(X_train_class, y_train_class)\n"
      ]
    },
    {
      "cell_type": "code",
      "execution_count": 7,
      "metadata": {
        "colab": {
          "base_uri": "https://localhost:8080/"
        },
        "id": "3Ymf2PEciDS3",
        "outputId": "21a04339-af45-42a7-b5cf-6e915c7a7763"
      },
      "outputs": [
        {
          "name": "stdout",
          "output_type": "stream",
          "text": [
            "classif. accuracy:  0.6365318774868141\n"
          ]
        }
      ],
      "source": [
        "predicted_class = model_logRegr.predict(X_test_class)\n",
        "print(\"classif. accuracy: \",metrics.accuracy_score(y_test_class,predicted_class))"
      ]
    },
    {
      "cell_type": "markdown",
      "metadata": {
        "id": "4p3jl5fdDDqO"
      },
      "source": [
        "Получаем значение accuracy - 0.6365318774868141."
      ]
    },
    {
      "cell_type": "markdown",
      "metadata": {
        "id": "7z2cWYuqgNu_"
      },
      "source": [
        "В качестве метрик качества модели линейной регрессии используем MSE и R2 scrore"
      ]
    },
    {
      "cell_type": "code",
      "execution_count": 8,
      "metadata": {
        "colab": {
          "base_uri": "https://localhost:8080/"
        },
        "id": "vovdb0e12uIU",
        "outputId": "f3eb6880-b290-4ebe-e364-0d26535b7785"
      },
      "outputs": [
        {
          "name": "stdout",
          "output_type": "stream",
          "text": [
            "MSE:  0.07618079814311705\n",
            "R2:  0.9999210644865327\n"
          ]
        }
      ],
      "source": [
        "predicted_regr = model_linRegr.predict(X_test_regr)\n",
        "print(\"MSE: \",metrics.mean_squared_error(y_test_regr, predicted_regr))\n",
        "print(\"R2: \",metrics.r2_score(y_test_regr, predicted_regr))"
      ]
    },
    {
      "cell_type": "markdown",
      "metadata": {
        "id": "IKgh_LsegcjQ"
      },
      "source": [
        "Получаем хорошие результаты - R2=0.99. Есть потенциал для улучшния. Построим графики для обоих задач, чтобы визуализировать ошибки"
      ]
    },
    {
      "cell_type": "code",
      "execution_count": 9,
      "metadata": {
        "colab": {
          "base_uri": "https://localhost:8080/",
          "height": 482
        },
        "id": "rV6S7zOz4tic",
        "outputId": "e70a600b-75b3-442f-e7fc-d9eae41a4862"
      },
      "outputs": [
        {
          "data": {
            "text/plain": [
              "<matplotlib.legend.Legend at 0x176eeac10>"
            ]
          },
          "execution_count": 9,
          "metadata": {},
          "output_type": "execute_result"
        },
        {
          "data": {
            "image/png": "[encoded data removed]",
            "text/plain": [
              "<Figure size 640x480 with 1 Axes>"
            ]
          },
          "metadata": {},
          "output_type": "display_data"
        }
      ],
      "source": [
        "import seaborn as sns\n",
        "sns.kdeplot(y_test_regr, label='Actual', color='blue', fill=True)\n",
        "sns.kdeplot(predicted_regr, label='Predicted', color='red', fill=True)\n",
        "plt.xlabel('Gold close price')\n",
        "plt.ylabel('Density')\n",
        "plt.legend()"
      ]
    },
    {
      "cell_type": "code",
      "execution_count": 10,
      "metadata": {
        "colab": {
          "base_uri": "https://localhost:8080/",
          "height": 466
        },
        "id": "TPmdxzBK40j7",
        "outputId": "866b2a9e-5dd9-45d9-f4bf-edd275dc618c"
      },
      "outputs": [
        {
          "data": {
            "text/plain": [
              "<matplotlib.legend.Legend at 0x176fd2650>"
            ]
          },
          "execution_count": 10,
          "metadata": {},
          "output_type": "execute_result"
        },
        {
          "data": {
            "image/png": "[encoded data removed]",
            "text/plain": [
              "<Figure size 640x480 with 1 Axes>"
            ]
          },
          "metadata": {},
          "output_type": "display_data"
        }
      ],
      "source": [
        "import seaborn as sns\n",
        "sns.kdeplot(y_test_class, label='Actual', color='blue', fill=True)\n",
        "sns.kdeplot(predicted_class, label='Predicted', color='red', fill=True)\n",
        "plt.xlabel('Mushroom edible')\n",
        "plt.ylabel('Density')\n",
        "plt.legend()"
      ]
    },
    {
      "cell_type": "markdown",
      "metadata": {
        "id": "nGHj_3wL5CcM"
      },
      "source": [
        "По итогу получаем очень хорошие значения для линейной регрессии и вполне неплохие для логистической регрессии."
      ]
    },
    {
      "cell_type": "markdown",
      "metadata": {
        "id": "TXWMOPdi5Gzk"
      },
      "source": [
        "# Улучшение бейзлайна задачи классификации"
      ]
    },
    {
      "cell_type": "markdown",
      "metadata": {
        "id": "9Kn2PP2N76MF"
      },
      "source": [
        "Гипотезы для улучшения бейзлайна логистической классификации: \\\n",
        "- Обработка дисбаланса классов попробуем использовать SMOTE, чтобы улучшить это\n",
        "- Попробуем использовать полиномиальные признаки\n",
        "- Используем отбор признаков (Feature Selection), т.к. удаление нерелевантных  признаков может повысить точность\n",
        "- Используем GridSearchCV для поиска лучших гиперпараметров"
      ]
    },
    {
      "cell_type": "code",
      "execution_count": 11,
      "metadata": {
        "colab": {
          "base_uri": "https://localhost:8080/"
        },
        "id": "7fhSzl_UVUru",
        "outputId": "62372e51-23e0-4563-a87b-4b1e1cd9fd3c"
      },
      "outputs": [
        {
          "name": "stdout",
          "output_type": "stream",
          "text": [
            "best params: {'C': 0.01, 'penalty': 'l2', 'solver': 'lbfgs'}\n",
            "classif. accuracy: 0.6507160909856782\n"
          ]
        }
      ],
      "source": [
        "from imblearn.over_sampling import SMOTE\n",
        "from sklearn.preprocessing import StandardScaler, LabelEncoder, PolynomialFeatures\n",
        "from sklearn.metrics import accuracy_score, confusion_matrix, f1_score\n",
        "from imblearn.over_sampling import SMOTE\n",
        "from sklearn.feature_selection import SelectKBest, f_classif\n",
        "X = data_class.drop(columns=[\"class\"], errors='ignore')\n",
        "y = data_class[\"class\"]\n",
        "\n",
        "smote = SMOTE(random_state=42)\n",
        "X, y = smote.fit_resample(X, y)\n",
        "\n",
        "# тестовая и обуч. выборки\n",
        "X_train_class, X_test_class, y_train_class, y_test_class = train_test_split(X, y, test_size=0.2, random_state=42)\n",
        "\n",
        "#нормализация\n",
        "scaler = StandardScaler()\n",
        "X_train_class = scaler.fit_transform(X_train_class)\n",
        "X_test_class = scaler.transform(X_test_class)\n",
        "# полиномиальные признаки\n",
        "poly = PolynomialFeatures(degree=2, interaction_only=True, include_bias=False)\n",
        "X_train_poly = poly.fit_transform(X_train_class)\n",
        "X_test_poly = poly.transform(X_test_class)\n",
        "\n",
        "selector = SelectKBest(f_classif, k=10) # выберем лучшие признаки\n",
        "X_train_selected = selector.fit_transform(X_train_poly, y_train_class)\n",
        "X_test_selected = selector.transform(X_test_poly)\n",
        "\n",
        "param_grid = {'C': [0.01, 0.1, 1, 10, 100], 'penalty': ['l2'], 'solver': ['lbfgs']}\n",
        "grid = GridSearchCV(LogisticRegression(max_iter=1000), param_grid, cv=5, scoring='f1_weighted')\n",
        "grid.fit(X_train_selected, y_train_class)\n",
        "\n",
        "best_model = grid.best_estimator_\n",
        "y_pred = best_model.predict(X_test_selected)\n",
        "\n",
        "print(\"best params:\", grid.best_params_)\n",
        "print(\"classif. accuracy:\", accuracy_score(y_test_class, y_pred))"
      ]
    },
    {
      "cell_type": "markdown",
      "metadata": {
        "id": "Zm78q8TVFSXX"
      },
      "source": [
        "Получили большее значение точности -- 65%"
      ]
    },
    {
      "cell_type": "markdown",
      "metadata": {
        "id": "XA_d8OrFMa1F"
      },
      "source": [
        "# Улучшение бейзлайна задачи регрессии\n",
        "Теперь перейдем к задаче регрессии. Будем предсказывать charges"
      ]
    },
    {
      "cell_type": "markdown",
      "metadata": {
        "id": "e1cqhicOMso3"
      },
      "source": [
        "Гипотезы по улучшению: \\\n",
        "- Добавление полиномиальных признаков\n",
        "- Отбор лучших признаков\n",
        "- Гиперпараметрическая оптимизация: Регуляризация для повышения устойчивости модели\n",
        "\n",
        "Добавим полиномиальные признаки, выполним отбор признаков.\n",
        "Применим Ridge и Lasso регрессию для регуляризации и сравним их с бейзлайном"
      ]
    },
    {
      "cell_type": "code",
      "execution_count": 12,
      "metadata": {
        "colab": {
          "base_uri": "https://localhost:8080/",
          "height": 713
        },
        "id": "jiudd6hxMHZf",
        "outputId": "50b3ad6c-4192-4173-8b3d-e37c0dffdc6b"
      },
      "outputs": [
        {
          "name": "stdout",
          "output_type": "stream",
          "text": [
            "Ridge regr:\n",
            "best alpha: 10\n",
            "MSE: 0.14846372902961996\n",
            "R2: 0.9998461677881058\n"
          ]
        },
        {
          "name": "stderr",
          "output_type": "stream",
          "text": [
            "/Library/Frameworks/Python.framework/Versions/3.11/lib/python3.11/site-packages/sklearn/linear_model/_coordinate_descent.py:678: ConvergenceWarning: Objective did not converge. You might want to increase the number of iterations, check the scale of the features or consider increasing regularisation. Duality gap: 2.341e+02, tolerance: 2.012e+02\n",
            "  model = cd_fast.enet_coordinate_descent(\n",
            "/Library/Frameworks/Python.framework/Versions/3.11/lib/python3.11/site-packages/sklearn/linear_model/_coordinate_descent.py:678: ConvergenceWarning: Objective did not converge. You might want to increase the number of iterations, check the scale of the features or consider increasing regularisation. Duality gap: 2.303e+02, tolerance: 1.982e+02\n",
            "  model = cd_fast.enet_coordinate_descent(\n",
            "/Library/Frameworks/Python.framework/Versions/3.11/lib/python3.11/site-packages/sklearn/linear_model/_coordinate_descent.py:678: ConvergenceWarning: Objective did not converge. You might want to increase the number of iterations, check the scale of the features or consider increasing regularisation. Duality gap: 2.372e+02, tolerance: 1.977e+02\n",
            "  model = cd_fast.enet_coordinate_descent(\n",
            "/Library/Frameworks/Python.framework/Versions/3.11/lib/python3.11/site-packages/sklearn/linear_model/_coordinate_descent.py:678: ConvergenceWarning: Objective did not converge. You might want to increase the number of iterations, check the scale of the features or consider increasing regularisation. Duality gap: 2.374e+02, tolerance: 1.998e+02\n",
            "  model = cd_fast.enet_coordinate_descent(\n",
            "/Library/Frameworks/Python.framework/Versions/3.11/lib/python3.11/site-packages/sklearn/linear_model/_coordinate_descent.py:678: ConvergenceWarning: Objective did not converge. You might want to increase the number of iterations, check the scale of the features or consider increasing regularisation. Duality gap: 2.339e+02, tolerance: 1.950e+02\n",
            "  model = cd_fast.enet_coordinate_descent(\n",
            "/Library/Frameworks/Python.framework/Versions/3.11/lib/python3.11/site-packages/sklearn/linear_model/_coordinate_descent.py:678: ConvergenceWarning: Objective did not converge. You might want to increase the number of iterations, check the scale of the features or consider increasing regularisation. Duality gap: 4.281e+02, tolerance: 2.012e+02\n",
            "  model = cd_fast.enet_coordinate_descent(\n",
            "/Library/Frameworks/Python.framework/Versions/3.11/lib/python3.11/site-packages/sklearn/linear_model/_coordinate_descent.py:678: ConvergenceWarning: Objective did not converge. You might want to increase the number of iterations, check the scale of the features or consider increasing regularisation. Duality gap: 4.204e+02, tolerance: 1.982e+02\n",
            "  model = cd_fast.enet_coordinate_descent(\n",
            "/Library/Frameworks/Python.framework/Versions/3.11/lib/python3.11/site-packages/sklearn/linear_model/_coordinate_descent.py:678: ConvergenceWarning: Objective did not converge. You might want to increase the number of iterations, check the scale of the features or consider increasing regularisation. Duality gap: 4.314e+02, tolerance: 1.977e+02\n",
            "  model = cd_fast.enet_coordinate_descent(\n",
            "/Library/Frameworks/Python.framework/Versions/3.11/lib/python3.11/site-packages/sklearn/linear_model/_coordinate_descent.py:678: ConvergenceWarning: Objective did not converge. You might want to increase the number of iterations, check the scale of the features or consider increasing regularisation. Duality gap: 4.310e+02, tolerance: 1.998e+02\n",
            "  model = cd_fast.enet_coordinate_descent(\n",
            "/Library/Frameworks/Python.framework/Versions/3.11/lib/python3.11/site-packages/sklearn/linear_model/_coordinate_descent.py:678: ConvergenceWarning: Objective did not converge. You might want to increase the number of iterations, check the scale of the features or consider increasing regularisation. Duality gap: 4.254e+02, tolerance: 1.950e+02\n",
            "  model = cd_fast.enet_coordinate_descent(\n",
            "/Library/Frameworks/Python.framework/Versions/3.11/lib/python3.11/site-packages/sklearn/linear_model/_coordinate_descent.py:678: ConvergenceWarning: Objective did not converge. You might want to increase the number of iterations, check the scale of the features or consider increasing regularisation. Duality gap: 2.166e+03, tolerance: 2.012e+02\n",
            "  model = cd_fast.enet_coordinate_descent(\n",
            "/Library/Frameworks/Python.framework/Versions/3.11/lib/python3.11/site-packages/sklearn/linear_model/_coordinate_descent.py:678: ConvergenceWarning: Objective did not converge. You might want to increase the number of iterations, check the scale of the features or consider increasing regularisation. Duality gap: 2.142e+03, tolerance: 1.982e+02\n",
            "  model = cd_fast.enet_coordinate_descent(\n",
            "/Library/Frameworks/Python.framework/Versions/3.11/lib/python3.11/site-packages/sklearn/linear_model/_coordinate_descent.py:678: ConvergenceWarning: Objective did not converge. You might want to increase the number of iterations, check the scale of the features or consider increasing regularisation. Duality gap: 2.192e+03, tolerance: 1.977e+02\n",
            "  model = cd_fast.enet_coordinate_descent(\n",
            "/Library/Frameworks/Python.framework/Versions/3.11/lib/python3.11/site-packages/sklearn/linear_model/_coordinate_descent.py:678: ConvergenceWarning: Objective did not converge. You might want to increase the number of iterations, check the scale of the features or consider increasing regularisation. Duality gap: 2.174e+03, tolerance: 1.998e+02\n",
            "  model = cd_fast.enet_coordinate_descent(\n",
            "/Library/Frameworks/Python.framework/Versions/3.11/lib/python3.11/site-packages/sklearn/linear_model/_coordinate_descent.py:678: ConvergenceWarning: Objective did not converge. You might want to increase the number of iterations, check the scale of the features or consider increasing regularisation. Duality gap: 2.174e+03, tolerance: 1.950e+02\n",
            "  model = cd_fast.enet_coordinate_descent(\n",
            "/Library/Frameworks/Python.framework/Versions/3.11/lib/python3.11/site-packages/sklearn/linear_model/_coordinate_descent.py:678: ConvergenceWarning: Objective did not converge. You might want to increase the number of iterations, check the scale of the features or consider increasing regularisation. Duality gap: 1.419e+03, tolerance: 1.982e+02\n",
            "  model = cd_fast.enet_coordinate_descent(\n",
            "/Library/Frameworks/Python.framework/Versions/3.11/lib/python3.11/site-packages/sklearn/linear_model/_coordinate_descent.py:678: ConvergenceWarning: Objective did not converge. You might want to increase the number of iterations, check the scale of the features or consider increasing regularisation. Duality gap: 2.517e+03, tolerance: 1.977e+02\n",
            "  model = cd_fast.enet_coordinate_descent(\n",
            "/Library/Frameworks/Python.framework/Versions/3.11/lib/python3.11/site-packages/sklearn/linear_model/_coordinate_descent.py:678: ConvergenceWarning: Objective did not converge. You might want to increase the number of iterations, check the scale of the features or consider increasing regularisation. Duality gap: 7.670e+02, tolerance: 1.998e+02\n",
            "  model = cd_fast.enet_coordinate_descent(\n",
            "/Library/Frameworks/Python.framework/Versions/3.11/lib/python3.11/site-packages/sklearn/linear_model/_coordinate_descent.py:678: ConvergenceWarning: Objective did not converge. You might want to increase the number of iterations, check the scale of the features or consider increasing regularisation. Duality gap: 2.940e+02, tolerance: 2.480e+02\n",
            "  model = cd_fast.enet_coordinate_descent(\n"
          ]
        },
        {
          "name": "stdout",
          "output_type": "stream",
          "text": [
            "\n",
            "Lasso regr\n",
            "best alpha: 0.01\n",
            "MSE:  0.14760987456990626\n",
            "R2: 0.9998470525181408\n"
          ]
        },
        {
          "data": {
            "image/png": "[encoded data removed]",
            "text/plain": [
              "<Figure size 1000x600 with 1 Axes>"
            ]
          },
          "metadata": {},
          "output_type": "display_data"
        }
      ],
      "source": [
        "from sklearn.feature_selection import SelectKBest, f_regression\n",
        "from sklearn.linear_model import Ridge, Lasso\n",
        "from sklearn.metrics import mean_squared_error, r2_score\n",
        "\n",
        "poly = PolynomialFeatures(degree=2, interaction_only=True, include_bias=False)\n",
        "X_train_poly = poly.fit_transform(X_train_regr)\n",
        "X_test_poly = poly.transform(X_test_regr)\n",
        "\n",
        "#как и в примере  выше, отберем лучшие признаки\n",
        "selector = SelectKBest(f_regression, k=10)\n",
        "X_train_selected = selector.fit_transform(X_train_poly, y_train_regr)\n",
        "X_test_selected = selector.transform(X_test_poly)\n",
        "\n",
        "ridge = Ridge()\n",
        "ridge_params = {'alpha': [0.1, 1, 10, 100]}\n",
        "ridge_grid = GridSearchCV(ridge, ridge_params, cv=5, scoring='r2')\n",
        "ridge_grid.fit(X_train_selected, y_train_regr)\n",
        "ridge_best = ridge_grid.best_estimator_\n",
        "ridge_pred = ridge_best.predict(X_test_selected)\n",
        "print(\"Ridge regr:\")\n",
        "print(\"best alpha:\", ridge_grid.best_params_['alpha'])\n",
        "print(\"MSE:\", mean_squared_error(y_test_regr, ridge_pred))\n",
        "print(\"R2:\", r2_score(y_test_regr, ridge_pred))\n",
        "\n",
        "lasso = Lasso(max_iter=10000)\n",
        "lasso_params = {'alpha': [0.01, 0.1, 1, 10]}\n",
        "lasso_grid = GridSearchCV(lasso, lasso_params, cv=5, scoring='r2')\n",
        "lasso_grid.fit(X_train_selected, y_train_regr)\n",
        "lasso_best = lasso_grid.best_estimator_\n",
        "lasso_pred = lasso_best.predict(X_test_selected)\n",
        "print(\"\\nLasso regr\")\n",
        "print(\"best alpha:\", lasso_grid.best_params_['alpha'])\n",
        "print(\"MSE: \", mean_squared_error(y_test_regr, lasso_pred))\n",
        "print(\"R2:\", r2_score(y_test_regr, lasso_pred))\n",
        "\n",
        "#посмотрим на результаты\n",
        "plt.figure(figsize=(10, 6))\n",
        "sns.kdeplot(y_test_regr, label='Actual', color='blue', fill=True)\n",
        "sns.kdeplot(predicted_regr, label='Baseline', color='red', fill=True)\n",
        "sns.kdeplot(ridge_pred, label='Ridge', color='green', fill=True)\n",
        "sns.kdeplot(lasso_pred, label='Lasso', color='purple', fill=True)\n",
        "plt.xlabel('Gold close price')\n",
        "plt.ylabel('Density')\n",
        "plt.legend()\n",
        "plt.show()"
      ]
    },
    {
      "cell_type": "markdown",
      "metadata": {
        "id": "QxjhA-kHIJc0"
      },
      "source": [
        "Гипотезы особенно не улучшили и без того отличные результаты"
      ]
    },
    {
      "cell_type": "markdown",
      "metadata": {
        "id": "X7xPQe6hNGfH"
      },
      "source": [
        "# Самостоятельная имплементация логистической регрессии"
      ]
    },
    {
      "cell_type": "markdown",
      "metadata": {
        "id": "b2qyh0q9JE1E"
      },
      "source": [
        "Определим класс регрессора со всеми необходимыми функциями:"
      ]
    },
    {
      "cell_type": "code",
      "execution_count": 13,
      "metadata": {
        "id": "T0ee1e9HNLfv"
      },
      "outputs": [],
      "source": [
        "import numpy as np\n",
        "from sklearn.metrics import accuracy_score, f1_score, confusion_matrix\n",
        "\n",
        "class MyLogisticRegression:\n",
        "    def __init__(self, learning_rate=0.01, max_iter=1000):\n",
        "        self.learning_rate = learning_rate\n",
        "        self.max_iter = max_iter\n",
        "        self.theta = None\n",
        "\n",
        "    def sigmoid(self, z):\n",
        "        return 1 / (1 + np.exp(-z))\n",
        "\n",
        "    def cost_function(self, X, y):\n",
        "        m = len(y)\n",
        "        h = self.sigmoid(np.dot(X, self.theta))\n",
        "        cost = (-1 / m) * (np.dot(y, np.log(h)) + np.dot((1 - y), np.log(1 - h)))\n",
        "        return cost\n",
        "\n",
        "    def fit(self, X, y):\n",
        "        m, n = X.shape\n",
        "        self.theta = np.zeros(n)\n",
        "        for i in range(self.max_iter):\n",
        "            h = self.sigmoid(np.dot(X, self.theta))\n",
        "            gradient = (1 / m) * np.dot(X.T, (h - y))\n",
        "            self.theta -= self.learning_rate * gradient\n",
        "\n",
        "    def predict(self, X):\n",
        "        probabilities = self.sigmoid(np.dot(X, self.theta))\n",
        "        return (probabilities >= 0.5).astype(int)"
      ]
    },
    {
      "cell_type": "markdown",
      "metadata": {
        "id": "GUmQJsBVowyh"
      },
      "source": [
        "Проведем все те же действия - обучим бейзлайн"
      ]
    },
    {
      "cell_type": "code",
      "execution_count": 14,
      "metadata": {
        "colab": {
          "base_uri": "https://localhost:8080/"
        },
        "id": "X0t8-cb_NRHn",
        "outputId": "d2eb4915-294f-418f-8415-bded2d7d790f"
      },
      "outputs": [
        {
          "name": "stdout",
          "output_type": "stream",
          "text": [
            "Модель из sklearn:\n",
            "accuracy: 0.6365318774868141\n",
            "\n",
            "Собственная модель:\n",
            "accuracy: 0.6432867585824003\n"
          ]
        }
      ],
      "source": [
        "file_path = \"../mushroom_cleaned.csv\"\n",
        "data_class = pd.read_csv(file_path)\n",
        "\n",
        "imputer = SimpleImputer(strategy='mean')\n",
        "numerical_columns = data_class.select_dtypes(include=['int64', 'float64']).columns\n",
        "data_class[numerical_columns] = imputer.fit_transform(data_class[numerical_columns])\n",
        "\n",
        "categorical_columns = data_class.select_dtypes(include=['object']).columns\n",
        "label_encoders = {}\n",
        "for column in categorical_columns:\n",
        "    le = LabelEncoder()\n",
        "    data_class[column] = le.fit_transform(data_class[column].astype(str))\n",
        "    label_encoders[column] = le\n",
        "\n",
        "X = data_class.drop(columns=['class'], errors='ignore')\n",
        "y = data_class['class']\n",
        "\n",
        "scaler = StandardScaler()\n",
        "X = scaler.fit_transform(X)\n",
        "\n",
        "X_train, X_test, y_train, y_test = train_test_split(X, y, test_size=0.2, random_state=42)\n",
        "\n",
        "from sklearn.linear_model import LogisticRegression\n",
        "sklearn_model = LogisticRegression(max_iter=1000)\n",
        "sklearn_model.fit(X_train, y_train)\n",
        "sklearn_pred = sklearn_model.predict(X_test)\n",
        "\n",
        "print(\"Модель из sklearn:\")\n",
        "print(\"accuracy:\", accuracy_score(y_test, sklearn_pred))\n",
        "\n",
        "my_model = MyLogisticRegression(learning_rate=0.1, max_iter=1000)\n",
        "my_model.fit(X_train, y_train)\n",
        "my_pred = my_model.predict(X_test)\n",
        "\n",
        "print(\"\\nСобственная модель:\")\n",
        "print(\"accuracy:\", accuracy_score(y_test, my_pred))\n"
      ]
    },
    {
      "cell_type": "markdown",
      "metadata": {
        "id": "xfiLefJUqKjS"
      },
      "source": [
        "Видно, что собственная реализация модели имеет чуть более высокий уровень accuracy, чем у библиотечной. Применим те же гипотезы по улучшнению качества модели."
      ]
    },
    {
      "cell_type": "code",
      "execution_count": 15,
      "metadata": {
        "colab": {
          "base_uri": "https://localhost:8080/",
          "height": 629
        },
        "id": "Lz1BBsD8Fpud",
        "outputId": "b85314a6-7950-4396-dd7c-e04c3ffea015"
      },
      "outputs": [
        {
          "name": "stdout",
          "output_type": "stream",
          "text": [
            "Улучшенная собственная модель:\n",
            "accuracy: 0.6487784330244314\n",
            "\n",
            "Улучшенная библиотечная модель:\n",
            "accuracy: 0.651474304970514\n"
          ]
        },
        {
          "data": {
            "image/png": "[encoded data removed]",
            "text/plain": [
              "<Figure size 1000x600 with 1 Axes>"
            ]
          },
          "metadata": {},
          "output_type": "display_data"
        }
      ],
      "source": [
        "from imblearn.over_sampling import SMOTE\n",
        "from sklearn.feature_selection import SelectKBest, f_classif\n",
        "from sklearn.preprocessing import PolynomialFeatures\n",
        "import matplotlib.pyplot as plt\n",
        "\n",
        "smote = SMOTE(random_state=42)\n",
        "X_smote, y_smote = smote.fit_resample(X, y)\n",
        "\n",
        "X_train, X_test, y_train, y_test = train_test_split(X_smote, y_smote, test_size=0.2, random_state=42)\n",
        "\n",
        "poly = PolynomialFeatures(degree=2, interaction_only=True, include_bias=False)\n",
        "X_train_poly = poly.fit_transform(X_train)\n",
        "X_test_poly = poly.transform(X_test)\n",
        "\n",
        "selector = SelectKBest(f_classif, k=10)\n",
        "X_train_selected = selector.fit_transform(X_train_poly, y_train)\n",
        "X_test_selected = selector.transform(X_test_poly)\n",
        "\n",
        "my_model = MyLogisticRegression(learning_rate=0.1, max_iter=1000)\n",
        "my_model.fit(X_train_selected, y_train)\n",
        "my_pred = my_model.predict(X_test_selected)\n",
        "\n",
        "print(\"Улучшенная собственная модель:\")\n",
        "print(\"accuracy:\", accuracy_score(y_test, my_pred))\n",
        "\n",
        "sklearn_model = LogisticRegression(max_iter=1000)\n",
        "sklearn_model.fit(X_train_selected, y_train)\n",
        "sklearn_pred = sklearn_model.predict(X_test_selected)\n",
        "\n",
        "print(\"\\nУлучшенная библиотечная модель:\")\n",
        "print(\"accuracy:\", accuracy_score(y_test, sklearn_pred))\n",
        "\n",
        "plt.figure(figsize=(10, 6))\n",
        "sns.kdeplot(y_test, label='Actual', color='blue', fill=True)\n",
        "sns.kdeplot(my_pred, label='my model', color='red', fill=True)\n",
        "sns.kdeplot(sklearn_pred, label='sklearn model', color='green', fill=True)\n",
        "plt.xlabel('mushroom edible')\n",
        "plt.ylabel('Density')\n",
        "plt.legend()\n",
        "plt.show()\n"
      ]
    },
    {
      "cell_type": "markdown",
      "metadata": {
        "id": "P1dNX6RYr51h"
      },
      "source": [
        "Видим, что собственная реализация проявляет чуть лучшую точность, чем библиотечная модель sklearn."
      ]
    },
    {
      "cell_type": "markdown",
      "metadata": {
        "id": "R7-HT5QYQD6A"
      },
      "source": [
        "# Самостоятельная имплементация линейной регрессии:"
      ]
    },
    {
      "cell_type": "markdown",
      "metadata": {
        "id": "VgNW3YSOK3DT"
      },
      "source": [
        "Перейдем к самостоятельной имплементации классификации. Опишем класс, повторим действия по обучению"
      ]
    },
    {
      "cell_type": "code",
      "execution_count": 16,
      "metadata": {
        "colab": {
          "base_uri": "https://localhost:8080/"
        },
        "id": "W_5FMNbh9WQ1",
        "outputId": "29aaacb1-39da-4c33-ab08-06d1d0d284a9"
      },
      "outputs": [
        {
          "name": "stdout",
          "output_type": "stream",
          "text": [
            "MSE =  124139.83780450719\n",
            "R2 =  -127.62876312266124\n"
          ]
        }
      ],
      "source": [
        "import numpy as np\n",
        "from sklearn.metrics import mean_squared_error, r2_score\n",
        "import matplotlib.pyplot as plt\n",
        "from sklearn.model_selection import train_test_split\n",
        "from sklearn.preprocessing import PolynomialFeatures, StandardScaler\n",
        "from sklearn.feature_selection import SelectKBest, f_regression\n",
        "from sklearn.linear_model import LinearRegression\n",
        "from sklearn.model_selection import GridSearchCV\n",
        "\n",
        "class MyLinearRegression:\n",
        "    def __init__(self, lr, max_iter):\n",
        "        self.coef = None\n",
        "        self.itr = None\n",
        "    def fit(self, X, y):\n",
        "        x = np.c_[np.ones((X.shape[0], 1)), X]\n",
        "        theta = np.linalg.inv(x.T.dot(x)).dot(x.T).dot(y)\n",
        "        self.itr = theta[0]\n",
        "        self.coef = theta[1:]\n",
        "    def predict(self, X):\n",
        "        return np.dot(X, self.coef) + self.itr\n",
        "\n",
        "\n",
        "file_path2 = \"../financial_regression.csv\"\n",
        "data_regr = pd.read_csv(file_path2)\n",
        "\n",
        "# Преобразование категориальных данных\n",
        "categorical_columns = data_regr.select_dtypes(include=['object']).columns\n",
        "label_encoders = {}\n",
        "for column in categorical_columns:\n",
        "    le = LabelEncoder()\n",
        "    data_regr[column] = le.fit_transform(data_regr[column].astype(str))\n",
        "    label_encoders[column] = le\n",
        "\n",
        "data_regr = data_regr.dropna(subset=['sp500 close', 'gold close'])\n",
        "data_regr = data_regr.drop(['us_rates_%', 'CPI', 'date', 'GDP'], axis=1)\n",
        "data_regr = data_regr.dropna()\n",
        "\n",
        "X = data_regr.drop('gold close', axis=1)\n",
        "y = data_regr['gold close']\n",
        "\n",
        "scaler = StandardScaler()\n",
        "X = scaler.fit_transform(X)\n",
        "\n",
        "X_train, X_test, y_train, y_test = train_test_split(X, y, test_size=0.2, random_state=42)\n",
        "\n",
        "my_model = MyLinearRegression(lr=0.01, max_iter=1000)\n",
        "my_model.fit(X_train, y_train)\n",
        "y_pred = my_model.predict(X_test)\n",
        "\n",
        "print(\"MSE = \", mean_squared_error(y_test, y_pred))\n",
        "print(\"R2 = \", r2_score(y_test, y_pred))\n",
        "\n"
      ]
    },
    {
      "cell_type": "markdown",
      "metadata": {
        "id": "YwKVHr_RuC4C"
      },
      "source": [
        "Видим R2 -127.62, что показывает, что у нас есть выбросы. Попробуем улучшить ситуацию. Удалим выбросы и применим остальные гипотезы"
      ]
    },
    {
      "cell_type": "code",
      "execution_count": 17,
      "metadata": {
        "colab": {
          "base_uri": "https://localhost:8080/",
          "height": 681
        },
        "id": "v-6xt2jQTJDm",
        "outputId": "2e5e0e2d-5978-4a0c-eab3-3f972f16624a"
      },
      "outputs": [
        {
          "name": "stdout",
          "output_type": "stream",
          "text": [
            "\n",
            "Улучшенная собственная модель:\n",
            "MSE: 0.14241662531495233\n",
            "R2: 0.9998311791591324\n",
            "\n",
            "Улучшенная библиотечная модель:\n",
            "MSE: 0.1424166253116621\n",
            "R2: 0.9998311791591363\n"
          ]
        },
        {
          "data": {
            "image/png": "[encoded data removed]",
            "text/plain": [
              "<Figure size 1000x600 with 1 Axes>"
            ]
          },
          "metadata": {},
          "output_type": "display_data"
        }
      ],
      "source": [
        "Q1 = np.percentile(y, 25)\n",
        "Q3 = np.percentile(y, 75)\n",
        "IQR = Q3 - Q1\n",
        "lb = Q1 - 1.5 * IQR\n",
        "ub = Q3 + 1.5 * IQR\n",
        "mask = (y >= lb) & (y <= ub)\n",
        "X_cleaned, y_cleaned = X[mask], y[mask]\n",
        "\n",
        "X_train, X_test, y_train, y_test = train_test_split(X_cleaned, y_cleaned, test_size=0.2, random_state=42)\n",
        "\n",
        "poly = PolynomialFeatures(degree=2, interaction_only=True, include_bias=False)\n",
        "X_train_poly = poly.fit_transform(X_train)\n",
        "X_test_poly = poly.transform(X_test)\n",
        "\n",
        "selector = SelectKBest(f_regression, k=10)\n",
        "X_train_selected = selector.fit_transform(X_train_poly, y_train)\n",
        "X_test_selected = selector.transform(X_test_poly)\n",
        "\n",
        "my_model_optim = MyLinearRegression(lr=0.01, max_iter=2000)\n",
        "my_model_optim.fit(X_train_selected, y_train)\n",
        "y_pred_optimized = my_model_optim.predict(X_test_selected)\n",
        "\n",
        "print(\"\\nУлучшенная собственная модель:\")\n",
        "print(\"MSE:\", mean_squared_error(y_test, y_pred_optimized))\n",
        "print(\"R2:\", r2_score(y_test, y_pred_optimized))\n",
        "\n",
        "sklearn_model = LinearRegression()\n",
        "sklearn_model.fit(X_train_selected, y_train)\n",
        "y_pred_sklearn = sklearn_model.predict(X_test_selected)\n",
        "\n",
        "print(\"\\nУлучшенная библиотечная модель:\")\n",
        "print(\"MSE:\", mean_squared_error(y_test, y_pred_sklearn))\n",
        "print(\"R2:\", r2_score(y_test, y_pred_sklearn))\n",
        "\n",
        "plt.figure(figsize=(10, 6))\n",
        "plt.scatter(y_test, y_pred_optimized, label='My model', alpha=0.7)\n",
        "#plt.scatter(y_test, y_pred_sklearn, label='Sklearn model', alpha=0.7)\n",
        "plt.plot([y_test.min(), y_test.max()], [y_test.min(), y_test.max()], 'k--', lw=2, label='Perfect')\n",
        "plt.xlabel('Actual')\n",
        "plt.ylabel('Predicted')\n",
        "plt.legend()\n",
        "plt.show()\n"
      ]
    },
    {
      "cell_type": "markdown",
      "metadata": {
        "id": "ef5GkBcHuv_K"
      },
      "source": [
        "Видим, что улучшения ни привели к значительному улучшению результата - собственная реализация и библиотечная имеют очень схожую высокую точность - 99.98%"
      ]
    }
  ],
  "metadata": {
    "colab": {
      "provenance": []
    },
    "kernelspec": {
      "display_name": "Python 3",
      "name": "python3"
    },
    "language_info": {
      "codemirror_mode": {
        "name": "ipython",
        "version": 3
      },
      "file_extension": ".py",
      "mimetype": "text/x-python",
      "name": "python",
      "nbconvert_exporter": "python",
      "pygments_lexer": "ipython3",
      "version": "3.11.8"
    }
  },
  "nbformat": 4,
  "nbformat_minor": 0
}
