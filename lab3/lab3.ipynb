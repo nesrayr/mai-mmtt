{
  "cells": [
    {
      "cell_type": "markdown",
      "metadata": {
        "id": "iwu9W9faBwbG"
      },
      "source": [
        "# ЛР №3 Проведение исследований с решающим деревом\n",
        "Для классификации был выбрал датасет '[Mushroom Dataset](https://www.kaggle.com/datasets/prishasawhney/mushroom-dataset)' \\\n",
        "Задачей было классифицировать съедобные и несъедобные грибы  \\\n",
        "Для регрессии был выбран датасет '[Gold Price Regression](https://www.kaggle.com/datasets/franciscogcc/financial-data)'\\\n",
        "Задачей было предсказывать стоимость золота."
      ]
    },
    {
      "cell_type": "markdown",
      "metadata": {
        "id": "U7l2u9R6CEd1"
      },
      "source": [
        "# Решающее дерево"
      ]
    },
    {
      "cell_type": "markdown",
      "metadata": {
        "id": "jWTvgV3GBxZl"
      },
      "source": [
        "Загружаем датасет и смотрим его верхние строки"
      ]
    },
    {
      "cell_type": "code",
      "execution_count": 2,
      "metadata": {
        "colab": {
          "base_uri": "https://localhost:8080/",
          "height": 255
        },
        "id": "VLIuEyBWPfgG",
        "outputId": "312889ce-42a3-4e86-f325-85216ec4a637"
      },
      "outputs": [
        {
          "data": {
            "text/html": [
              "<div>\n",
              "<style scoped>\n",
              "    .dataframe tbody tr th:only-of-type {\n",
              "        vertical-align: middle;\n",
              "    }\n",
              "\n",
              "    .dataframe tbody tr th {\n",
              "        vertical-align: top;\n",
              "    }\n",
              "\n",
              "    .dataframe thead th {\n",
              "        text-align: right;\n",
              "    }\n",
              "</style>\n",
              "<table border=\"1\" class=\"dataframe\">\n",
              "  <thead>\n",
              "    <tr style=\"text-align: right;\">\n",
              "      <th></th>\n",
              "      <th>cap-diameter</th>\n",
              "      <th>cap-shape</th>\n",
              "      <th>gill-attachment</th>\n",
              "      <th>gill-color</th>\n",
              "      <th>stem-height</th>\n",
              "      <th>stem-width</th>\n",
              "      <th>stem-color</th>\n",
              "      <th>season</th>\n",
              "      <th>class</th>\n",
              "    </tr>\n",
              "  </thead>\n",
              "  <tbody>\n",
              "    <tr>\n",
              "      <th>0</th>\n",
              "      <td>1372</td>\n",
              "      <td>2</td>\n",
              "      <td>2</td>\n",
              "      <td>10</td>\n",
              "      <td>3.807467</td>\n",
              "      <td>1545</td>\n",
              "      <td>11</td>\n",
              "      <td>1.804273</td>\n",
              "      <td>1</td>\n",
              "    </tr>\n",
              "    <tr>\n",
              "      <th>1</th>\n",
              "      <td>1461</td>\n",
              "      <td>2</td>\n",
              "      <td>2</td>\n",
              "      <td>10</td>\n",
              "      <td>3.807467</td>\n",
              "      <td>1557</td>\n",
              "      <td>11</td>\n",
              "      <td>1.804273</td>\n",
              "      <td>1</td>\n",
              "    </tr>\n",
              "    <tr>\n",
              "      <th>2</th>\n",
              "      <td>1371</td>\n",
              "      <td>2</td>\n",
              "      <td>2</td>\n",
              "      <td>10</td>\n",
              "      <td>3.612496</td>\n",
              "      <td>1566</td>\n",
              "      <td>11</td>\n",
              "      <td>1.804273</td>\n",
              "      <td>1</td>\n",
              "    </tr>\n",
              "    <tr>\n",
              "      <th>3</th>\n",
              "      <td>1261</td>\n",
              "      <td>6</td>\n",
              "      <td>2</td>\n",
              "      <td>10</td>\n",
              "      <td>3.787572</td>\n",
              "      <td>1566</td>\n",
              "      <td>11</td>\n",
              "      <td>1.804273</td>\n",
              "      <td>1</td>\n",
              "    </tr>\n",
              "    <tr>\n",
              "      <th>4</th>\n",
              "      <td>1305</td>\n",
              "      <td>6</td>\n",
              "      <td>2</td>\n",
              "      <td>10</td>\n",
              "      <td>3.711971</td>\n",
              "      <td>1464</td>\n",
              "      <td>11</td>\n",
              "      <td>0.943195</td>\n",
              "      <td>1</td>\n",
              "    </tr>\n",
              "  </tbody>\n",
              "</table>\n",
              "</div>"
            ],
            "text/plain": [
              "   cap-diameter  cap-shape  gill-attachment  gill-color  stem-height  \\\n",
              "0          1372          2                2          10     3.807467   \n",
              "1          1461          2                2          10     3.807467   \n",
              "2          1371          2                2          10     3.612496   \n",
              "3          1261          6                2          10     3.787572   \n",
              "4          1305          6                2          10     3.711971   \n",
              "\n",
              "   stem-width  stem-color    season  class  \n",
              "0        1545          11  1.804273      1  \n",
              "1        1557          11  1.804273      1  \n",
              "2        1566          11  1.804273      1  \n",
              "3        1566          11  1.804273      1  \n",
              "4        1464          11  0.943195      1  "
            ]
          },
          "execution_count": 2,
          "metadata": {},
          "output_type": "execute_result"
        }
      ],
      "source": [
        "import pandas as pd\n",
        "from sklearn.model_selection import train_test_split\n",
        "from sklearn.preprocessing import StandardScaler, LabelEncoder\n",
        "from sklearn.impute import SimpleImputer\n",
        "from sklearn.tree import DecisionTreeClassifier\n",
        "from sklearn.tree import DecisionTreeRegressor\n",
        "from sklearn import metrics\n",
        "import matplotlib.pyplot as plt\n",
        "import seaborn as sns\n",
        "\n",
        "file_path = \"../mushroom_cleaned.csv\"\n",
        "data_class = pd.read_csv(file_path)\n",
        "data_class.head()\n",
        "\n"
      ]
    },
    {
      "cell_type": "markdown",
      "metadata": {
        "id": "5-PLesNzerv4"
      },
      "source": [
        "То же самое для второго датасета"
      ]
    },
    {
      "cell_type": "code",
      "execution_count": 3,
      "metadata": {
        "colab": {
          "base_uri": "https://localhost:8080/",
          "height": 206
        },
        "id": "dMypl9uxbunJ",
        "outputId": "726d2808-2d33-4b4e-f89f-4f86526c5d3c"
      },
      "outputs": [
        {
          "data": {
            "text/html": [
              "<div>\n",
              "<style scoped>\n",
              "    .dataframe tbody tr th:only-of-type {\n",
              "        vertical-align: middle;\n",
              "    }\n",
              "\n",
              "    .dataframe tbody tr th {\n",
              "        vertical-align: top;\n",
              "    }\n",
              "\n",
              "    .dataframe thead th {\n",
              "        text-align: right;\n",
              "    }\n",
              "</style>\n",
              "<table border=\"1\" class=\"dataframe\">\n",
              "  <thead>\n",
              "    <tr style=\"text-align: right;\">\n",
              "      <th></th>\n",
              "      <th>date</th>\n",
              "      <th>sp500 open</th>\n",
              "      <th>sp500 high</th>\n",
              "      <th>sp500 low</th>\n",
              "      <th>sp500 close</th>\n",
              "      <th>sp500 volume</th>\n",
              "      <th>sp500 high-low</th>\n",
              "      <th>nasdaq open</th>\n",
              "      <th>nasdaq high</th>\n",
              "      <th>nasdaq low</th>\n",
              "      <th>...</th>\n",
              "      <th>palladium high</th>\n",
              "      <th>palladium low</th>\n",
              "      <th>palladium close</th>\n",
              "      <th>palladium volume</th>\n",
              "      <th>palladium high-low</th>\n",
              "      <th>gold open</th>\n",
              "      <th>gold high</th>\n",
              "      <th>gold low</th>\n",
              "      <th>gold close</th>\n",
              "      <th>gold volume</th>\n",
              "    </tr>\n",
              "  </thead>\n",
              "  <tbody>\n",
              "    <tr>\n",
              "      <th>0</th>\n",
              "      <td>2010-01-14</td>\n",
              "      <td>114.49</td>\n",
              "      <td>115.14</td>\n",
              "      <td>114.42</td>\n",
              "      <td>114.93</td>\n",
              "      <td>115646960.0</td>\n",
              "      <td>0.72</td>\n",
              "      <td>46.26</td>\n",
              "      <td>46.520</td>\n",
              "      <td>46.22</td>\n",
              "      <td>...</td>\n",
              "      <td>45.02</td>\n",
              "      <td>43.86</td>\n",
              "      <td>44.84</td>\n",
              "      <td>364528.0</td>\n",
              "      <td>1.16</td>\n",
              "      <td>111.51</td>\n",
              "      <td>112.37</td>\n",
              "      <td>110.79</td>\n",
              "      <td>112.03</td>\n",
              "      <td>18305238.0</td>\n",
              "    </tr>\n",
              "    <tr>\n",
              "      <th>1</th>\n",
              "      <td>2010-01-15</td>\n",
              "      <td>114.73</td>\n",
              "      <td>114.84</td>\n",
              "      <td>113.20</td>\n",
              "      <td>113.64</td>\n",
              "      <td>212252769.0</td>\n",
              "      <td>1.64</td>\n",
              "      <td>46.46</td>\n",
              "      <td>46.550</td>\n",
              "      <td>45.65</td>\n",
              "      <td>...</td>\n",
              "      <td>45.76</td>\n",
              "      <td>44.40</td>\n",
              "      <td>45.76</td>\n",
              "      <td>442210.0</td>\n",
              "      <td>1.36</td>\n",
              "      <td>111.35</td>\n",
              "      <td>112.01</td>\n",
              "      <td>110.38</td>\n",
              "      <td>110.86</td>\n",
              "      <td>18000724.0</td>\n",
              "    </tr>\n",
              "    <tr>\n",
              "      <th>2</th>\n",
              "      <td>2010-01-18</td>\n",
              "      <td>NaN</td>\n",
              "      <td>NaN</td>\n",
              "      <td>NaN</td>\n",
              "      <td>NaN</td>\n",
              "      <td>NaN</td>\n",
              "      <td>NaN</td>\n",
              "      <td>NaN</td>\n",
              "      <td>NaN</td>\n",
              "      <td>NaN</td>\n",
              "      <td>...</td>\n",
              "      <td>NaN</td>\n",
              "      <td>NaN</td>\n",
              "      <td>NaN</td>\n",
              "      <td>NaN</td>\n",
              "      <td>NaN</td>\n",
              "      <td>NaN</td>\n",
              "      <td>NaN</td>\n",
              "      <td>NaN</td>\n",
              "      <td>NaN</td>\n",
              "      <td>NaN</td>\n",
              "    </tr>\n",
              "    <tr>\n",
              "      <th>3</th>\n",
              "      <td>2010-01-19</td>\n",
              "      <td>113.62</td>\n",
              "      <td>115.13</td>\n",
              "      <td>113.59</td>\n",
              "      <td>115.06</td>\n",
              "      <td>138671890.0</td>\n",
              "      <td>1.54</td>\n",
              "      <td>45.96</td>\n",
              "      <td>46.640</td>\n",
              "      <td>45.95</td>\n",
              "      <td>...</td>\n",
              "      <td>47.08</td>\n",
              "      <td>45.70</td>\n",
              "      <td>46.94</td>\n",
              "      <td>629150.0</td>\n",
              "      <td>1.38</td>\n",
              "      <td>110.95</td>\n",
              "      <td>111.75</td>\n",
              "      <td>110.83</td>\n",
              "      <td>111.52</td>\n",
              "      <td>10467927.0</td>\n",
              "    </tr>\n",
              "    <tr>\n",
              "      <th>4</th>\n",
              "      <td>2010-01-20</td>\n",
              "      <td>114.28</td>\n",
              "      <td>114.45</td>\n",
              "      <td>112.98</td>\n",
              "      <td>113.89</td>\n",
              "      <td>216330645.0</td>\n",
              "      <td>1.47</td>\n",
              "      <td>46.27</td>\n",
              "      <td>46.604</td>\n",
              "      <td>45.43</td>\n",
              "      <td>...</td>\n",
              "      <td>47.31</td>\n",
              "      <td>45.17</td>\n",
              "      <td>47.05</td>\n",
              "      <td>643198.0</td>\n",
              "      <td>2.14</td>\n",
              "      <td>109.97</td>\n",
              "      <td>110.05</td>\n",
              "      <td>108.46</td>\n",
              "      <td>108.94</td>\n",
              "      <td>17534231.0</td>\n",
              "    </tr>\n",
              "  </tbody>\n",
              "</table>\n",
              "<p>5 rows × 47 columns</p>\n",
              "</div>"
            ],
            "text/plain": [
              "         date  sp500 open  sp500 high  sp500 low  sp500 close  sp500 volume  \\\n",
              "0  2010-01-14      114.49      115.14     114.42       114.93   115646960.0   \n",
              "1  2010-01-15      114.73      114.84     113.20       113.64   212252769.0   \n",
              "2  2010-01-18         NaN         NaN        NaN          NaN           NaN   \n",
              "3  2010-01-19      113.62      115.13     113.59       115.06   138671890.0   \n",
              "4  2010-01-20      114.28      114.45     112.98       113.89   216330645.0   \n",
              "\n",
              "   sp500 high-low  nasdaq open  nasdaq high  nasdaq low  ...  palladium high  \\\n",
              "0            0.72        46.26       46.520       46.22  ...           45.02   \n",
              "1            1.64        46.46       46.550       45.65  ...           45.76   \n",
              "2             NaN          NaN          NaN         NaN  ...             NaN   \n",
              "3            1.54        45.96       46.640       45.95  ...           47.08   \n",
              "4            1.47        46.27       46.604       45.43  ...           47.31   \n",
              "\n",
              "   palladium low  palladium close  palladium volume  palladium high-low  \\\n",
              "0          43.86            44.84          364528.0                1.16   \n",
              "1          44.40            45.76          442210.0                1.36   \n",
              "2            NaN              NaN               NaN                 NaN   \n",
              "3          45.70            46.94          629150.0                1.38   \n",
              "4          45.17            47.05          643198.0                2.14   \n",
              "\n",
              "   gold open  gold high  gold low  gold close  gold volume  \n",
              "0     111.51     112.37    110.79      112.03   18305238.0  \n",
              "1     111.35     112.01    110.38      110.86   18000724.0  \n",
              "2        NaN        NaN       NaN         NaN          NaN  \n",
              "3     110.95     111.75    110.83      111.52   10467927.0  \n",
              "4     109.97     110.05    108.46      108.94   17534231.0  \n",
              "\n",
              "[5 rows x 47 columns]"
            ]
          },
          "execution_count": 3,
          "metadata": {},
          "output_type": "execute_result"
        }
      ],
      "source": [
        "file_path2 = \"../financial_regression.csv\"\n",
        "data_regr = pd.read_csv(file_path2)\n",
        "data_regr.head()"
      ]
    },
    {
      "cell_type": "markdown",
      "metadata": {
        "id": "0mE2-PXpCNH-"
      },
      "source": [
        "Кодируем категориальные фичи и разделим фичи на целевые и не целевые "
      ]
    },
    {
      "cell_type": "code",
      "execution_count": 4,
      "metadata": {
        "id": "kl9l17QCVNTH"
      },
      "outputs": [],
      "source": [
        "encoded_data = pd.get_dummies(data_class, columns=[\"cap-shape\", \"gill-attachment\", \"gill-color\", \"stem-color\"])\n",
        "\n",
        "label_encoder = LabelEncoder()\n",
        "for column in [\"cap-shape\", \"gill-attachment\", \"gill-color\", \"stem-color\"]:\n",
        "    data_class[column] = label_encoder.fit_transform(data_class[column])\n",
        "\n",
        "# разделение фич на целевую и не целевую\n",
        "X = data_class.drop(columns=[\"class\"])\n",
        "y = data_class[\"class\"]\n",
        "\n",
        "X_train_class, X_test_class, y_train_class, y_test_class = train_test_split(X, y, test_size=0.2, random_state=42)\n",
        "\n",
        "scaler = StandardScaler()\n",
        "X_train_class = scaler.fit_transform(X_train_class)\n",
        "X_test_class = scaler.transform(X_test_class)"
      ]
    },
    {
      "cell_type": "markdown",
      "metadata": {
        "id": "QUHr4k5HfPQg"
      },
      "source": [
        "Кодируем фичи для датасета регрессии"
      ]
    },
    {
      "cell_type": "code",
      "execution_count": 5,
      "metadata": {
        "id": "MHLCCOMX0-SU"
      },
      "outputs": [],
      "source": [
        "from sklearn.model_selection import train_test_split\n",
        "\n",
        "data_regr = data_regr.dropna(subset=['sp500 close', 'gold close'])\n",
        "data_regr = data_regr.drop(['us_rates_%', 'CPI', 'date', 'GDP'], axis=1)\n",
        "data_regr = data_regr.dropna()\n",
        "\n",
        "\n",
        "X = data_regr.drop('gold close', axis=1)\n",
        "y = data_regr['gold close']\n",
        "\n",
        "X_train_regr, X_test_regr, y_train_regr, y_test_regr = train_test_split(X, y, test_size=0.2, random_state=42)\n",
        "\n",
        "from sklearn.preprocessing import StandardScaler, LabelEncoder\n",
        "categorical_columns = data_regr.select_dtypes(include=['object']).columns\n",
        "label_encoders = {}\n",
        "for column in categorical_columns:\n",
        "    le = LabelEncoder()\n",
        "    data_regr[column] = le.fit_transform(data_regr[column].astype(str))\n",
        "    label_encoders[column] = le"
      ]
    },
    {
      "cell_type": "markdown",
      "metadata": {
        "id": "q47jKKadCtAW"
      },
      "source": [
        "Обучение моделей решающего дерева регрессора и классификатора. В качестве метрики качества будем использовать accuracy для классификатора и MSE, R2 для регрессора."
      ]
    },
    {
      "cell_type": "code",
      "execution_count": 6,
      "metadata": {
        "colab": {
          "base_uri": "https://localhost:8080/",
          "height": 80
        },
        "id": "i_y6u5bWVQbW",
        "outputId": "e0a342e1-05b8-49ed-b507-135e71983395"
      },
      "outputs": [
        {
          "data": {
            "text/html": [
              "<style>#sk-container-id-1 {\n",
              "  /* Definition of color scheme common for light and dark mode */\n",
              "  --sklearn-color-text: black;\n",
              "  --sklearn-color-line: gray;\n",
              "  /* Definition of color scheme for unfitted estimators */\n",
              "  --sklearn-color-unfitted-level-0: #fff5e6;\n",
              "  --sklearn-color-unfitted-level-1: #f6e4d2;\n",
              "  --sklearn-color-unfitted-level-2: #ffe0b3;\n",
              "  --sklearn-color-unfitted-level-3: chocolate;\n",
              "  /* Definition of color scheme for fitted estimators */\n",
              "  --sklearn-color-fitted-level-0: #f0f8ff;\n",
              "  --sklearn-color-fitted-level-1: #d4ebff;\n",
              "  --sklearn-color-fitted-level-2: #b3dbfd;\n",
              "  --sklearn-color-fitted-level-3: cornflowerblue;\n",
              "\n",
              "  /* Specific color for light theme */\n",
              "  --sklearn-color-text-on-default-background: var(--sg-text-color, var(--theme-code-foreground, var(--jp-content-font-color1, black)));\n",
              "  --sklearn-color-background: var(--sg-background-color, var(--theme-background, var(--jp-layout-color0, white)));\n",
              "  --sklearn-color-border-box: var(--sg-text-color, var(--theme-code-foreground, var(--jp-content-font-color1, black)));\n",
              "  --sklearn-color-icon: #696969;\n",
              "\n",
              "  @media (prefers-color-scheme: dark) {\n",
              "    /* Redefinition of color scheme for dark theme */\n",
              "    --sklearn-color-text-on-default-background: var(--sg-text-color, var(--theme-code-foreground, var(--jp-content-font-color1, white)));\n",
              "    --sklearn-color-background: var(--sg-background-color, var(--theme-background, var(--jp-layout-color0, #111)));\n",
              "    --sklearn-color-border-box: var(--sg-text-color, var(--theme-code-foreground, var(--jp-content-font-color1, white)));\n",
              "    --sklearn-color-icon: #878787;\n",
              "  }\n",
              "}\n",
              "\n",
              "#sk-container-id-1 {\n",
              "  color: var(--sklearn-color-text);\n",
              "}\n",
              "\n",
              "#sk-container-id-1 pre {\n",
              "  padding: 0;\n",
              "}\n",
              "\n",
              "#sk-container-id-1 input.sk-hidden--visually {\n",
              "  border: 0;\n",
              "  clip: rect(1px 1px 1px 1px);\n",
              "  clip: rect(1px, 1px, 1px, 1px);\n",
              "  height: 1px;\n",
              "  margin: -1px;\n",
              "  overflow: hidden;\n",
              "  padding: 0;\n",
              "  position: absolute;\n",
              "  width: 1px;\n",
              "}\n",
              "\n",
              "#sk-container-id-1 div.sk-dashed-wrapped {\n",
              "  border: 1px dashed var(--sklearn-color-line);\n",
              "  margin: 0 0.4em 0.5em 0.4em;\n",
              "  box-sizing: border-box;\n",
              "  padding-bottom: 0.4em;\n",
              "  background-color: var(--sklearn-color-background);\n",
              "}\n",
              "\n",
              "#sk-container-id-1 div.sk-container {\n",
              "  /* jupyter's `normalize.less` sets `[hidden] { display: none; }`\n",
              "     but bootstrap.min.css set `[hidden] { display: none !important; }`\n",
              "     so we also need the `!important` here to be able to override the\n",
              "     default hidden behavior on the sphinx rendered scikit-learn.org.\n",
              "     See: https://github.com/scikit-learn/scikit-learn/issues/21755 */\n",
              "  display: inline-block !important;\n",
              "  position: relative;\n",
              "}\n",
              "\n",
              "#sk-container-id-1 div.sk-text-repr-fallback {\n",
              "  display: none;\n",
              "}\n",
              "\n",
              "div.sk-parallel-item,\n",
              "div.sk-serial,\n",
              "div.sk-item {\n",
              "  /* draw centered vertical line to link estimators */\n",
              "  background-image: linear-gradient(var(--sklearn-color-text-on-default-background), var(--sklearn-color-text-on-default-background));\n",
              "  background-size: 2px 100%;\n",
              "  background-repeat: no-repeat;\n",
              "  background-position: center center;\n",
              "}\n",
              "\n",
              "/* Parallel-specific style estimator block */\n",
              "\n",
              "#sk-container-id-1 div.sk-parallel-item::after {\n",
              "  content: \"\";\n",
              "  width: 100%;\n",
              "  border-bottom: 2px solid var(--sklearn-color-text-on-default-background);\n",
              "  flex-grow: 1;\n",
              "}\n",
              "\n",
              "#sk-container-id-1 div.sk-parallel {\n",
              "  display: flex;\n",
              "  align-items: stretch;\n",
              "  justify-content: center;\n",
              "  background-color: var(--sklearn-color-background);\n",
              "  position: relative;\n",
              "}\n",
              "\n",
              "#sk-container-id-1 div.sk-parallel-item {\n",
              "  display: flex;\n",
              "  flex-direction: column;\n",
              "}\n",
              "\n",
              "#sk-container-id-1 div.sk-parallel-item:first-child::after {\n",
              "  align-self: flex-end;\n",
              "  width: 50%;\n",
              "}\n",
              "\n",
              "#sk-container-id-1 div.sk-parallel-item:last-child::after {\n",
              "  align-self: flex-start;\n",
              "  width: 50%;\n",
              "}\n",
              "\n",
              "#sk-container-id-1 div.sk-parallel-item:only-child::after {\n",
              "  width: 0;\n",
              "}\n",
              "\n",
              "/* Serial-specific style estimator block */\n",
              "\n",
              "#sk-container-id-1 div.sk-serial {\n",
              "  display: flex;\n",
              "  flex-direction: column;\n",
              "  align-items: center;\n",
              "  background-color: var(--sklearn-color-background);\n",
              "  padding-right: 1em;\n",
              "  padding-left: 1em;\n",
              "}\n",
              "\n",
              "\n",
              "/* Toggleable style: style used for estimator/Pipeline/ColumnTransformer box that is\n",
              "clickable and can be expanded/collapsed.\n",
              "- Pipeline and ColumnTransformer use this feature and define the default style\n",
              "- Estimators will overwrite some part of the style using the `sk-estimator` class\n",
              "*/\n",
              "\n",
              "/* Pipeline and ColumnTransformer style (default) */\n",
              "\n",
              "#sk-container-id-1 div.sk-toggleable {\n",
              "  /* Default theme specific background. It is overwritten whether we have a\n",
              "  specific estimator or a Pipeline/ColumnTransformer */\n",
              "  background-color: var(--sklearn-color-background);\n",
              "}\n",
              "\n",
              "/* Toggleable label */\n",
              "#sk-container-id-1 label.sk-toggleable__label {\n",
              "  cursor: pointer;\n",
              "  display: block;\n",
              "  width: 100%;\n",
              "  margin-bottom: 0;\n",
              "  padding: 0.5em;\n",
              "  box-sizing: border-box;\n",
              "  text-align: center;\n",
              "}\n",
              "\n",
              "#sk-container-id-1 label.sk-toggleable__label-arrow:before {\n",
              "  /* Arrow on the left of the label */\n",
              "  content: \"▸\";\n",
              "  float: left;\n",
              "  margin-right: 0.25em;\n",
              "  color: var(--sklearn-color-icon);\n",
              "}\n",
              "\n",
              "#sk-container-id-1 label.sk-toggleable__label-arrow:hover:before {\n",
              "  color: var(--sklearn-color-text);\n",
              "}\n",
              "\n",
              "/* Toggleable content - dropdown */\n",
              "\n",
              "#sk-container-id-1 div.sk-toggleable__content {\n",
              "  max-height: 0;\n",
              "  max-width: 0;\n",
              "  overflow: hidden;\n",
              "  text-align: left;\n",
              "  /* unfitted */\n",
              "  background-color: var(--sklearn-color-unfitted-level-0);\n",
              "}\n",
              "\n",
              "#sk-container-id-1 div.sk-toggleable__content.fitted {\n",
              "  /* fitted */\n",
              "  background-color: var(--sklearn-color-fitted-level-0);\n",
              "}\n",
              "\n",
              "#sk-container-id-1 div.sk-toggleable__content pre {\n",
              "  margin: 0.2em;\n",
              "  border-radius: 0.25em;\n",
              "  color: var(--sklearn-color-text);\n",
              "  /* unfitted */\n",
              "  background-color: var(--sklearn-color-unfitted-level-0);\n",
              "}\n",
              "\n",
              "#sk-container-id-1 div.sk-toggleable__content.fitted pre {\n",
              "  /* unfitted */\n",
              "  background-color: var(--sklearn-color-fitted-level-0);\n",
              "}\n",
              "\n",
              "#sk-container-id-1 input.sk-toggleable__control:checked~div.sk-toggleable__content {\n",
              "  /* Expand drop-down */\n",
              "  max-height: 200px;\n",
              "  max-width: 100%;\n",
              "  overflow: auto;\n",
              "}\n",
              "\n",
              "#sk-container-id-1 input.sk-toggleable__control:checked~label.sk-toggleable__label-arrow:before {\n",
              "  content: \"▾\";\n",
              "}\n",
              "\n",
              "/* Pipeline/ColumnTransformer-specific style */\n",
              "\n",
              "#sk-container-id-1 div.sk-label input.sk-toggleable__control:checked~label.sk-toggleable__label {\n",
              "  color: var(--sklearn-color-text);\n",
              "  background-color: var(--sklearn-color-unfitted-level-2);\n",
              "}\n",
              "\n",
              "#sk-container-id-1 div.sk-label.fitted input.sk-toggleable__control:checked~label.sk-toggleable__label {\n",
              "  background-color: var(--sklearn-color-fitted-level-2);\n",
              "}\n",
              "\n",
              "/* Estimator-specific style */\n",
              "\n",
              "/* Colorize estimator box */\n",
              "#sk-container-id-1 div.sk-estimator input.sk-toggleable__control:checked~label.sk-toggleable__label {\n",
              "  /* unfitted */\n",
              "  background-color: var(--sklearn-color-unfitted-level-2);\n",
              "}\n",
              "\n",
              "#sk-container-id-1 div.sk-estimator.fitted input.sk-toggleable__control:checked~label.sk-toggleable__label {\n",
              "  /* fitted */\n",
              "  background-color: var(--sklearn-color-fitted-level-2);\n",
              "}\n",
              "\n",
              "#sk-container-id-1 div.sk-label label.sk-toggleable__label,\n",
              "#sk-container-id-1 div.sk-label label {\n",
              "  /* The background is the default theme color */\n",
              "  color: var(--sklearn-color-text-on-default-background);\n",
              "}\n",
              "\n",
              "/* On hover, darken the color of the background */\n",
              "#sk-container-id-1 div.sk-label:hover label.sk-toggleable__label {\n",
              "  color: var(--sklearn-color-text);\n",
              "  background-color: var(--sklearn-color-unfitted-level-2);\n",
              "}\n",
              "\n",
              "/* Label box, darken color on hover, fitted */\n",
              "#sk-container-id-1 div.sk-label.fitted:hover label.sk-toggleable__label.fitted {\n",
              "  color: var(--sklearn-color-text);\n",
              "  background-color: var(--sklearn-color-fitted-level-2);\n",
              "}\n",
              "\n",
              "/* Estimator label */\n",
              "\n",
              "#sk-container-id-1 div.sk-label label {\n",
              "  font-family: monospace;\n",
              "  font-weight: bold;\n",
              "  display: inline-block;\n",
              "  line-height: 1.2em;\n",
              "}\n",
              "\n",
              "#sk-container-id-1 div.sk-label-container {\n",
              "  text-align: center;\n",
              "}\n",
              "\n",
              "/* Estimator-specific */\n",
              "#sk-container-id-1 div.sk-estimator {\n",
              "  font-family: monospace;\n",
              "  border: 1px dotted var(--sklearn-color-border-box);\n",
              "  border-radius: 0.25em;\n",
              "  box-sizing: border-box;\n",
              "  margin-bottom: 0.5em;\n",
              "  /* unfitted */\n",
              "  background-color: var(--sklearn-color-unfitted-level-0);\n",
              "}\n",
              "\n",
              "#sk-container-id-1 div.sk-estimator.fitted {\n",
              "  /* fitted */\n",
              "  background-color: var(--sklearn-color-fitted-level-0);\n",
              "}\n",
              "\n",
              "/* on hover */\n",
              "#sk-container-id-1 div.sk-estimator:hover {\n",
              "  /* unfitted */\n",
              "  background-color: var(--sklearn-color-unfitted-level-2);\n",
              "}\n",
              "\n",
              "#sk-container-id-1 div.sk-estimator.fitted:hover {\n",
              "  /* fitted */\n",
              "  background-color: var(--sklearn-color-fitted-level-2);\n",
              "}\n",
              "\n",
              "/* Specification for estimator info (e.g. \"i\" and \"?\") */\n",
              "\n",
              "/* Common style for \"i\" and \"?\" */\n",
              "\n",
              ".sk-estimator-doc-link,\n",
              "a:link.sk-estimator-doc-link,\n",
              "a:visited.sk-estimator-doc-link {\n",
              "  float: right;\n",
              "  font-size: smaller;\n",
              "  line-height: 1em;\n",
              "  font-family: monospace;\n",
              "  background-color: var(--sklearn-color-background);\n",
              "  border-radius: 1em;\n",
              "  height: 1em;\n",
              "  width: 1em;\n",
              "  text-decoration: none !important;\n",
              "  margin-left: 1ex;\n",
              "  /* unfitted */\n",
              "  border: var(--sklearn-color-unfitted-level-1) 1pt solid;\n",
              "  color: var(--sklearn-color-unfitted-level-1);\n",
              "}\n",
              "\n",
              ".sk-estimator-doc-link.fitted,\n",
              "a:link.sk-estimator-doc-link.fitted,\n",
              "a:visited.sk-estimator-doc-link.fitted {\n",
              "  /* fitted */\n",
              "  border: var(--sklearn-color-fitted-level-1) 1pt solid;\n",
              "  color: var(--sklearn-color-fitted-level-1);\n",
              "}\n",
              "\n",
              "/* On hover */\n",
              "div.sk-estimator:hover .sk-estimator-doc-link:hover,\n",
              ".sk-estimator-doc-link:hover,\n",
              "div.sk-label-container:hover .sk-estimator-doc-link:hover,\n",
              ".sk-estimator-doc-link:hover {\n",
              "  /* unfitted */\n",
              "  background-color: var(--sklearn-color-unfitted-level-3);\n",
              "  color: var(--sklearn-color-background);\n",
              "  text-decoration: none;\n",
              "}\n",
              "\n",
              "div.sk-estimator.fitted:hover .sk-estimator-doc-link.fitted:hover,\n",
              ".sk-estimator-doc-link.fitted:hover,\n",
              "div.sk-label-container:hover .sk-estimator-doc-link.fitted:hover,\n",
              ".sk-estimator-doc-link.fitted:hover {\n",
              "  /* fitted */\n",
              "  background-color: var(--sklearn-color-fitted-level-3);\n",
              "  color: var(--sklearn-color-background);\n",
              "  text-decoration: none;\n",
              "}\n",
              "\n",
              "/* Span, style for the box shown on hovering the info icon */\n",
              ".sk-estimator-doc-link span {\n",
              "  display: none;\n",
              "  z-index: 9999;\n",
              "  position: relative;\n",
              "  font-weight: normal;\n",
              "  right: .2ex;\n",
              "  padding: .5ex;\n",
              "  margin: .5ex;\n",
              "  width: min-content;\n",
              "  min-width: 20ex;\n",
              "  max-width: 50ex;\n",
              "  color: var(--sklearn-color-text);\n",
              "  box-shadow: 2pt 2pt 4pt #999;\n",
              "  /* unfitted */\n",
              "  background: var(--sklearn-color-unfitted-level-0);\n",
              "  border: .5pt solid var(--sklearn-color-unfitted-level-3);\n",
              "}\n",
              "\n",
              ".sk-estimator-doc-link.fitted span {\n",
              "  /* fitted */\n",
              "  background: var(--sklearn-color-fitted-level-0);\n",
              "  border: var(--sklearn-color-fitted-level-3);\n",
              "}\n",
              "\n",
              ".sk-estimator-doc-link:hover span {\n",
              "  display: block;\n",
              "}\n",
              "\n",
              "/* \"?\"-specific style due to the `<a>` HTML tag */\n",
              "\n",
              "#sk-container-id-1 a.estimator_doc_link {\n",
              "  float: right;\n",
              "  font-size: 1rem;\n",
              "  line-height: 1em;\n",
              "  font-family: monospace;\n",
              "  background-color: var(--sklearn-color-background);\n",
              "  border-radius: 1rem;\n",
              "  height: 1rem;\n",
              "  width: 1rem;\n",
              "  text-decoration: none;\n",
              "  /* unfitted */\n",
              "  color: var(--sklearn-color-unfitted-level-1);\n",
              "  border: var(--sklearn-color-unfitted-level-1) 1pt solid;\n",
              "}\n",
              "\n",
              "#sk-container-id-1 a.estimator_doc_link.fitted {\n",
              "  /* fitted */\n",
              "  border: var(--sklearn-color-fitted-level-1) 1pt solid;\n",
              "  color: var(--sklearn-color-fitted-level-1);\n",
              "}\n",
              "\n",
              "/* On hover */\n",
              "#sk-container-id-1 a.estimator_doc_link:hover {\n",
              "  /* unfitted */\n",
              "  background-color: var(--sklearn-color-unfitted-level-3);\n",
              "  color: var(--sklearn-color-background);\n",
              "  text-decoration: none;\n",
              "}\n",
              "\n",
              "#sk-container-id-1 a.estimator_doc_link.fitted:hover {\n",
              "  /* fitted */\n",
              "  background-color: var(--sklearn-color-fitted-level-3);\n",
              "}\n",
              "</style><div id=\"sk-container-id-1\" class=\"sk-top-container\"><div class=\"sk-text-repr-fallback\"><pre>DecisionTreeClassifier(random_state=42)</pre><b>In a Jupyter environment, please rerun this cell to show the HTML representation or trust the notebook. <br />On GitHub, the HTML representation is unable to render, please try loading this page with nbviewer.org.</b></div><div class=\"sk-container\" hidden><div class=\"sk-item\"><div class=\"sk-estimator fitted sk-toggleable\"><input class=\"sk-toggleable__control sk-hidden--visually\" id=\"sk-estimator-id-1\" type=\"checkbox\" checked><label for=\"sk-estimator-id-1\" class=\"sk-toggleable__label fitted sk-toggleable__label-arrow fitted\">&nbsp;&nbsp;DecisionTreeClassifier<a class=\"sk-estimator-doc-link fitted\" rel=\"noreferrer\" target=\"_blank\" href=\"https://scikit-learn.org/1.4/modules/generated/sklearn.tree.DecisionTreeClassifier.html\">?<span>Documentation for DecisionTreeClassifier</span></a><span class=\"sk-estimator-doc-link fitted\">i<span>Fitted</span></span></label><div class=\"sk-toggleable__content fitted\"><pre>DecisionTreeClassifier(random_state=42)</pre></div> </div></div></div></div>"
            ],
            "text/plain": [
              "DecisionTreeClassifier(random_state=42)"
            ]
          },
          "execution_count": 6,
          "metadata": {},
          "output_type": "execute_result"
        }
      ],
      "source": [
        "model_tree_regr = DecisionTreeRegressor(random_state=42)\n",
        "model_tree_regr.fit(X_train_regr, y_train_regr)\n",
        "\n",
        "model_tree = DecisionTreeClassifier(random_state=42)\n",
        "model_tree.fit(X_train_class, y_train_class)\n"
      ]
    },
    {
      "cell_type": "markdown",
      "metadata": {
        "id": "12NMGbaSOcra"
      },
      "source": [
        "Посмотрим на результаты обучения:"
      ]
    },
    {
      "cell_type": "code",
      "execution_count": 7,
      "metadata": {
        "colab": {
          "base_uri": "https://localhost:8080/"
        },
        "id": "3Ymf2PEciDS3",
        "outputId": "aaa7da77-5559-43d0-aa20-ab6600d7db15"
      },
      "outputs": [
        {
          "name": "stdout",
          "output_type": "stream",
          "text": [
            "accuracy:  0.9786249653002683\n"
          ]
        }
      ],
      "source": [
        "predicted_class = model_tree.predict(X_test_class)\n",
        "\n",
        "print(\"accuracy: \", metrics.accuracy_score(y_test_class, predicted_class))\n"
      ]
    },
    {
      "cell_type": "markdown",
      "metadata": {
        "id": "4p3jl5fdDDqO"
      },
      "source": [
        "Получаем достаточно высокие значения accuracy - 0.9786249653002683"
      ]
    },
    {
      "cell_type": "code",
      "execution_count": 8,
      "metadata": {
        "colab": {
          "base_uri": "https://localhost:8080/"
        },
        "id": "vovdb0e12uIU",
        "outputId": "bf187e70-a47e-41f7-99ce-8e9a1c00f7c5"
      },
      "outputs": [
        {
          "name": "stdout",
          "output_type": "stream",
          "text": [
            "MSE:  0.8510571003396743\n",
            "R2:  0.9991181684775854\n"
          ]
        }
      ],
      "source": [
        "predicted_regr = model_tree_regr.predict(X_test_regr)\n",
        "\n",
        "print(\"MSE: \", metrics.mean_squared_error(y_test_regr, predicted_regr))\n",
        "print(\"R2: \", metrics.r2_score(y_test_regr, predicted_regr))"
      ]
    },
    {
      "cell_type": "markdown",
      "metadata": {
        "id": "IKgh_LsegcjQ"
      },
      "source": [
        "Получаем так же отличные результаты для регрессии - R2=0.999. Построим графики для обоих задач, чтобы визуализировать ошибки"
      ]
    },
    {
      "cell_type": "code",
      "execution_count": 9,
      "metadata": {
        "colab": {
          "base_uri": "https://localhost:8080/",
          "height": 465
        },
        "id": "rV6S7zOz4tic",
        "outputId": "428c6e4c-efb0-41ac-fbe0-cd1526e79d55"
      },
      "outputs": [
        {
          "data": {
            "image/png": "[encoded data removed]",
            "text/plain": [
              "<Figure size 640x480 with 1 Axes>"
            ]
          },
          "metadata": {},
          "output_type": "display_data"
        }
      ],
      "source": [
        "sns.kdeplot(y_test_regr, label='Actual', color='blue', fill=True)\n",
        "sns.kdeplot(predicted_regr, label='Predicted', color='red', fill=True)\n",
        "plt.xlabel('gold close price')\n",
        "plt.ylabel('Density')\n",
        "plt.legend()\n",
        "plt.show()"
      ]
    },
    {
      "cell_type": "code",
      "execution_count": 10,
      "metadata": {
        "colab": {
          "base_uri": "https://localhost:8080/",
          "height": 449
        },
        "id": "TPmdxzBK40j7",
        "outputId": "23decb53-5599-43da-8881-941aba7bde38"
      },
      "outputs": [
        {
          "data": {
            "image/png": "[encoded data removed]",
            "text/plain": [
              "<Figure size 640x480 with 1 Axes>"
            ]
          },
          "metadata": {},
          "output_type": "display_data"
        }
      ],
      "source": [
        "sns.kdeplot(y_test_class, label='Actual', color='blue', fill=True)\n",
        "sns.kdeplot(predicted_class, label='Predicted', color='red', fill=True)\n",
        "plt.xlabel('mushroom edible')\n",
        "plt.ylabel('Density')\n",
        "plt.legend()\n",
        "plt.show()"
      ]
    },
    {
      "cell_type": "markdown",
      "metadata": {
        "id": "nGHj_3wL5CcM"
      },
      "source": [
        "По итогу получаем очень хорошие значения точности для обоих задач"
      ]
    },
    {
      "cell_type": "markdown",
      "metadata": {
        "id": "TXWMOPdi5Gzk"
      },
      "source": [
        "# Улучшение бейзлайна задачи классификации"
      ]
    },
    {
      "cell_type": "markdown",
      "metadata": {
        "id": "9Kn2PP2N76MF"
      },
      "source": [
        "Гипотезы для улучшения бейзлайна классификации: \n",
        "- Уменьшение глубины дерева решающего дерева может предотвратить переобучение\n",
        "- Использование гиперпараметров для улучшения производительности (максимальное количество признаков, минимальное количество объектов в листе)"
      ]
    },
    {
      "cell_type": "code",
      "execution_count": 12,
      "metadata": {
        "colab": {
          "base_uri": "https://localhost:8080/"
        },
        "id": "7fhSzl_UVUru",
        "outputId": "49ea3f26-8fa1-44da-f25f-a9d1f053a454"
      },
      "outputs": [
        {
          "name": "stdout",
          "output_type": "stream",
          "text": [
            "accuracy: 0.9786249653002683\n"
          ]
        }
      ],
      "source": [
        "from sklearn.tree import DecisionTreeClassifier\n",
        "from sklearn.model_selection import GridSearchCV\n",
        "\n",
        "X = data_class.drop(columns=['class'])\n",
        "y = data_class['class']\n",
        "\n",
        "#разделение на обучающую и тестовую выборки\n",
        "X_train_class, X_test_class, y_train_class, y_test_class = train_test_split(X, y, test_size=0.2, random_state=42)\n",
        "\n",
        "# отмаасштабируем данные\n",
        "scaler = StandardScaler()\n",
        "X_train_class = scaler.fit_transform(X_train_class)\n",
        "X_test_class = scaler.transform(X_test_class)\n",
        "\n",
        "param_grid = {\n",
        "    'max_depth': [3, 5, 10, None],  #подберем глубину дерева\n",
        "    'min_samples_split': [2, 5, 10],  # мин. число объектов для разделения\n",
        "    'min_samples_leaf': [1, 2, 4],  # мин. число объектов в листах\n",
        "    'max_features': ['sqrt', 'log2', None]  # макс числ признаков для разделения\n",
        "}\n",
        "\n",
        "grid_search = GridSearchCV(DecisionTreeClassifier(random_state=42), param_grid, cv=5, scoring='accuracy', n_jobs=-1)\n",
        "grid_search.fit(X_train_class, y_train_class)\n",
        "\n",
        "best_tree_model = grid_search.best_estimator_\n",
        "\n",
        "predicted_class = best_tree_model.predict(X_test_class)\n",
        "\n",
        "accuracy = metrics.accuracy_score(y_test_class, predicted_class)\n",
        "print(\"accuracy:\", accuracy)"
      ]
    },
    {
      "cell_type": "markdown",
      "metadata": {
        "id": "Zm78q8TVFSXX"
      },
      "source": [
        "Гипотезы не улучшили бейзлайн"
      ]
    },
    {
      "cell_type": "markdown",
      "metadata": {
        "id": "XA_d8OrFMa1F"
      },
      "source": [
        "# Улучшение бейзлайна задачи регрессии\n",
        "Теперь перейдем к задаче регрессии. Будем предсказывать charges"
      ]
    },
    {
      "cell_type": "markdown",
      "metadata": {
        "id": "e1cqhicOMso3"
      },
      "source": [
        "Гипотезы по улучшению: \n",
        "- Уменьшение глубины дерева (ограничение глубины решающего дерева, чтобы предотвратить переобучение) - попробуем разные значения\n",
        "- Попробуем разное число минимальных объектов в листе\n",
        "- Попробовать различные критерии разделения"
      ]
    },
    {
      "cell_type": "code",
      "execution_count": 13,
      "metadata": {
        "colab": {
          "base_uri": "https://localhost:8080/",
          "height": 500
        },
        "id": "jiudd6hxMHZf",
        "outputId": "c47ad1c7-2b74-43c5-f350-7fbe4a82266d"
      },
      "outputs": [
        {
          "name": "stdout",
          "output_type": "stream",
          "text": [
            "Улучш. MSE:  0.9342603809746146\n",
            "Улучш. R2:  0.9990319565470311\n"
          ]
        },
        {
          "data": {
            "image/png": "[encoded data removed]",
            "text/plain": [
              "<Figure size 640x480 with 1 Axes>"
            ]
          },
          "metadata": {},
          "output_type": "display_data"
        }
      ],
      "source": [
        "categorical_columns = data_regr.select_dtypes(include=['object']).columns\n",
        "label_encoders = {}\n",
        "for column in categorical_columns:\n",
        "    le = LabelEncoder()\n",
        "    data_regr[column] = le.fit_transform(data_regr[column].astype(str))\n",
        "    label_encoders[column] = le\n",
        "X = data_regr.drop('gold close', axis=1)\n",
        "y = data_regr['gold close']\n",
        "\n",
        "X_train_regr, X_test_regr, y_train_regr, y_test_regr = train_test_split(X, y, test_size=0.2, random_state=42)\n",
        "\n",
        "scaler = StandardScaler()\n",
        "X_train_regr = scaler.fit_transform(X_train_regr)\n",
        "X_test_regr = scaler.transform(X_test_regr)\n",
        "\n",
        "param_grid = {\n",
        "    'max_depth': [3, 5, 7, 10, None],  #пробуем разную глубину\n",
        "    'min_samples_leaf': [1, 2, 4, 8],  #разное число разбиений\n",
        "    'criterion': ['friedman_mse', 'poisson'],  #разные критерии для разделения\n",
        "}\n",
        "\n",
        "grid_search_regr = GridSearchCV(DecisionTreeRegressor(random_state=42), param_grid, cv=5, scoring='neg_mean_squared_error', n_jobs=-1)\n",
        "grid_search_regr.fit(X_train_regr, y_train_regr)\n",
        "\n",
        "best_tree_regr_model = grid_search_regr.best_estimator_\n",
        "\n",
        "predicted_regr = best_tree_regr_model.predict(X_test_regr)\n",
        "\n",
        "mse = metrics.mean_squared_error(y_test_regr, predicted_regr)\n",
        "r2 = metrics.r2_score(y_test_regr, predicted_regr)\n",
        "print(\"Улучш. MSE: \", mse)\n",
        "print(\"Улучш. R2: \", r2)\n",
        "\n",
        "sns.kdeplot(y_test_regr, label='Actual', color='blue', fill=True)\n",
        "sns.kdeplot(predicted_regr, label='Predicted', color='red', fill=True)\n",
        "plt.xlabel('ins. price')\n",
        "plt.ylabel('density')\n",
        "plt.legend()\n",
        "plt.show()"
      ]
    },
    {
      "cell_type": "markdown",
      "metadata": {
        "id": "QxjhA-kHIJc0"
      },
      "source": [
        "Видно, что улучшения бейзлайна улучшили показатели MSE"
      ]
    },
    {
      "cell_type": "markdown",
      "metadata": {
        "id": "X7xPQe6hNGfH"
      },
      "source": [
        "# Самостоятельная имплементация решающего дерева для классификации"
      ]
    },
    {
      "cell_type": "markdown",
      "metadata": {
        "id": "b2qyh0q9JE1E"
      },
      "source": [
        "Определим класс классификатора со всеми необходимыми функциями:"
      ]
    },
    {
      "cell_type": "code",
      "execution_count": 14,
      "metadata": {
        "id": "T0ee1e9HNLfv"
      },
      "outputs": [],
      "source": [
        "import pandas as pd\n",
        "import numpy as np\n",
        "from sklearn.preprocessing import LabelEncoder, StandardScaler\n",
        "from sklearn.model_selection import train_test_split\n",
        "from sklearn.metrics import accuracy_score, confusion_matrix, ConfusionMatrixDisplay\n",
        "import seaborn as sns\n",
        "import matplotlib.pyplot as plt\n",
        "\n",
        "class SimpleDecisionTreeClassifier:\n",
        "    def __init__(self, max_d=5, min_samples=2):\n",
        "        self.max_d = max_d\n",
        "        self.min_samples = min_samples\n",
        "        self.model = None\n",
        "\n",
        "    def _create_tree(self, X, y, depth=0):\n",
        "        if len(set(y)) == 1:\n",
        "            return y[0]\n",
        "\n",
        "        if self.max_d is not None and depth >= self.max_d:\n",
        "            return self._majority(y)\n",
        "\n",
        "        if len(y) < self.min_samples:\n",
        "            return self._majority(y)\n",
        "\n",
        "        split = self._best_split(X, y)\n",
        "        if not split:\n",
        "            return self._majority(y)\n",
        "\n",
        "        l_idx = split['l_idx']\n",
        "        r_idx = split['r_idx']\n",
        "\n",
        "        left = self._create_tree(X[l_idx], y[l_idx], depth + 1)\n",
        "        right = self._create_tree(X[r_idx], y[r_idx], depth + 1)\n",
        "\n",
        "        return {\n",
        "            'f_idx': split['f_idx'],\n",
        "            'thresh': split['thresh'],\n",
        "            'left': left,\n",
        "            'right': right\n",
        "        }\n",
        "\n",
        "    def fit(self, X, y):\n",
        "        self.model = self._create_tree(X, y)\n",
        "\n",
        "    def predict(self, X):\n",
        "        return np.array([self._classify(x, self.model) for x in X])\n",
        "\n",
        "    def _best_split(self, X, y):\n",
        "        best = {}\n",
        "        min_gini = float('inf')\n",
        "\n",
        "        for f_idx in range(X.shape[1]):\n",
        "            thresholds = np.unique(X[:, f_idx])\n",
        "            for thresh in thresholds:\n",
        "                l_idx = np.where(X[:, f_idx] <= thresh)[0]\n",
        "                r_idx = np.where(X[:, f_idx] > thresh)[0]\n",
        "\n",
        "                if len(l_idx) == 0 or len(r_idx) == 0:\n",
        "                    continue\n",
        "\n",
        "                l_y = y[l_idx]\n",
        "                r_y = y[r_idx]\n",
        "                gini = self._gini_impurity(l_y, r_y)\n",
        "\n",
        "                if gini < min_gini:\n",
        "                    min_gini = gini\n",
        "                    best = {\n",
        "                        'f_idx': f_idx,\n",
        "                        'thresh': thresh,\n",
        "                        'l_idx': l_idx,\n",
        "                        'r_idx': r_idx\n",
        "                    }\n",
        "\n",
        "        return best\n",
        "\n",
        "    def _gini_impurity(self, l_y, r_y):\n",
        "        def gini(y):\n",
        "            classes, counts = np.unique(y, return_counts=True)\n",
        "            p = counts / len(y)\n",
        "            return 1 - np.sum(p ** 2)\n",
        "\n",
        "        l_gini = gini(l_y)\n",
        "        r_gini = gini(r_y)\n",
        "        total_gini = (l_gini * len(l_y) + r_gini * len(r_y)) / (len(l_y) + len(r_y))\n",
        "        return total_gini\n",
        "\n",
        "    def _majority(self, y):\n",
        "        classes, counts = np.unique(y, return_counts=True)\n",
        "        return classes[np.argmax(counts)]\n",
        "\n",
        "    def _classify(self, x, tree):\n",
        "        if not isinstance(tree, dict):\n",
        "            return tree\n",
        "\n",
        "        f_idx = tree['f_idx']\n",
        "        thresh = tree['thresh']\n",
        "\n",
        "        if x[f_idx] <= thresh:\n",
        "            return self._classify(x, tree['left'])\n",
        "        else:\n",
        "            return self._classify(x, tree['right'])\n",
        "\n",
        "    def get_params(self, deep=True):\n",
        "        return {'max_d': self.max_d, 'min_samples': self.min_samples}\n",
        "\n",
        "    def set_params(self, **params):\n",
        "        for param, value in params.items():\n",
        "            setattr(self, param, value)\n",
        "        return self\n",
        "\n"
      ]
    },
    {
      "cell_type": "markdown",
      "metadata": {
        "id": "GUmQJsBVowyh"
      },
      "source": [
        "Проведем все те же действия - обучим бейзлайн"
      ]
    },
    {
      "cell_type": "code",
      "execution_count": 18,
      "metadata": {
        "colab": {
          "base_uri": "https://localhost:8080/",
          "height": 466
        },
        "id": "X0t8-cb_NRHn",
        "outputId": "876cafd2-443f-4683-e3e1-83b580ddc8b7"
      },
      "outputs": [
        {
          "name": "stdout",
          "output_type": "stream",
          "text": [
            "accuracy: 0.7030628296474507\n"
          ]
        },
        {
          "data": {
            "image/png": "[encoded data removed]",
            "text/plain": [
              "<Figure size 640x480 with 1 Axes>"
            ]
          },
          "metadata": {},
          "output_type": "display_data"
        }
      ],
      "source": [
        "X_class = data_class.drop(columns=['class'])\n",
        "y_class = data_class['class'].values\n",
        "\n",
        "X_train_class, X_test_class, y_train_class, y_test_class = train_test_split(\n",
        "    X_class, y_class, test_size=0.2, random_state=42\n",
        ")\n",
        "\n",
        "scaler = StandardScaler()\n",
        "X_train_class = scaler.fit_transform(X_train_class)\n",
        "X_test_class = scaler.transform(X_test_class)\n",
        "\n",
        "tree_classifier = SimpleDecisionTreeClassifier()\n",
        "tree_classifier.fit(X_train_class, y_train_class)\n",
        "\n",
        "predicted_class = tree_classifier.predict(X_test_class)\n",
        "\n",
        "#оценка\n",
        "accuracy = accuracy_score(y_test_class, predicted_class)\n",
        "print(\"accuracy:\", accuracy)\n",
        "\n",
        "\n",
        "sns.kdeplot(y_test_class, label='Actual', color='blue', fill=True)\n",
        "sns.kdeplot(predicted_class, label='Predicted', color='red', fill=True)\n",
        "plt.xlabel('Loan Approved')\n",
        "plt.ylabel('Density')\n",
        "plt.legend()\n",
        "plt.show()\n"
      ]
    },
    {
      "cell_type": "markdown",
      "metadata": {
        "id": "xfiLefJUqKjS"
      },
      "source": [
        "Видно, что собственная реализация модели хоть и имеет высокий уровень accuracy, но он все же меньше. Применим те же гипотезы по улучшнению качества модели."
      ]
    },
    {
      "cell_type": "code",
      "execution_count": 19,
      "metadata": {
        "colab": {
          "base_uri": "https://localhost:8080/"
        },
        "id": "Lz1BBsD8Fpud",
        "outputId": "b9aacc14-4149-4bc8-8ec2-ed2d27ba86e3"
      },
      "outputs": [
        {
          "name": "stdout",
          "output_type": "stream",
          "text": [
            "improv. accuracy: 0.9787174979180161\n"
          ]
        }
      ],
      "source": [
        "X = data_class.drop(columns=['class']).values\n",
        "y = data_class['class'].values\n",
        "\n",
        "X_train_class, X_test_class, y_train_class, y_test_class = train_test_split(\n",
        "    X, y, test_size=0.2, random_state=42\n",
        ")\n",
        "\n",
        "scaler = StandardScaler()\n",
        "X_train_class = scaler.fit_transform(X_train_class)\n",
        "X_test_class = scaler.transform(X_test_class)\n",
        "\n",
        "param_grid = {\n",
        "    'max_d': [3, 5, None],\n",
        "    'min_samples': [2],\n",
        "}\n",
        "\n",
        "grid_search = GridSearchCV(SimpleDecisionTreeClassifier(), param_grid, cv=5, scoring='accuracy', n_jobs=-1)\n",
        "grid_search.fit(X_train_class, y_train_class)\n",
        "\n",
        "best_model = grid_search.best_estimator_\n",
        "predicted_class = best_model.predict(X_test_class)\n",
        "\n",
        "improved_accuracy = accuracy_score(y_test_class, predicted_class)\n",
        "print(\"improv. accuracy:\", improved_accuracy)\n",
        "\n"
      ]
    },
    {
      "cell_type": "markdown",
      "metadata": {
        "id": "P1dNX6RYr51h"
      },
      "source": [
        "Видим, что собственная реализация (после применения гипотез) все же проявляет ту же точность, что и модель sklearn."
      ]
    },
    {
      "cell_type": "markdown",
      "metadata": {
        "id": "R7-HT5QYQD6A"
      },
      "source": [
        "# Самостоятельная имплементация решающего дерева регрессии:"
      ]
    },
    {
      "cell_type": "markdown",
      "metadata": {
        "id": "VgNW3YSOK3DT"
      },
      "source": [
        "Перейдем к самостоятельной имплементации регрессии. Опишем класс, повторим действия по обучению"
      ]
    },
    {
      "cell_type": "code",
      "execution_count": 20,
      "metadata": {
        "id": "W_5FMNbh9WQ1"
      },
      "outputs": [],
      "source": [
        "import numpy as np\n",
        "from sklearn.base import BaseEstimator, RegressorMixin\n",
        "\n",
        "class SimpleDecisionTreeRegressor(BaseEstimator, RegressorMixin):\n",
        "    def __init__(self, max_depth=None, min_samples_leaf=1, criterion='mse'):\n",
        "        self.max_depth = max_depth\n",
        "        self.min_samples_leaf = min_samples_leaf\n",
        "        self.criterion = criterion\n",
        "        self.tree_ = None\n",
        "\n",
        "    def fit(self, X, y):\n",
        "        X = np.array(X)\n",
        "        y = np.array(y)\n",
        "\n",
        "        if self.criterion not in ['mse']:\n",
        "            raise NotImplementedError(f\"Criterion '{self.criterion}' не реализован. Используйте 'mse'.\")\n",
        "\n",
        "        self.tree_ = self._build_tree(X, y, depth=0)\n",
        "        return self\n",
        "\n",
        "    def predict(self, X):\n",
        "        X = np.array(X)\n",
        "        return np.array([self._predict_sample(x, self.tree_) for x in X])\n",
        "\n",
        "    def _build_tree(self, X, y, depth):\n",
        "        if self.max_depth is not None and depth >= self.max_depth:\n",
        "            return {'type': 'leaf', 'value': np.mean(y)}\n",
        "\n",
        "        if len(y) <= self.min_samples_leaf:\n",
        "            return {'type': 'leaf', 'value': np.mean(y)}\n",
        "\n",
        "        if np.all(y == y[0]):\n",
        "            return {'type': 'leaf', 'value': y[0]}\n",
        "\n",
        "        best_split = self._find_best_split(X, y)\n",
        "        if best_split is None:\n",
        "            return {'type': 'leaf', 'value': np.mean(y)}\n",
        "\n",
        "        left_mask = X[:, best_split['feature']] <= best_split['threshold']\n",
        "        right_mask = ~left_mask\n",
        "\n",
        "        left_subtree = self._build_tree(X[left_mask], y[left_mask], depth + 1)\n",
        "        right_subtree = self._build_tree(X[right_mask], y[right_mask], depth + 1)\n",
        "\n",
        "        return {\n",
        "            'type': 'node',\n",
        "            'feature': best_split['feature'],\n",
        "            'threshold': best_split['threshold'],\n",
        "            'left': left_subtree,\n",
        "            'right': right_subtree\n",
        "        }\n",
        "\n",
        "    def _find_best_split(self, X, y):\n",
        "        best_mse = float('inf')\n",
        "        best_split = None\n",
        "\n",
        "        n_features = X.shape[1]\n",
        "\n",
        "        current_mse = self._mse(y)\n",
        "\n",
        "        for feature in range(n_features):\n",
        "            thresholds = np.unique(X[:, feature])\n",
        "            for t in thresholds:\n",
        "                left_mask = X[:, feature] <= t\n",
        "                right_mask = ~left_mask\n",
        "\n",
        "                if np.sum(left_mask) < self.min_samples_leaf or np.sum(right_mask) < self.min_samples_leaf:\n",
        "                    continue\n",
        "\n",
        "                left_y = y[left_mask]\n",
        "                right_y = y[right_mask]\n",
        "\n",
        "                left_mse = self._mse(left_y)\n",
        "                right_mse = self._mse(right_y)\n",
        "                weighted_mse = (len(left_y)*left_mse + len(right_y)*right_mse) / len(y)\n",
        "\n",
        "                if weighted_mse < best_mse:\n",
        "                    best_mse = weighted_mse\n",
        "                    best_split = {\n",
        "                        'feature': feature,\n",
        "                        'threshold': t\n",
        "                    }\n",
        "\n",
        "        if best_split is None or best_mse >= current_mse:\n",
        "            return None\n",
        "        return best_split\n",
        "\n",
        "    def _mse(self, y):\n",
        "        mean_y = np.mean(y)\n",
        "        return np.mean((y - mean_y)**2)\n",
        "\n",
        "    def _predict_sample(self, x, node):\n",
        "        if node['type'] == 'leaf':\n",
        "            return node['value']\n",
        "\n",
        "        if x[node['feature']] <= node['threshold']:\n",
        "            return self._predict_sample(x, node['left'])\n",
        "        else:\n",
        "            return self._predict_sample(x, node['right'])\n",
        "\n",
        "    def get_params(self, deep=True):\n",
        "        return {\n",
        "            'max_depth': self.max_depth,\n",
        "            'min_samples_leaf': self.min_samples_leaf,\n",
        "            'criterion': self.criterion\n",
        "        }\n",
        "\n",
        "    def set_params(self, **params):\n",
        "        for param, value in params.items():\n",
        "            setattr(self, param, value)\n",
        "        return self\n",
        "\n"
      ]
    },
    {
      "cell_type": "markdown",
      "metadata": {
        "id": "YwKVHr_RuC4C"
      },
      "source": [
        "Обучим бейзлайн модель на собственной реализации решающего дерева:"
      ]
    },
    {
      "cell_type": "code",
      "execution_count": 21,
      "metadata": {
        "colab": {
          "base_uri": "https://localhost:8080/",
          "height": 500
        },
        "id": "3cOA1hEjyIzr",
        "outputId": "4846a9a5-1aa9-428d-daab-0b142cc2290f"
      },
      "outputs": [
        {
          "name": "stdout",
          "output_type": "stream",
          "text": [
            "MSE: 1.0105412309375013\n",
            "R2: 0.9989529173638471\n"
          ]
        },
        {
          "data": {
            "image/png": "[encoded data removed]",
            "text/plain": [
              "<Figure size 640x480 with 1 Axes>"
            ]
          },
          "metadata": {},
          "output_type": "display_data"
        }
      ],
      "source": [
        "import pandas as pd\n",
        "import numpy as np\n",
        "from sklearn.preprocessing import LabelEncoder, StandardScaler\n",
        "from sklearn.model_selection import train_test_split\n",
        "from sklearn import metrics\n",
        "import seaborn as sns\n",
        "import matplotlib.pyplot as plt\n",
        "\n",
        "X = data_regr.drop('gold close', axis=1).values\n",
        "y = data_regr['gold close'].values\n",
        "\n",
        "X_train_regr, X_test_regr, y_train_regr, y_test_regr = train_test_split(X, y, test_size=0.2, random_state=42)\n",
        "\n",
        "scaler = StandardScaler()\n",
        "X_train_regr = scaler.fit_transform(X_train_regr)\n",
        "X_test_regr = scaler.transform(X_test_regr)\n",
        "\n",
        "baseline_regr = SimpleDecisionTreeRegressor(max_depth=None, min_samples_leaf=1, criterion='mse')\n",
        "baseline_regr.fit(X_train_regr, y_train_regr)\n",
        "\n",
        "predicted_regr_baseline = baseline_regr.predict(X_test_regr)\n",
        "\n",
        "mse_baseline = metrics.mean_squared_error(y_test_regr, predicted_regr_baseline)\n",
        "r2_baseline = metrics.r2_score(y_test_regr, predicted_regr_baseline)\n",
        "\n",
        "print(\"MSE:\", mse_baseline)\n",
        "print(\"R2:\", r2_baseline)\n",
        "\n",
        "sns.kdeplot(y_test_regr, label='Actual', color='blue', fill=True)\n",
        "sns.kdeplot(predicted_regr_baseline, label='Predicted', color='red', fill=True)\n",
        "plt.xlabel('gold close price')\n",
        "plt.ylabel('density')\n",
        "plt.legend()\n",
        "plt.show()\n"
      ]
    },
    {
      "cell_type": "markdown",
      "metadata": {
        "id": "vrzHEeU3ngke"
      },
      "source": [
        "Получаем R2 0.9989529173638471, что немного ниже, чем у бейзлайн модели из sklearn. Теперь применим гипотезы по улучшению"
      ]
    },
    {
      "cell_type": "code",
      "execution_count": 22,
      "metadata": {
        "colab": {
          "base_uri": "https://localhost:8080/",
          "height": 500
        },
        "id": "v-6xt2jQTJDm",
        "outputId": "94ef3956-67e8-4c4f-f3b0-99741d9cdb67"
      },
      "outputs": [
        {
          "name": "stdout",
          "output_type": "stream",
          "text": [
            "Улучш. MSE:  0.8852615513544804\n",
            "Улучш. R2:  0.9990827271856912\n"
          ]
        },
        {
          "data": {
            "image/png": "[encoded data removed]",
            "text/plain": [
              "<Figure size 640x480 with 1 Axes>"
            ]
          },
          "metadata": {},
          "output_type": "display_data"
        }
      ],
      "source": [
        "import pandas as pd\n",
        "import numpy as np\n",
        "from sklearn.preprocessing import LabelEncoder, StandardScaler\n",
        "from sklearn.model_selection import train_test_split, GridSearchCV\n",
        "from sklearn import metrics\n",
        "import seaborn as sns\n",
        "import matplotlib.pyplot as plt\n",
        "\n",
        "X = data_regr.drop('gold close', axis=1).values\n",
        "y = data_regr['gold close'].values\n",
        "\n",
        "X_train_regr, X_test_regr, y_train_regr, y_test_regr = train_test_split(X, y, test_size=0.2, random_state=42)\n",
        "\n",
        "scaler = StandardScaler()\n",
        "X_train_regr = scaler.fit_transform(X_train_regr)\n",
        "X_test_regr = scaler.transform(X_test_regr)\n",
        "\n",
        "param_grid = {\n",
        "    'max_depth': [3, 5, 7, 10, None],\n",
        "    'min_samples_leaf': [1, 2, 4, 8],\n",
        "    'criterion': ['mse']\n",
        "}\n",
        "\n",
        "grid_search_regr = GridSearchCV(SimpleDecisionTreeRegressor(), param_grid, cv=5, scoring='neg_mean_squared_error', n_jobs=-1)\n",
        "grid_search_regr.fit(X_train_regr, y_train_regr)\n",
        "\n",
        "best_tree_regr_model = grid_search_regr.best_estimator_\n",
        "predicted_regr = best_tree_regr_model.predict(X_test_regr)\n",
        "\n",
        "mse = metrics.mean_squared_error(y_test_regr, predicted_regr)\n",
        "r2 = metrics.r2_score(y_test_regr, predicted_regr)\n",
        "print(\"Улучш. MSE: \", mse)\n",
        "print(\"Улучш. R2: \", r2)\n",
        "\n",
        "sns.kdeplot(y_test_regr, label='Actual', color='blue', fill=True)\n",
        "sns.kdeplot(predicted_regr, label='Predicted', color='red', fill=True)\n",
        "plt.xlabel('gold close price')\n",
        "plt.ylabel('Density')\n",
        "plt.legend()\n",
        "plt.show()\n"
      ]
    },
    {
      "cell_type": "markdown",
      "metadata": {
        "id": "ef5GkBcHuv_K"
      },
      "source": [
        "Видим, что теперь результаты собственной реализации оказались более близкими к библиотечной реализации "
      ]
    }
  ],
  "metadata": {
    "colab": {
      "provenance": []
    },
    "kernelspec": {
      "display_name": "Python 3",
      "name": "python3"
    },
    "language_info": {
      "codemirror_mode": {
        "name": "ipython",
        "version": 3
      },
      "file_extension": ".py",
      "mimetype": "text/x-python",
      "name": "python",
      "nbconvert_exporter": "python",
      "pygments_lexer": "ipython3",
      "version": "3.11.8"
    }
  },
  "nbformat": 4,
  "nbformat_minor": 0
}
