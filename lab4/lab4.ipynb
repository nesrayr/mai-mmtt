{
  "cells": [
    {
      "cell_type": "markdown",
      "metadata": {
        "id": "iwu9W9faBwbG"
      },
      "source": [
        "# ЛР №4 Проведение исследований со случайным лесом\n",
        "Для классификации был выбрал датасет '[Mushroom Dataset](https://www.kaggle.com/datasets/prishasawhney/mushroom-dataset)' \\\n",
        "Задачей было классифицировать съедобные и несъедобные грибы  \\\n",
        "Для регрессии был выбран датасет '[Gold Price Regression](https://www.kaggle.com/datasets/franciscogcc/financial-data)'\\\n",
        "Задачей было предсказывать стоимость золота."
      ]
    },
    {
      "cell_type": "markdown",
      "metadata": {
        "id": "U7l2u9R6CEd1"
      },
      "source": [
        "# Случайный лес"
      ]
    },
    {
      "cell_type": "markdown",
      "metadata": {
        "id": "jWTvgV3GBxZl"
      },
      "source": [
        "Загружаем датасет и смотрим его верхние строки"
      ]
    },
    {
      "cell_type": "code",
      "execution_count": 1,
      "metadata": {
        "colab": {
          "base_uri": "https://localhost:8080/",
          "height": 255
        },
        "id": "VLIuEyBWPfgG",
        "outputId": "b1fb9c13-7d1b-4582-fd86-39bac59fbc93"
      },
      "outputs": [
        {
          "data": {
            "text/html": [
              "<div>\n",
              "<style scoped>\n",
              "    .dataframe tbody tr th:only-of-type {\n",
              "        vertical-align: middle;\n",
              "    }\n",
              "\n",
              "    .dataframe tbody tr th {\n",
              "        vertical-align: top;\n",
              "    }\n",
              "\n",
              "    .dataframe thead th {\n",
              "        text-align: right;\n",
              "    }\n",
              "</style>\n",
              "<table border=\"1\" class=\"dataframe\">\n",
              "  <thead>\n",
              "    <tr style=\"text-align: right;\">\n",
              "      <th></th>\n",
              "      <th>cap-diameter</th>\n",
              "      <th>cap-shape</th>\n",
              "      <th>gill-attachment</th>\n",
              "      <th>gill-color</th>\n",
              "      <th>stem-height</th>\n",
              "      <th>stem-width</th>\n",
              "      <th>stem-color</th>\n",
              "      <th>season</th>\n",
              "      <th>class</th>\n",
              "    </tr>\n",
              "  </thead>\n",
              "  <tbody>\n",
              "    <tr>\n",
              "      <th>0</th>\n",
              "      <td>1372</td>\n",
              "      <td>2</td>\n",
              "      <td>2</td>\n",
              "      <td>10</td>\n",
              "      <td>3.807467</td>\n",
              "      <td>1545</td>\n",
              "      <td>11</td>\n",
              "      <td>1.804273</td>\n",
              "      <td>1</td>\n",
              "    </tr>\n",
              "    <tr>\n",
              "      <th>1</th>\n",
              "      <td>1461</td>\n",
              "      <td>2</td>\n",
              "      <td>2</td>\n",
              "      <td>10</td>\n",
              "      <td>3.807467</td>\n",
              "      <td>1557</td>\n",
              "      <td>11</td>\n",
              "      <td>1.804273</td>\n",
              "      <td>1</td>\n",
              "    </tr>\n",
              "    <tr>\n",
              "      <th>2</th>\n",
              "      <td>1371</td>\n",
              "      <td>2</td>\n",
              "      <td>2</td>\n",
              "      <td>10</td>\n",
              "      <td>3.612496</td>\n",
              "      <td>1566</td>\n",
              "      <td>11</td>\n",
              "      <td>1.804273</td>\n",
              "      <td>1</td>\n",
              "    </tr>\n",
              "    <tr>\n",
              "      <th>3</th>\n",
              "      <td>1261</td>\n",
              "      <td>6</td>\n",
              "      <td>2</td>\n",
              "      <td>10</td>\n",
              "      <td>3.787572</td>\n",
              "      <td>1566</td>\n",
              "      <td>11</td>\n",
              "      <td>1.804273</td>\n",
              "      <td>1</td>\n",
              "    </tr>\n",
              "    <tr>\n",
              "      <th>4</th>\n",
              "      <td>1305</td>\n",
              "      <td>6</td>\n",
              "      <td>2</td>\n",
              "      <td>10</td>\n",
              "      <td>3.711971</td>\n",
              "      <td>1464</td>\n",
              "      <td>11</td>\n",
              "      <td>0.943195</td>\n",
              "      <td>1</td>\n",
              "    </tr>\n",
              "  </tbody>\n",
              "</table>\n",
              "</div>"
            ],
            "text/plain": [
              "   cap-diameter  cap-shape  gill-attachment  gill-color  stem-height  \\\n",
              "0          1372          2                2          10     3.807467   \n",
              "1          1461          2                2          10     3.807467   \n",
              "2          1371          2                2          10     3.612496   \n",
              "3          1261          6                2          10     3.787572   \n",
              "4          1305          6                2          10     3.711971   \n",
              "\n",
              "   stem-width  stem-color    season  class  \n",
              "0        1545          11  1.804273      1  \n",
              "1        1557          11  1.804273      1  \n",
              "2        1566          11  1.804273      1  \n",
              "3        1566          11  1.804273      1  \n",
              "4        1464          11  0.943195      1  "
            ]
          },
          "execution_count": 1,
          "metadata": {},
          "output_type": "execute_result"
        }
      ],
      "source": [
        "\n",
        "import pandas as pd\n",
        "from sklearn.model_selection import train_test_split\n",
        "from sklearn.preprocessing import StandardScaler, LabelEncoder\n",
        "from sklearn.impute import SimpleImputer\n",
        "from sklearn.ensemble import RandomForestClassifier, RandomForestRegressor\n",
        "from sklearn import metrics\n",
        "import matplotlib.pyplot as plt\n",
        "import seaborn as sns\n",
        "\n",
        "file_path = \"../mushroom_cleaned.csv\"\n",
        "data_class = pd.read_csv(file_path)\n",
        "data_class.head()\n",
        "\n"
      ]
    },
    {
      "cell_type": "markdown",
      "metadata": {
        "id": "5-PLesNzerv4"
      },
      "source": [
        "То же самое для второго датасета "
      ]
    },
    {
      "cell_type": "code",
      "execution_count": 2,
      "metadata": {
        "colab": {
          "base_uri": "https://localhost:8080/",
          "height": 206
        },
        "id": "dMypl9uxbunJ",
        "outputId": "cdd87626-db1b-4990-d6e4-d42118a989f7"
      },
      "outputs": [
        {
          "data": {
            "text/html": [
              "<div>\n",
              "<style scoped>\n",
              "    .dataframe tbody tr th:only-of-type {\n",
              "        vertical-align: middle;\n",
              "    }\n",
              "\n",
              "    .dataframe tbody tr th {\n",
              "        vertical-align: top;\n",
              "    }\n",
              "\n",
              "    .dataframe thead th {\n",
              "        text-align: right;\n",
              "    }\n",
              "</style>\n",
              "<table border=\"1\" class=\"dataframe\">\n",
              "  <thead>\n",
              "    <tr style=\"text-align: right;\">\n",
              "      <th></th>\n",
              "      <th>date</th>\n",
              "      <th>sp500 open</th>\n",
              "      <th>sp500 high</th>\n",
              "      <th>sp500 low</th>\n",
              "      <th>sp500 close</th>\n",
              "      <th>sp500 volume</th>\n",
              "      <th>sp500 high-low</th>\n",
              "      <th>nasdaq open</th>\n",
              "      <th>nasdaq high</th>\n",
              "      <th>nasdaq low</th>\n",
              "      <th>...</th>\n",
              "      <th>palladium high</th>\n",
              "      <th>palladium low</th>\n",
              "      <th>palladium close</th>\n",
              "      <th>palladium volume</th>\n",
              "      <th>palladium high-low</th>\n",
              "      <th>gold open</th>\n",
              "      <th>gold high</th>\n",
              "      <th>gold low</th>\n",
              "      <th>gold close</th>\n",
              "      <th>gold volume</th>\n",
              "    </tr>\n",
              "  </thead>\n",
              "  <tbody>\n",
              "    <tr>\n",
              "      <th>0</th>\n",
              "      <td>2010-01-14</td>\n",
              "      <td>114.49</td>\n",
              "      <td>115.14</td>\n",
              "      <td>114.42</td>\n",
              "      <td>114.93</td>\n",
              "      <td>115646960.0</td>\n",
              "      <td>0.72</td>\n",
              "      <td>46.26</td>\n",
              "      <td>46.520</td>\n",
              "      <td>46.22</td>\n",
              "      <td>...</td>\n",
              "      <td>45.02</td>\n",
              "      <td>43.86</td>\n",
              "      <td>44.84</td>\n",
              "      <td>364528.0</td>\n",
              "      <td>1.16</td>\n",
              "      <td>111.51</td>\n",
              "      <td>112.37</td>\n",
              "      <td>110.79</td>\n",
              "      <td>112.03</td>\n",
              "      <td>18305238.0</td>\n",
              "    </tr>\n",
              "    <tr>\n",
              "      <th>1</th>\n",
              "      <td>2010-01-15</td>\n",
              "      <td>114.73</td>\n",
              "      <td>114.84</td>\n",
              "      <td>113.20</td>\n",
              "      <td>113.64</td>\n",
              "      <td>212252769.0</td>\n",
              "      <td>1.64</td>\n",
              "      <td>46.46</td>\n",
              "      <td>46.550</td>\n",
              "      <td>45.65</td>\n",
              "      <td>...</td>\n",
              "      <td>45.76</td>\n",
              "      <td>44.40</td>\n",
              "      <td>45.76</td>\n",
              "      <td>442210.0</td>\n",
              "      <td>1.36</td>\n",
              "      <td>111.35</td>\n",
              "      <td>112.01</td>\n",
              "      <td>110.38</td>\n",
              "      <td>110.86</td>\n",
              "      <td>18000724.0</td>\n",
              "    </tr>\n",
              "    <tr>\n",
              "      <th>2</th>\n",
              "      <td>2010-01-18</td>\n",
              "      <td>NaN</td>\n",
              "      <td>NaN</td>\n",
              "      <td>NaN</td>\n",
              "      <td>NaN</td>\n",
              "      <td>NaN</td>\n",
              "      <td>NaN</td>\n",
              "      <td>NaN</td>\n",
              "      <td>NaN</td>\n",
              "      <td>NaN</td>\n",
              "      <td>...</td>\n",
              "      <td>NaN</td>\n",
              "      <td>NaN</td>\n",
              "      <td>NaN</td>\n",
              "      <td>NaN</td>\n",
              "      <td>NaN</td>\n",
              "      <td>NaN</td>\n",
              "      <td>NaN</td>\n",
              "      <td>NaN</td>\n",
              "      <td>NaN</td>\n",
              "      <td>NaN</td>\n",
              "    </tr>\n",
              "    <tr>\n",
              "      <th>3</th>\n",
              "      <td>2010-01-19</td>\n",
              "      <td>113.62</td>\n",
              "      <td>115.13</td>\n",
              "      <td>113.59</td>\n",
              "      <td>115.06</td>\n",
              "      <td>138671890.0</td>\n",
              "      <td>1.54</td>\n",
              "      <td>45.96</td>\n",
              "      <td>46.640</td>\n",
              "      <td>45.95</td>\n",
              "      <td>...</td>\n",
              "      <td>47.08</td>\n",
              "      <td>45.70</td>\n",
              "      <td>46.94</td>\n",
              "      <td>629150.0</td>\n",
              "      <td>1.38</td>\n",
              "      <td>110.95</td>\n",
              "      <td>111.75</td>\n",
              "      <td>110.83</td>\n",
              "      <td>111.52</td>\n",
              "      <td>10467927.0</td>\n",
              "    </tr>\n",
              "    <tr>\n",
              "      <th>4</th>\n",
              "      <td>2010-01-20</td>\n",
              "      <td>114.28</td>\n",
              "      <td>114.45</td>\n",
              "      <td>112.98</td>\n",
              "      <td>113.89</td>\n",
              "      <td>216330645.0</td>\n",
              "      <td>1.47</td>\n",
              "      <td>46.27</td>\n",
              "      <td>46.604</td>\n",
              "      <td>45.43</td>\n",
              "      <td>...</td>\n",
              "      <td>47.31</td>\n",
              "      <td>45.17</td>\n",
              "      <td>47.05</td>\n",
              "      <td>643198.0</td>\n",
              "      <td>2.14</td>\n",
              "      <td>109.97</td>\n",
              "      <td>110.05</td>\n",
              "      <td>108.46</td>\n",
              "      <td>108.94</td>\n",
              "      <td>17534231.0</td>\n",
              "    </tr>\n",
              "  </tbody>\n",
              "</table>\n",
              "<p>5 rows × 47 columns</p>\n",
              "</div>"
            ],
            "text/plain": [
              "         date  sp500 open  sp500 high  sp500 low  sp500 close  sp500 volume  \\\n",
              "0  2010-01-14      114.49      115.14     114.42       114.93   115646960.0   \n",
              "1  2010-01-15      114.73      114.84     113.20       113.64   212252769.0   \n",
              "2  2010-01-18         NaN         NaN        NaN          NaN           NaN   \n",
              "3  2010-01-19      113.62      115.13     113.59       115.06   138671890.0   \n",
              "4  2010-01-20      114.28      114.45     112.98       113.89   216330645.0   \n",
              "\n",
              "   sp500 high-low  nasdaq open  nasdaq high  nasdaq low  ...  palladium high  \\\n",
              "0            0.72        46.26       46.520       46.22  ...           45.02   \n",
              "1            1.64        46.46       46.550       45.65  ...           45.76   \n",
              "2             NaN          NaN          NaN         NaN  ...             NaN   \n",
              "3            1.54        45.96       46.640       45.95  ...           47.08   \n",
              "4            1.47        46.27       46.604       45.43  ...           47.31   \n",
              "\n",
              "   palladium low  palladium close  palladium volume  palladium high-low  \\\n",
              "0          43.86            44.84          364528.0                1.16   \n",
              "1          44.40            45.76          442210.0                1.36   \n",
              "2            NaN              NaN               NaN                 NaN   \n",
              "3          45.70            46.94          629150.0                1.38   \n",
              "4          45.17            47.05          643198.0                2.14   \n",
              "\n",
              "   gold open  gold high  gold low  gold close  gold volume  \n",
              "0     111.51     112.37    110.79      112.03   18305238.0  \n",
              "1     111.35     112.01    110.38      110.86   18000724.0  \n",
              "2        NaN        NaN       NaN         NaN          NaN  \n",
              "3     110.95     111.75    110.83      111.52   10467927.0  \n",
              "4     109.97     110.05    108.46      108.94   17534231.0  \n",
              "\n",
              "[5 rows x 47 columns]"
            ]
          },
          "execution_count": 2,
          "metadata": {},
          "output_type": "execute_result"
        }
      ],
      "source": [
        "file_path2 = \"../financial_regression.csv\"\n",
        "data_regr = pd.read_csv(file_path2)\n",
        "data_regr.head()"
      ]
    },
    {
      "cell_type": "markdown",
      "metadata": {
        "id": "0mE2-PXpCNH-"
      },
      "source": [
        "Кодируем категориальные фичи и разделим фичи на целевые и не целевые "
      ]
    },
    {
      "cell_type": "code",
      "execution_count": 3,
      "metadata": {
        "id": "kl9l17QCVNTH"
      },
      "outputs": [],
      "source": [
        "encoded_data = pd.get_dummies(data_class, columns=[\"cap-shape\", \"gill-attachment\", \"gill-color\", \"stem-color\"])\n",
        "\n",
        "label_encoder = LabelEncoder()\n",
        "for column in [\"cap-shape\", \"gill-attachment\", \"gill-color\", \"stem-color\"]:\n",
        "    data_class[column] = label_encoder.fit_transform(data_class[column])\n",
        "\n",
        "# разделение фич на целевую и не целевую\n",
        "X = data_class.drop(columns=[\"class\"])\n",
        "y = data_class[\"class\"]\n",
        "\n",
        "X_train_class, X_test_class, y_train_class, y_test_class = train_test_split(X, y, test_size=0.2, random_state=42)\n",
        "\n",
        "scaler = StandardScaler()\n",
        "X_train_class = scaler.fit_transform(X_train_class)\n",
        "X_test_class = scaler.transform(X_test_class)"
      ]
    },
    {
      "cell_type": "markdown",
      "metadata": {
        "id": "QUHr4k5HfPQg"
      },
      "source": [
        "Кодируем фичи для датасета регрессии"
      ]
    },
    {
      "cell_type": "code",
      "execution_count": 4,
      "metadata": {
        "id": "MHLCCOMX0-SU"
      },
      "outputs": [],
      "source": [
        "from sklearn.model_selection import train_test_split\n",
        "\n",
        "data_regr = data_regr.dropna(subset=['sp500 close', 'gold close'])\n",
        "data_regr = data_regr.drop(['us_rates_%', 'CPI', 'date', 'GDP'], axis=1)\n",
        "data_regr = data_regr.dropna()\n",
        "\n",
        "\n",
        "X = data_regr.drop('gold close', axis=1)\n",
        "y = data_regr['gold close']\n",
        "\n",
        "X_train_regr, X_test_regr, y_train_regr, y_test_regr = train_test_split(X, y, test_size=0.2, random_state=42)\n",
        "\n",
        "from sklearn.preprocessing import StandardScaler, LabelEncoder\n",
        "categorical_columns = data_regr.select_dtypes(include=['object']).columns\n",
        "label_encoders = {}\n",
        "for column in categorical_columns:\n",
        "    le = LabelEncoder()\n",
        "    data_regr[column] = le.fit_transform(data_regr[column].astype(str))\n",
        "    label_encoders[column] = le"
      ]
    },
    {
      "cell_type": "markdown",
      "metadata": {
        "id": "q47jKKadCtAW"
      },
      "source": [
        "Обучение моделей случайного леса регрессора и классификатора. В качестве метрики качества будем использовать accuracy для классификатора и MSE, R2 для регрессора."
      ]
    },
    {
      "cell_type": "code",
      "execution_count": 5,
      "metadata": {
        "colab": {
          "base_uri": "https://localhost:8080/",
          "height": 80
        },
        "id": "i_y6u5bWVQbW",
        "outputId": "de818969-0581-49ff-ba54-28b0e53c314f"
      },
      "outputs": [
        {
          "data": {
            "text/html": [
              "<style>#sk-container-id-1 {\n",
              "  /* Definition of color scheme common for light and dark mode */\n",
              "  --sklearn-color-text: black;\n",
              "  --sklearn-color-line: gray;\n",
              "  /* Definition of color scheme for unfitted estimators */\n",
              "  --sklearn-color-unfitted-level-0: #fff5e6;\n",
              "  --sklearn-color-unfitted-level-1: #f6e4d2;\n",
              "  --sklearn-color-unfitted-level-2: #ffe0b3;\n",
              "  --sklearn-color-unfitted-level-3: chocolate;\n",
              "  /* Definition of color scheme for fitted estimators */\n",
              "  --sklearn-color-fitted-level-0: #f0f8ff;\n",
              "  --sklearn-color-fitted-level-1: #d4ebff;\n",
              "  --sklearn-color-fitted-level-2: #b3dbfd;\n",
              "  --sklearn-color-fitted-level-3: cornflowerblue;\n",
              "\n",
              "  /* Specific color for light theme */\n",
              "  --sklearn-color-text-on-default-background: var(--sg-text-color, var(--theme-code-foreground, var(--jp-content-font-color1, black)));\n",
              "  --sklearn-color-background: var(--sg-background-color, var(--theme-background, var(--jp-layout-color0, white)));\n",
              "  --sklearn-color-border-box: var(--sg-text-color, var(--theme-code-foreground, var(--jp-content-font-color1, black)));\n",
              "  --sklearn-color-icon: #696969;\n",
              "\n",
              "  @media (prefers-color-scheme: dark) {\n",
              "    /* Redefinition of color scheme for dark theme */\n",
              "    --sklearn-color-text-on-default-background: var(--sg-text-color, var(--theme-code-foreground, var(--jp-content-font-color1, white)));\n",
              "    --sklearn-color-background: var(--sg-background-color, var(--theme-background, var(--jp-layout-color0, #111)));\n",
              "    --sklearn-color-border-box: var(--sg-text-color, var(--theme-code-foreground, var(--jp-content-font-color1, white)));\n",
              "    --sklearn-color-icon: #878787;\n",
              "  }\n",
              "}\n",
              "\n",
              "#sk-container-id-1 {\n",
              "  color: var(--sklearn-color-text);\n",
              "}\n",
              "\n",
              "#sk-container-id-1 pre {\n",
              "  padding: 0;\n",
              "}\n",
              "\n",
              "#sk-container-id-1 input.sk-hidden--visually {\n",
              "  border: 0;\n",
              "  clip: rect(1px 1px 1px 1px);\n",
              "  clip: rect(1px, 1px, 1px, 1px);\n",
              "  height: 1px;\n",
              "  margin: -1px;\n",
              "  overflow: hidden;\n",
              "  padding: 0;\n",
              "  position: absolute;\n",
              "  width: 1px;\n",
              "}\n",
              "\n",
              "#sk-container-id-1 div.sk-dashed-wrapped {\n",
              "  border: 1px dashed var(--sklearn-color-line);\n",
              "  margin: 0 0.4em 0.5em 0.4em;\n",
              "  box-sizing: border-box;\n",
              "  padding-bottom: 0.4em;\n",
              "  background-color: var(--sklearn-color-background);\n",
              "}\n",
              "\n",
              "#sk-container-id-1 div.sk-container {\n",
              "  /* jupyter's `normalize.less` sets `[hidden] { display: none; }`\n",
              "     but bootstrap.min.css set `[hidden] { display: none !important; }`\n",
              "     so we also need the `!important` here to be able to override the\n",
              "     default hidden behavior on the sphinx rendered scikit-learn.org.\n",
              "     See: https://github.com/scikit-learn/scikit-learn/issues/21755 */\n",
              "  display: inline-block !important;\n",
              "  position: relative;\n",
              "}\n",
              "\n",
              "#sk-container-id-1 div.sk-text-repr-fallback {\n",
              "  display: none;\n",
              "}\n",
              "\n",
              "div.sk-parallel-item,\n",
              "div.sk-serial,\n",
              "div.sk-item {\n",
              "  /* draw centered vertical line to link estimators */\n",
              "  background-image: linear-gradient(var(--sklearn-color-text-on-default-background), var(--sklearn-color-text-on-default-background));\n",
              "  background-size: 2px 100%;\n",
              "  background-repeat: no-repeat;\n",
              "  background-position: center center;\n",
              "}\n",
              "\n",
              "/* Parallel-specific style estimator block */\n",
              "\n",
              "#sk-container-id-1 div.sk-parallel-item::after {\n",
              "  content: \"\";\n",
              "  width: 100%;\n",
              "  border-bottom: 2px solid var(--sklearn-color-text-on-default-background);\n",
              "  flex-grow: 1;\n",
              "}\n",
              "\n",
              "#sk-container-id-1 div.sk-parallel {\n",
              "  display: flex;\n",
              "  align-items: stretch;\n",
              "  justify-content: center;\n",
              "  background-color: var(--sklearn-color-background);\n",
              "  position: relative;\n",
              "}\n",
              "\n",
              "#sk-container-id-1 div.sk-parallel-item {\n",
              "  display: flex;\n",
              "  flex-direction: column;\n",
              "}\n",
              "\n",
              "#sk-container-id-1 div.sk-parallel-item:first-child::after {\n",
              "  align-self: flex-end;\n",
              "  width: 50%;\n",
              "}\n",
              "\n",
              "#sk-container-id-1 div.sk-parallel-item:last-child::after {\n",
              "  align-self: flex-start;\n",
              "  width: 50%;\n",
              "}\n",
              "\n",
              "#sk-container-id-1 div.sk-parallel-item:only-child::after {\n",
              "  width: 0;\n",
              "}\n",
              "\n",
              "/* Serial-specific style estimator block */\n",
              "\n",
              "#sk-container-id-1 div.sk-serial {\n",
              "  display: flex;\n",
              "  flex-direction: column;\n",
              "  align-items: center;\n",
              "  background-color: var(--sklearn-color-background);\n",
              "  padding-right: 1em;\n",
              "  padding-left: 1em;\n",
              "}\n",
              "\n",
              "\n",
              "/* Toggleable style: style used for estimator/Pipeline/ColumnTransformer box that is\n",
              "clickable and can be expanded/collapsed.\n",
              "- Pipeline and ColumnTransformer use this feature and define the default style\n",
              "- Estimators will overwrite some part of the style using the `sk-estimator` class\n",
              "*/\n",
              "\n",
              "/* Pipeline and ColumnTransformer style (default) */\n",
              "\n",
              "#sk-container-id-1 div.sk-toggleable {\n",
              "  /* Default theme specific background. It is overwritten whether we have a\n",
              "  specific estimator or a Pipeline/ColumnTransformer */\n",
              "  background-color: var(--sklearn-color-background);\n",
              "}\n",
              "\n",
              "/* Toggleable label */\n",
              "#sk-container-id-1 label.sk-toggleable__label {\n",
              "  cursor: pointer;\n",
              "  display: block;\n",
              "  width: 100%;\n",
              "  margin-bottom: 0;\n",
              "  padding: 0.5em;\n",
              "  box-sizing: border-box;\n",
              "  text-align: center;\n",
              "}\n",
              "\n",
              "#sk-container-id-1 label.sk-toggleable__label-arrow:before {\n",
              "  /* Arrow on the left of the label */\n",
              "  content: \"▸\";\n",
              "  float: left;\n",
              "  margin-right: 0.25em;\n",
              "  color: var(--sklearn-color-icon);\n",
              "}\n",
              "\n",
              "#sk-container-id-1 label.sk-toggleable__label-arrow:hover:before {\n",
              "  color: var(--sklearn-color-text);\n",
              "}\n",
              "\n",
              "/* Toggleable content - dropdown */\n",
              "\n",
              "#sk-container-id-1 div.sk-toggleable__content {\n",
              "  max-height: 0;\n",
              "  max-width: 0;\n",
              "  overflow: hidden;\n",
              "  text-align: left;\n",
              "  /* unfitted */\n",
              "  background-color: var(--sklearn-color-unfitted-level-0);\n",
              "}\n",
              "\n",
              "#sk-container-id-1 div.sk-toggleable__content.fitted {\n",
              "  /* fitted */\n",
              "  background-color: var(--sklearn-color-fitted-level-0);\n",
              "}\n",
              "\n",
              "#sk-container-id-1 div.sk-toggleable__content pre {\n",
              "  margin: 0.2em;\n",
              "  border-radius: 0.25em;\n",
              "  color: var(--sklearn-color-text);\n",
              "  /* unfitted */\n",
              "  background-color: var(--sklearn-color-unfitted-level-0);\n",
              "}\n",
              "\n",
              "#sk-container-id-1 div.sk-toggleable__content.fitted pre {\n",
              "  /* unfitted */\n",
              "  background-color: var(--sklearn-color-fitted-level-0);\n",
              "}\n",
              "\n",
              "#sk-container-id-1 input.sk-toggleable__control:checked~div.sk-toggleable__content {\n",
              "  /* Expand drop-down */\n",
              "  max-height: 200px;\n",
              "  max-width: 100%;\n",
              "  overflow: auto;\n",
              "}\n",
              "\n",
              "#sk-container-id-1 input.sk-toggleable__control:checked~label.sk-toggleable__label-arrow:before {\n",
              "  content: \"▾\";\n",
              "}\n",
              "\n",
              "/* Pipeline/ColumnTransformer-specific style */\n",
              "\n",
              "#sk-container-id-1 div.sk-label input.sk-toggleable__control:checked~label.sk-toggleable__label {\n",
              "  color: var(--sklearn-color-text);\n",
              "  background-color: var(--sklearn-color-unfitted-level-2);\n",
              "}\n",
              "\n",
              "#sk-container-id-1 div.sk-label.fitted input.sk-toggleable__control:checked~label.sk-toggleable__label {\n",
              "  background-color: var(--sklearn-color-fitted-level-2);\n",
              "}\n",
              "\n",
              "/* Estimator-specific style */\n",
              "\n",
              "/* Colorize estimator box */\n",
              "#sk-container-id-1 div.sk-estimator input.sk-toggleable__control:checked~label.sk-toggleable__label {\n",
              "  /* unfitted */\n",
              "  background-color: var(--sklearn-color-unfitted-level-2);\n",
              "}\n",
              "\n",
              "#sk-container-id-1 div.sk-estimator.fitted input.sk-toggleable__control:checked~label.sk-toggleable__label {\n",
              "  /* fitted */\n",
              "  background-color: var(--sklearn-color-fitted-level-2);\n",
              "}\n",
              "\n",
              "#sk-container-id-1 div.sk-label label.sk-toggleable__label,\n",
              "#sk-container-id-1 div.sk-label label {\n",
              "  /* The background is the default theme color */\n",
              "  color: var(--sklearn-color-text-on-default-background);\n",
              "}\n",
              "\n",
              "/* On hover, darken the color of the background */\n",
              "#sk-container-id-1 div.sk-label:hover label.sk-toggleable__label {\n",
              "  color: var(--sklearn-color-text);\n",
              "  background-color: var(--sklearn-color-unfitted-level-2);\n",
              "}\n",
              "\n",
              "/* Label box, darken color on hover, fitted */\n",
              "#sk-container-id-1 div.sk-label.fitted:hover label.sk-toggleable__label.fitted {\n",
              "  color: var(--sklearn-color-text);\n",
              "  background-color: var(--sklearn-color-fitted-level-2);\n",
              "}\n",
              "\n",
              "/* Estimator label */\n",
              "\n",
              "#sk-container-id-1 div.sk-label label {\n",
              "  font-family: monospace;\n",
              "  font-weight: bold;\n",
              "  display: inline-block;\n",
              "  line-height: 1.2em;\n",
              "}\n",
              "\n",
              "#sk-container-id-1 div.sk-label-container {\n",
              "  text-align: center;\n",
              "}\n",
              "\n",
              "/* Estimator-specific */\n",
              "#sk-container-id-1 div.sk-estimator {\n",
              "  font-family: monospace;\n",
              "  border: 1px dotted var(--sklearn-color-border-box);\n",
              "  border-radius: 0.25em;\n",
              "  box-sizing: border-box;\n",
              "  margin-bottom: 0.5em;\n",
              "  /* unfitted */\n",
              "  background-color: var(--sklearn-color-unfitted-level-0);\n",
              "}\n",
              "\n",
              "#sk-container-id-1 div.sk-estimator.fitted {\n",
              "  /* fitted */\n",
              "  background-color: var(--sklearn-color-fitted-level-0);\n",
              "}\n",
              "\n",
              "/* on hover */\n",
              "#sk-container-id-1 div.sk-estimator:hover {\n",
              "  /* unfitted */\n",
              "  background-color: var(--sklearn-color-unfitted-level-2);\n",
              "}\n",
              "\n",
              "#sk-container-id-1 div.sk-estimator.fitted:hover {\n",
              "  /* fitted */\n",
              "  background-color: var(--sklearn-color-fitted-level-2);\n",
              "}\n",
              "\n",
              "/* Specification for estimator info (e.g. \"i\" and \"?\") */\n",
              "\n",
              "/* Common style for \"i\" and \"?\" */\n",
              "\n",
              ".sk-estimator-doc-link,\n",
              "a:link.sk-estimator-doc-link,\n",
              "a:visited.sk-estimator-doc-link {\n",
              "  float: right;\n",
              "  font-size: smaller;\n",
              "  line-height: 1em;\n",
              "  font-family: monospace;\n",
              "  background-color: var(--sklearn-color-background);\n",
              "  border-radius: 1em;\n",
              "  height: 1em;\n",
              "  width: 1em;\n",
              "  text-decoration: none !important;\n",
              "  margin-left: 1ex;\n",
              "  /* unfitted */\n",
              "  border: var(--sklearn-color-unfitted-level-1) 1pt solid;\n",
              "  color: var(--sklearn-color-unfitted-level-1);\n",
              "}\n",
              "\n",
              ".sk-estimator-doc-link.fitted,\n",
              "a:link.sk-estimator-doc-link.fitted,\n",
              "a:visited.sk-estimator-doc-link.fitted {\n",
              "  /* fitted */\n",
              "  border: var(--sklearn-color-fitted-level-1) 1pt solid;\n",
              "  color: var(--sklearn-color-fitted-level-1);\n",
              "}\n",
              "\n",
              "/* On hover */\n",
              "div.sk-estimator:hover .sk-estimator-doc-link:hover,\n",
              ".sk-estimator-doc-link:hover,\n",
              "div.sk-label-container:hover .sk-estimator-doc-link:hover,\n",
              ".sk-estimator-doc-link:hover {\n",
              "  /* unfitted */\n",
              "  background-color: var(--sklearn-color-unfitted-level-3);\n",
              "  color: var(--sklearn-color-background);\n",
              "  text-decoration: none;\n",
              "}\n",
              "\n",
              "div.sk-estimator.fitted:hover .sk-estimator-doc-link.fitted:hover,\n",
              ".sk-estimator-doc-link.fitted:hover,\n",
              "div.sk-label-container:hover .sk-estimator-doc-link.fitted:hover,\n",
              ".sk-estimator-doc-link.fitted:hover {\n",
              "  /* fitted */\n",
              "  background-color: var(--sklearn-color-fitted-level-3);\n",
              "  color: var(--sklearn-color-background);\n",
              "  text-decoration: none;\n",
              "}\n",
              "\n",
              "/* Span, style for the box shown on hovering the info icon */\n",
              ".sk-estimator-doc-link span {\n",
              "  display: none;\n",
              "  z-index: 9999;\n",
              "  position: relative;\n",
              "  font-weight: normal;\n",
              "  right: .2ex;\n",
              "  padding: .5ex;\n",
              "  margin: .5ex;\n",
              "  width: min-content;\n",
              "  min-width: 20ex;\n",
              "  max-width: 50ex;\n",
              "  color: var(--sklearn-color-text);\n",
              "  box-shadow: 2pt 2pt 4pt #999;\n",
              "  /* unfitted */\n",
              "  background: var(--sklearn-color-unfitted-level-0);\n",
              "  border: .5pt solid var(--sklearn-color-unfitted-level-3);\n",
              "}\n",
              "\n",
              ".sk-estimator-doc-link.fitted span {\n",
              "  /* fitted */\n",
              "  background: var(--sklearn-color-fitted-level-0);\n",
              "  border: var(--sklearn-color-fitted-level-3);\n",
              "}\n",
              "\n",
              ".sk-estimator-doc-link:hover span {\n",
              "  display: block;\n",
              "}\n",
              "\n",
              "/* \"?\"-specific style due to the `<a>` HTML tag */\n",
              "\n",
              "#sk-container-id-1 a.estimator_doc_link {\n",
              "  float: right;\n",
              "  font-size: 1rem;\n",
              "  line-height: 1em;\n",
              "  font-family: monospace;\n",
              "  background-color: var(--sklearn-color-background);\n",
              "  border-radius: 1rem;\n",
              "  height: 1rem;\n",
              "  width: 1rem;\n",
              "  text-decoration: none;\n",
              "  /* unfitted */\n",
              "  color: var(--sklearn-color-unfitted-level-1);\n",
              "  border: var(--sklearn-color-unfitted-level-1) 1pt solid;\n",
              "}\n",
              "\n",
              "#sk-container-id-1 a.estimator_doc_link.fitted {\n",
              "  /* fitted */\n",
              "  border: var(--sklearn-color-fitted-level-1) 1pt solid;\n",
              "  color: var(--sklearn-color-fitted-level-1);\n",
              "}\n",
              "\n",
              "/* On hover */\n",
              "#sk-container-id-1 a.estimator_doc_link:hover {\n",
              "  /* unfitted */\n",
              "  background-color: var(--sklearn-color-unfitted-level-3);\n",
              "  color: var(--sklearn-color-background);\n",
              "  text-decoration: none;\n",
              "}\n",
              "\n",
              "#sk-container-id-1 a.estimator_doc_link.fitted:hover {\n",
              "  /* fitted */\n",
              "  background-color: var(--sklearn-color-fitted-level-3);\n",
              "}\n",
              "</style><div id=\"sk-container-id-1\" class=\"sk-top-container\"><div class=\"sk-text-repr-fallback\"><pre>RandomForestClassifier(random_state=42)</pre><b>In a Jupyter environment, please rerun this cell to show the HTML representation or trust the notebook. <br />On GitHub, the HTML representation is unable to render, please try loading this page with nbviewer.org.</b></div><div class=\"sk-container\" hidden><div class=\"sk-item\"><div class=\"sk-estimator fitted sk-toggleable\"><input class=\"sk-toggleable__control sk-hidden--visually\" id=\"sk-estimator-id-1\" type=\"checkbox\" checked><label for=\"sk-estimator-id-1\" class=\"sk-toggleable__label fitted sk-toggleable__label-arrow fitted\">&nbsp;&nbsp;RandomForestClassifier<a class=\"sk-estimator-doc-link fitted\" rel=\"noreferrer\" target=\"_blank\" href=\"https://scikit-learn.org/1.4/modules/generated/sklearn.ensemble.RandomForestClassifier.html\">?<span>Documentation for RandomForestClassifier</span></a><span class=\"sk-estimator-doc-link fitted\">i<span>Fitted</span></span></label><div class=\"sk-toggleable__content fitted\"><pre>RandomForestClassifier(random_state=42)</pre></div> </div></div></div></div>"
            ],
            "text/plain": [
              "RandomForestClassifier(random_state=42)"
            ]
          },
          "execution_count": 5,
          "metadata": {},
          "output_type": "execute_result"
        }
      ],
      "source": [
        "model_rf_regr = RandomForestRegressor(random_state=42)\n",
        "model_rf_regr.fit(X_train_regr, y_train_regr)\n",
        "\n",
        "model_rf = RandomForestClassifier(random_state=42)\n",
        "model_rf.fit(X_train_class, y_train_class)\n"
      ]
    },
    {
      "cell_type": "markdown",
      "metadata": {
        "id": "12NMGbaSOcra"
      },
      "source": [
        "Посмотрим на результаты обучения:"
      ]
    },
    {
      "cell_type": "code",
      "execution_count": 6,
      "metadata": {
        "colab": {
          "base_uri": "https://localhost:8080/"
        },
        "id": "3Ymf2PEciDS3",
        "outputId": "84804b35-7475-43bb-a9ff-dc4c3d6b5f93"
      },
      "outputs": [
        {
          "name": "stdout",
          "output_type": "stream",
          "text": [
            "accuracy:  0.9909318034607199\n"
          ]
        }
      ],
      "source": [
        "predicted_class = model_rf.predict(X_test_class)\n",
        "print(\"accuracy: \", metrics.accuracy_score(y_test_class, predicted_class))"
      ]
    },
    {
      "cell_type": "markdown",
      "metadata": {
        "id": "4p3jl5fdDDqO"
      },
      "source": [
        "Получаем достаточно высокие значения accuracy - 0.9909318034607199"
      ]
    },
    {
      "cell_type": "code",
      "execution_count": 7,
      "metadata": {
        "colab": {
          "base_uri": "https://localhost:8080/"
        },
        "id": "vovdb0e12uIU",
        "outputId": "9715d669-fd23-4180-eabb-e4e5e3a1e273"
      },
      "outputs": [
        {
          "name": "stdout",
          "output_type": "stream",
          "text": [
            "MSE:  0.36701568734351264\n",
            "R2:  0.9996197129403056\n"
          ]
        }
      ],
      "source": [
        "predicted_regr = model_rf_regr.predict(X_test_regr)\n",
        "print(\"MSE: \", metrics.mean_squared_error(y_test_regr, predicted_regr))\n",
        "print(\"R2: \", metrics.r2_score(y_test_regr, predicted_regr))"
      ]
    },
    {
      "cell_type": "markdown",
      "metadata": {
        "id": "IKgh_LsegcjQ"
      },
      "source": [
        "Получаем так же отличные результаты для регрессии - R2=0.999. Построим графики для обоих задач, чтобы визуализировать ошибки"
      ]
    },
    {
      "cell_type": "code",
      "execution_count": 8,
      "metadata": {
        "colab": {
          "base_uri": "https://localhost:8080/",
          "height": 465
        },
        "id": "rV6S7zOz4tic",
        "outputId": "fff831a1-ea26-4f4a-90af-31e177832b4f"
      },
      "outputs": [
        {
          "data": {
            "image/png": "[encoded data removed]",
            "text/plain": [
              "<Figure size 640x480 with 1 Axes>"
            ]
          },
          "metadata": {},
          "output_type": "display_data"
        }
      ],
      "source": [
        "sns.kdeplot(y_test_regr, label='Actual', color='blue', fill=True)\n",
        "sns.kdeplot(predicted_regr, label='Predicted', color='red', fill=True)\n",
        "plt.xlabel('gold close price')\n",
        "plt.ylabel('Density')\n",
        "plt.legend()\n",
        "plt.show()"
      ]
    },
    {
      "cell_type": "code",
      "execution_count": 9,
      "metadata": {
        "colab": {
          "base_uri": "https://localhost:8080/",
          "height": 449
        },
        "id": "TPmdxzBK40j7",
        "outputId": "7e6c793d-78c0-4ed9-fcad-ca0fcd5f93e4"
      },
      "outputs": [
        {
          "data": {
            "image/png": "[encoded data removed]",
            "text/plain": [
              "<Figure size 640x480 with 1 Axes>"
            ]
          },
          "metadata": {},
          "output_type": "display_data"
        }
      ],
      "source": [
        "sns.kdeplot(y_test_class, label='Actual', color='blue', fill=True)\n",
        "sns.kdeplot(predicted_class, label='Predicted', color='red', fill=True)\n",
        "plt.xlabel('mushroom edible')\n",
        "plt.ylabel('Density')\n",
        "plt.legend()\n",
        "plt.show()"
      ]
    },
    {
      "cell_type": "markdown",
      "metadata": {
        "id": "nGHj_3wL5CcM"
      },
      "source": [
        "По итогу получаем очень хорошие значения точности для обоих задач."
      ]
    },
    {
      "cell_type": "markdown",
      "metadata": {
        "id": "TXWMOPdi5Gzk"
      },
      "source": [
        "# Улучшение бейзлайна задачи классификации"
      ]
    },
    {
      "cell_type": "markdown",
      "metadata": {
        "id": "9Kn2PP2N76MF"
      },
      "source": [
        "Гипотезы для улучшения бейзлайна классификации: \\\n",
        "- Будем контролировать увеличение числа деревьев `n_estimators`. Может привести к более стабильным оценкам, повышению точности.\n",
        "- Поменяем `max_depth` - это может предотвратить переобучение.\n",
        "- Будем так же подбирать `max_features`."
      ]
    },
    {
      "cell_type": "code",
      "execution_count": 10,
      "metadata": {
        "colab": {
          "base_uri": "https://localhost:8080/"
        },
        "id": "7fhSzl_UVUru",
        "outputId": "b3dd0267-9fa5-46e0-e1d5-08a5738ce2fd"
      },
      "outputs": [
        {
          "name": "stdout",
          "output_type": "stream",
          "text": [
            "Fitting 3 folds for each of 12 candidates, totalling 36 fits\n"
          ]
        },
        {
          "name": "stdout",
          "output_type": "stream",
          "text": [
            "best: {'max_depth': None, 'max_features': 'sqrt', 'n_estimators': 300}\n",
            "best score: 0.9888497895821562\n",
            "accuracy: 0.9915795317849542\n"
          ]
        }
      ],
      "source": [
        "from sklearn.model_selection import GridSearchCV\n",
        "\n",
        "param_grid = {\n",
        "    'n_estimators': [100, 300],          #число деревьев\n",
        "    'max_depth': [None, 5, 10],           #глубина деревьев\n",
        "    'max_features': ['sqrt', 'log2']  #выбор признаков\n",
        "}\n",
        "\n",
        "model_rf_tuned = RandomForestClassifier(random_state=42)\n",
        "grid_search = GridSearchCV(\n",
        "    estimator=model_rf_tuned,\n",
        "    param_grid=param_grid,\n",
        "    scoring='accuracy',\n",
        "    cv=3,\n",
        "    n_jobs=-1,\n",
        "    verbose=1\n",
        ")\n",
        "\n",
        "grid_search.fit(X_train_class, y_train_class)\n",
        "\n",
        "print(\"best:\", grid_search.best_params_)\n",
        "print(\"best score:\", grid_search.best_score_)\n",
        "\n",
        "best_model = grid_search.best_estimator_\n",
        "predicted_class_tuned = best_model.predict(X_test_class)\n",
        "\n",
        "print(\"accuracy:\", metrics.accuracy_score(y_test_class, predicted_class_tuned))\n"
      ]
    },
    {
      "cell_type": "markdown",
      "metadata": {
        "id": "Zm78q8TVFSXX"
      },
      "source": [
        "Гипотезы не улучшили бейзлайн, но уровень accuracy и так достаточно высок."
      ]
    },
    {
      "cell_type": "markdown",
      "metadata": {
        "id": "XA_d8OrFMa1F"
      },
      "source": [
        "# Улучшение бейзлайна задачи регрессии\n",
        "Теперь перейдем к задаче регрессии. Будем предсказывать charges"
      ]
    },
    {
      "cell_type": "markdown",
      "metadata": {
        "id": "e1cqhicOMso3"
      },
      "source": [
        "Гипотезы по улучшению: \\\n",
        "- Увеличение числа деревьев `n_estimators`\n",
        "- Ограничение глубины деревьев `max_depth`\n",
        "- Подбор `max_features`\n",
        "\n",
        "Таким образом, гипотезы совпадают с задачей классификации"
      ]
    },
    {
      "cell_type": "code",
      "execution_count": 11,
      "metadata": {
        "colab": {
          "base_uri": "https://localhost:8080/"
        },
        "id": "jiudd6hxMHZf",
        "outputId": "ba4b7ec7-1c08-40a5-8b6e-8532611ea92a"
      },
      "outputs": [
        {
          "name": "stdout",
          "output_type": "stream",
          "text": [
            "Fitting 3 folds for each of 16 candidates, totalling 48 fits\n",
            "best:p {'max_depth': None, 'max_features': 'sqrt', 'n_estimators': 300}\n",
            "best score: 0.9989721107451167\n",
            "MSE:  0.6406436381072704\n",
            "R2:  0.9993361905393987\n"
          ]
        }
      ],
      "source": [
        "from sklearn.model_selection import GridSearchCV\n",
        "\n",
        "param_grid = {\n",
        "    'n_estimators': [100, 300],\n",
        "    'max_depth': [None, 5, 10, 20],\n",
        "    'max_features': ['sqrt', 'log2']\n",
        "}\n",
        "\n",
        "model_rf_regr_tuned = RandomForestRegressor(random_state=42)\n",
        "\n",
        "grid_search = GridSearchCV(\n",
        "    estimator=model_rf_regr_tuned,\n",
        "    param_grid=param_grid,\n",
        "    scoring='r2',\n",
        "    cv=3,\n",
        "    n_jobs=-1,\n",
        "    verbose=1\n",
        ")\n",
        "\n",
        "grid_search.fit(X_train_regr, y_train_regr)\n",
        "\n",
        "print(\"best:p\", grid_search.best_params_)\n",
        "print(\"best score:\", grid_search.best_score_)\n",
        "\n",
        "best_model = grid_search.best_estimator_\n",
        "predicted_regr_tuned = best_model.predict(X_test_regr)\n",
        "\n",
        "print(\"MSE: \", metrics.mean_squared_error(y_test_regr, predicted_regr_tuned))\n",
        "print(\"R2: \", metrics.r2_score(y_test_regr, predicted_regr_tuned))\n",
        "\n"
      ]
    },
    {
      "cell_type": "markdown",
      "metadata": {
        "id": "QxjhA-kHIJc0"
      },
      "source": [
        "Видно, что улучшения бейзлайна улучшили показатели MSE"
      ]
    },
    {
      "cell_type": "markdown",
      "metadata": {
        "id": "X7xPQe6hNGfH"
      },
      "source": [
        "# Самостоятельная имплементация решающего дерева для классификации"
      ]
    },
    {
      "cell_type": "markdown",
      "metadata": {
        "id": "b2qyh0q9JE1E"
      },
      "source": [
        "Определим класс классификатора со всеми необходимыми функциями:"
      ]
    },
    {
      "cell_type": "code",
      "execution_count": 12,
      "metadata": {
        "id": "T0ee1e9HNLfv"
      },
      "outputs": [],
      "source": [
        "import numpy as np\n",
        "\n",
        "class MyRandomForestClassifier:\n",
        "    def __init__(self,\n",
        "                 n_estimators=10,\n",
        "                 max_features='sqrt',\n",
        "                 max_depth=None,\n",
        "                 min_samples_split=2,\n",
        "                 min_samples_leaf=1,\n",
        "                 random_state=None):\n",
        "        self.n_estimators = n_estimators\n",
        "        self.max_features = max_features\n",
        "        self.max_depth = max_depth\n",
        "        self.min_samples_split = min_samples_split\n",
        "        self.min_samples_leaf = min_samples_leaf\n",
        "        self.random_state = random_state\n",
        "        self.trees = []\n",
        "        self.features_idx = []\n",
        "        if self.random_state is not None:\n",
        "            np.random.seed(self.random_state)\n",
        "\n",
        "    def _bootstrap_sample(self, X, y):\n",
        "        n_samples = X.shape[0]\n",
        "        indices = np.random.choice(n_samples, size=n_samples, replace=True)\n",
        "        return X[indices], y[indices]\n",
        "\n",
        "    def _get_feature_subset_indices(self, n_features):\n",
        "        if self.max_features == 'sqrt':\n",
        "            size = int(np.sqrt(n_features))\n",
        "        elif self.max_features == 'log2':\n",
        "            size = int(np.log2(n_features))\n",
        "        elif isinstance(self.max_features, int):\n",
        "            size = self.max_features\n",
        "        else:\n",
        "            size = int(np.sqrt(n_features))\n",
        "        indices = np.random.choice(n_features, size=size, replace=False)\n",
        "        return indices\n",
        "\n",
        "    class DecisionTree:\n",
        "        def __init__(self, max_depth, min_samples_split, min_samples_leaf):\n",
        "            self.max_depth = max_depth\n",
        "            self.min_samples_split = min_samples_split\n",
        "            self.min_samples_leaf = min_samples_leaf\n",
        "            self.tree = None\n",
        "\n",
        "        def _gini_impurity(self, y):\n",
        "            classes, counts = np.unique(y, return_counts=True)\n",
        "            probabilities = counts / len(y)\n",
        "            return 1 - np.sum(probabilities ** 2)\n",
        "\n",
        "        def _split(self, X, y, feature_index, threshold):\n",
        "            left_mask = X[:, feature_index] <= threshold\n",
        "            right_mask = ~left_mask\n",
        "            return (X[left_mask], y[left_mask]), (X[right_mask], y[right_mask])\n",
        "\n",
        "        def _best_split(self, X, y):\n",
        "            best_feature, best_threshold, best_gini = None, None, float('inf')\n",
        "            for feature_index in range(X.shape[1]):\n",
        "                thresholds = np.unique(X[:, feature_index])\n",
        "                for threshold in thresholds:\n",
        "                    (X_left, y_left), (X_right, y_right) = self._split(X, y, feature_index, threshold)\n",
        "                    if len(y_left) < self.min_samples_leaf or len(y_right) < self.min_samples_leaf:\n",
        "                        continue\n",
        "                    gini = (len(y_left) * self._gini_impurity(y_left) + len(y_right) * self._gini_impurity(y_right)) / len(y)\n",
        "                    if gini < best_gini:\n",
        "                        best_feature, best_threshold, best_gini = feature_index, threshold, gini\n",
        "            return best_feature, best_threshold\n",
        "\n",
        "        def _build_tree(self, X, y, depth):\n",
        "            if (len(y) < self.min_samples_split or\n",
        "                self.max_depth is not None and depth >= self.max_depth or\n",
        "                len(np.unique(y)) == 1):\n",
        "                return {'type': 'leaf', 'class': np.argmax(np.bincount(y.astype(int)))}\n",
        "\n",
        "            best_feature, best_threshold = self._best_split(X, y)\n",
        "            if best_feature is None:\n",
        "                return {'type': 'leaf', 'class': np.argmax(np.bincount(y.astype(int)))}\n",
        "\n",
        "            (X_left, y_left), (X_right, y_right) = self._split(X, y, best_feature, best_threshold)\n",
        "            return {\n",
        "                'type': 'node',\n",
        "                'feature': best_feature,\n",
        "                'threshold': best_threshold,\n",
        "                'left': self._build_tree(X_left, y_left, depth + 1),\n",
        "                'right': self._build_tree(X_right, y_right, depth + 1)\n",
        "            }\n",
        "\n",
        "\n",
        "        def fit(self, X, y):\n",
        "            self.tree = self._build_tree(X, y, depth=0)\n",
        "\n",
        "        def _predict_one(self, x, node):\n",
        "            if node['type'] == 'leaf':\n",
        "                return node['class']\n",
        "            if x[node['feature']] <= node['threshold']:\n",
        "                return self._predict_one(x, node['left'])\n",
        "            else:\n",
        "                return self._predict_one(x, node['right'])\n",
        "\n",
        "        def predict(self, X):\n",
        "            return np.array([self._predict_one(x, self.tree) for x in X])\n",
        "\n",
        "    def fit(self, X, y):\n",
        "        X = np.array(X)\n",
        "        y = np.array(y)\n",
        "        n_features = X.shape[1]\n",
        "\n",
        "        for _ in range(self.n_estimators):\n",
        "            X_boot, y_boot = self._bootstrap_sample(X, y)\n",
        "            feature_indices = self._get_feature_subset_indices(n_features)\n",
        "            self.features_idx.append(feature_indices)\n",
        "            tree = self.DecisionTree(\n",
        "                max_depth=self.max_depth,\n",
        "                min_samples_split=self.min_samples_split,\n",
        "                min_samples_leaf=self.min_samples_leaf\n",
        "            )\n",
        "            tree.fit(X_boot[:, feature_indices], y_boot)\n",
        "            self.trees.append(tree)\n",
        "\n",
        "    def predict(self, X):\n",
        "        X = np.array(X)\n",
        "        predictions = []\n",
        "        for tree, f_idx in zip(self.trees, self.features_idx):\n",
        "            pred = tree.predict(X[:, f_idx])\n",
        "            predictions.append(pred)\n",
        "        predictions = np.array(predictions)\n",
        "        final_pred = []\n",
        "        for i in range(X.shape[0]):\n",
        "            vals, counts = np.unique(predictions[:, i], return_counts=True)\n",
        "            final_pred.append(vals[np.argmax(counts)])\n",
        "        return np.array(final_pred)\n"
      ]
    },
    {
      "cell_type": "markdown",
      "metadata": {
        "id": "GUmQJsBVowyh"
      },
      "source": [
        "Проведем все те же действия - обучим бейзлайн"
      ]
    },
    {
      "cell_type": "code",
      "execution_count": 13,
      "metadata": {
        "colab": {
          "base_uri": "https://localhost:8080/",
          "height": 466
        },
        "id": "X0t8-cb_NRHn",
        "outputId": "619494ce-0e48-497c-814f-282c7093f5b3"
      },
      "outputs": [
        {
          "name": "stdout",
          "output_type": "stream",
          "text": [
            "accuracy: 0.753770704173221\n"
          ]
        },
        {
          "data": {
            "image/png": "[encoded data removed]",
            "text/plain": [
              "<Figure size 640x480 with 1 Axes>"
            ]
          },
          "metadata": {},
          "output_type": "display_data"
        }
      ],
      "source": [
        "import numpy as np\n",
        "\n",
        "X = data_class.drop(columns=['class'])\n",
        "y = data_class['class']\n",
        "\n",
        "X_train_class, X_test_class, y_train_class, y_test_class = train_test_split(X, y, test_size=0.2, random_state=42)\n",
        "\n",
        "scaler = StandardScaler()\n",
        "X_train_class = scaler.fit_transform(X_train_class)\n",
        "X_test_class = scaler.transform(X_test_class)\n",
        "\n",
        "my_rf_base = MyRandomForestClassifier(n_estimators=10, max_features='sqrt', random_state=42)\n",
        "my_rf_base.fit(X_train_class, y_train_class)\n",
        "predicted_class_base = my_rf_base.predict(X_test_class)\n",
        "\n",
        "print(\"accuracy:\", metrics.accuracy_score(y_test_class, predicted_class_base))\n",
        "\n",
        "sns.kdeplot(y_test_class, label='Actual', color='blue', fill=True)\n",
        "sns.kdeplot(predicted_class_base, label='Predicted', color='red', fill=True)\n",
        "plt.xlabel('mushroom edible')\n",
        "plt.ylabel('Density')\n",
        "plt.legend()\n",
        "plt.show()\n"
      ]
    },
    {
      "cell_type": "markdown",
      "metadata": {
        "id": "xfiLefJUqKjS"
      },
      "source": [
        "Видно, что собственная реализация модели имеет не такой высокий уровень accuracy, как модель из sklearn - лишь 0.753770704173221"
      ]
    },
    {
      "cell_type": "markdown",
      "metadata": {
        "id": "LbTKRXDlBt-5"
      },
      "source": [
        "Применим оптимальные параметры, найденные ранее, в качестве гипотезы оптимизации."
      ]
    },
    {
      "cell_type": "code",
      "execution_count": 15,
      "metadata": {
        "colab": {
          "base_uri": "https://localhost:8080/",
          "height": 466
        },
        "id": "Lz1BBsD8Fpud",
        "outputId": "28e03f9b-8afd-4ffc-b410-792a1beb277b"
      },
      "outputs": [
        {
          "name": "stdout",
          "output_type": "stream",
          "text": [
            "accuracy: 0.753770704173221\n"
          ]
        },
        {
          "data": {
            "image/png": "[encoded data removed]",
            "text/plain": [
              "<Figure size 640x480 with 1 Axes>"
            ]
          },
          "metadata": {},
          "output_type": "display_data"
        }
      ],
      "source": [
        "improvs = {\n",
        "    'n_estimators': 10,\n",
        "    'max_depth': None,\n",
        "    'max_features': 'sqrt',\n",
        "    'random_state': 42\n",
        "}\n",
        "\n",
        "my_rf_impr = MyRandomForestClassifier(**improvs)\n",
        "my_rf_impr.fit(X_train_class, y_train_class)\n",
        "predicted_class_impr = my_rf_impr.predict(X_test_class)\n",
        "\n",
        "print(\"accuracy:\", metrics.accuracy_score(y_test_class, predicted_class_impr))\n",
        "\n",
        "sns.kdeplot(y_test_class, label='Actual', color='blue', fill=True)\n",
        "sns.kdeplot(predicted_class_impr, label='Predicted', color='red', fill=True)\n",
        "plt.xlabel('mushroom edible')\n",
        "plt.ylabel('Density')\n",
        "plt.legend()\n",
        "plt.show()\n"
      ]
    },
    {
      "cell_type": "markdown",
      "metadata": {
        "id": "P1dNX6RYr51h"
      },
      "source": [
        "Видим, что собственная реализация (после применения гипотез) все же не проявляет ту же точность, что и модель sklearn"
      ]
    },
    {
      "cell_type": "markdown",
      "metadata": {
        "id": "R7-HT5QYQD6A"
      },
      "source": [
        "# Самостоятельная имплементация решающего дерева для регрессии:"
      ]
    },
    {
      "cell_type": "markdown",
      "metadata": {
        "id": "VgNW3YSOK3DT"
      },
      "source": [
        "Перейдем к самостоятельной имплементации регрессии. Опишем класс, повторим действия по обучению"
      ]
    },
    {
      "cell_type": "code",
      "execution_count": 16,
      "metadata": {
        "id": "W_5FMNbh9WQ1"
      },
      "outputs": [],
      "source": [
        "import numpy as np\n",
        "\n",
        "#из lab3\n",
        "class SimpleDecisionTreeRegressor():\n",
        "    def __init__(self, max_depth=None, min_samples_leaf=1, criterion='mse'):\n",
        "        self.max_depth = max_depth\n",
        "        self.min_samples_leaf = min_samples_leaf\n",
        "        self.criterion = criterion\n",
        "        self.tree_ = None\n",
        "\n",
        "    def fit(self, X, y):\n",
        "        X = np.array(X)\n",
        "        y = np.array(y)\n",
        "\n",
        "        if self.criterion not in ['mse']:\n",
        "            raise NotImplementedError(f\"Criterion '{self.criterion}' не реализован. Используйте 'mse'.\")\n",
        "\n",
        "        self.tree_ = self._build_tree(X, y, depth=0)\n",
        "        return self\n",
        "\n",
        "    def predict(self, X):\n",
        "        X = np.array(X)\n",
        "        return np.array([self._predict_sample(x, self.tree_) for x in X])\n",
        "\n",
        "    def _build_tree(self, X, y, depth):\n",
        "        if self.max_depth is not None and depth >= self.max_depth:\n",
        "            return {'type': 'leaf', 'value': np.mean(y)}\n",
        "\n",
        "        if len(y) <= self.min_samples_leaf:\n",
        "            return {'type': 'leaf', 'value': np.mean(y)}\n",
        "\n",
        "        if np.all(y == y[0]):\n",
        "            return {'type': 'leaf', 'value': y[0]}\n",
        "\n",
        "        best_split = self._find_best_split(X, y)\n",
        "        if best_split is None:\n",
        "            return {'type': 'leaf', 'value': np.mean(y)}\n",
        "\n",
        "        left_mask = X[:, best_split['feature']] <= best_split['threshold']\n",
        "        right_mask = ~left_mask\n",
        "\n",
        "        left_subtree = self._build_tree(X[left_mask], y[left_mask], depth + 1)\n",
        "        right_subtree = self._build_tree(X[right_mask], y[right_mask], depth + 1)\n",
        "\n",
        "        return {\n",
        "            'type': 'node',\n",
        "            'feature': best_split['feature'],\n",
        "            'threshold': best_split['threshold'],\n",
        "            'left': left_subtree,\n",
        "            'right': right_subtree\n",
        "        }\n",
        "\n",
        "    def _find_best_split(self, X, y):\n",
        "        best_mse = float('inf')\n",
        "        best_split = None\n",
        "\n",
        "        n_features = X.shape[1]\n",
        "\n",
        "        current_mse = self._mse(y)\n",
        "\n",
        "        for feature in range(n_features):\n",
        "            thresholds = np.unique(X[:, feature])\n",
        "            for t in thresholds:\n",
        "                left_mask = X[:, feature] <= t\n",
        "                right_mask = ~left_mask\n",
        "\n",
        "                if np.sum(left_mask) < self.min_samples_leaf or np.sum(right_mask) < self.min_samples_leaf:\n",
        "                    continue\n",
        "\n",
        "                left_y = y[left_mask]\n",
        "                right_y = y[right_mask]\n",
        "\n",
        "                left_mse = self._mse(left_y)\n",
        "                right_mse = self._mse(right_y)\n",
        "                weighted_mse = (len(left_y)*left_mse + len(right_y)*right_mse) / len(y)\n",
        "\n",
        "                if weighted_mse < best_mse:\n",
        "                    best_mse = weighted_mse\n",
        "                    best_split = {\n",
        "                        'feature': feature,\n",
        "                        'threshold': t\n",
        "                    }\n",
        "\n",
        "        if best_split is None or best_mse >= current_mse:\n",
        "            return None\n",
        "        return best_split\n",
        "\n",
        "    def _mse(self, y):\n",
        "        mean_y = np.mean(y)\n",
        "        return np.mean((y - mean_y)**2)\n",
        "\n",
        "    def _predict_sample(self, x, node):\n",
        "        if node['type'] == 'leaf':\n",
        "            return node['value']\n",
        "\n",
        "        if x[node['feature']] <= node['threshold']:\n",
        "            return self._predict_sample(x, node['left'])\n",
        "        else:\n",
        "            return self._predict_sample(x, node['right'])\n",
        "\n",
        "    def get_params(self, deep=True):\n",
        "        return {\n",
        "            'max_depth': self.max_depth,\n",
        "            'min_samples_leaf': self.min_samples_leaf,\n",
        "            'criterion': self.criterion\n",
        "        }\n",
        "\n",
        "    def set_params(self, **params):\n",
        "        for param, value in params.items():\n",
        "            setattr(self, param, value)\n",
        "        return self\n",
        "\n",
        "\n",
        "class MyRandomForestRegressor:\n",
        "    def __init__(self,\n",
        "                 n_estimators=10,\n",
        "                 max_features='sqrt',\n",
        "                 max_depth=None,\n",
        "                 min_samples_split=2,\n",
        "                 min_samples_leaf=1,\n",
        "                 random_state=None):\n",
        "        self.n_estimators = n_estimators\n",
        "        self.max_features = max_features\n",
        "        self.max_depth = max_depth\n",
        "        self.min_samples_split = min_samples_split\n",
        "        self.min_samples_leaf = min_samples_leaf\n",
        "        self.random_state = random_state\n",
        "        self.trees = []\n",
        "        self.features_idx = []\n",
        "        if self.random_state is not None:\n",
        "            np.random.seed(self.random_state)\n",
        "\n",
        "    def _bootstrap_sample(self, X, y):\n",
        "        n_samples = X.shape[0]\n",
        "        indices = np.random.choice(n_samples, size=n_samples, replace=True)\n",
        "        return X[indices], y[indices]\n",
        "\n",
        "    def _get_feature_subset_indices(self, n_features):\n",
        "        if self.max_features == 'sqrt':\n",
        "            size = int(np.sqrt(n_features))\n",
        "        elif self.max_features == 'log2':\n",
        "            size = int(np.log2(n_features))\n",
        "        elif isinstance(self.max_features, int):\n",
        "            size = self.max_features\n",
        "        else:\n",
        "            size = int(np.sqrt(n_features))\n",
        "        indices = np.random.choice(n_features, size=size, replace=False)\n",
        "        return indices\n",
        "\n",
        "    def fit(self, X, y):\n",
        "        X = np.array(X)\n",
        "        y = np.array(y)\n",
        "        n_features = X.shape[1]\n",
        "\n",
        "        for _ in range(self.n_estimators):\n",
        "            X_boot, y_boot = self._bootstrap_sample(X, y)\n",
        "            feature_indices = self._get_feature_subset_indices(n_features)\n",
        "            self.features_idx.append(feature_indices)\n",
        "\n",
        "            tree = SimpleDecisionTreeRegressor(\n",
        "                max_depth=self.max_depth,\n",
        "                min_samples_leaf=self.min_samples_leaf,\n",
        "            )\n",
        "            tree.fit(X_boot[:, feature_indices], y_boot)\n",
        "            self.trees.append(tree)\n",
        "\n",
        "    def predict(self, X):\n",
        "        X = np.array(X)\n",
        "        predictions = []\n",
        "        for tree, f_idx in zip(self.trees, self.features_idx):\n",
        "            pred = tree.predict(X[:, f_idx])\n",
        "            predictions.append(pred)\n",
        "        predictions = np.array(predictions)\n",
        "        return np.mean(predictions, axis=0)\n"
      ]
    },
    {
      "cell_type": "markdown",
      "metadata": {
        "id": "YwKVHr_RuC4C"
      },
      "source": [
        "Обучим бейзлайн модель на собственной реализации случайного леса регрессора:"
      ]
    },
    {
      "cell_type": "code",
      "execution_count": 17,
      "metadata": {
        "colab": {
          "base_uri": "https://localhost:8080/",
          "height": 500
        },
        "id": "3cOA1hEjyIzr",
        "outputId": "d530a2b9-f2b4-4e88-ab66-15b61921c572"
      },
      "outputs": [
        {
          "name": "stdout",
          "output_type": "stream",
          "text": [
            "MSE:  3.4392860161684853\n",
            "R2: 0.9964363486040518\n"
          ]
        },
        {
          "data": {
            "image/png": "[encoded data removed]",
            "text/plain": [
              "<Figure size 640x480 with 1 Axes>"
            ]
          },
          "metadata": {},
          "output_type": "display_data"
        }
      ],
      "source": [
        "X = data_regr.drop('gold close', axis=1)\n",
        "y = data_regr['gold close']\n",
        "\n",
        "X_train_regr, X_test_regr, y_train_regr, y_test_regr = train_test_split(X, y, test_size=0.2, random_state=42)\n",
        "\n",
        "scaler = StandardScaler()\n",
        "X_train_regr = scaler.fit_transform(X_train_regr)\n",
        "X_test_regr = scaler.transform(X_test_regr)\n",
        "\n",
        "my_rf_regr_base = MyRandomForestRegressor(n_estimators=10, max_features='sqrt', random_state=42)\n",
        "my_rf_regr_base.fit(X_train_regr, y_train_regr)\n",
        "predicted_regr_base = my_rf_regr_base.predict(X_test_regr)\n",
        "\n",
        "print(\"MSE: \", metrics.mean_squared_error(y_test_regr, predicted_regr_base))\n",
        "print(\"R2:\", metrics.r2_score(y_test_regr, predicted_regr_base))\n",
        "\n",
        "sns.kdeplot(y_test_regr, label='Actual', color='blue', fill=True)\n",
        "sns.kdeplot(predicted_regr_base, label='Predicted', color='red', fill=True)\n",
        "plt.xlabel('insurance price')\n",
        "plt.ylabel('Density')\n",
        "plt.legend()\n",
        "plt.show()\n"
      ]
    },
    {
      "cell_type": "markdown",
      "metadata": {
        "id": "vrzHEeU3ngke"
      },
      "source": [
        "Получаем R2 0.9964363486040518, что совсем немного меньше, чем у бейзлайн модели из sklearn. Теперь применим гпиотезы по улучшению"
      ]
    },
    {
      "cell_type": "code",
      "execution_count": 18,
      "metadata": {
        "colab": {
          "base_uri": "https://localhost:8080/",
          "height": 484
        },
        "id": "v-6xt2jQTJDm",
        "outputId": "3a459ef6-dae6-44cf-83c7-86ceff2f1531"
      },
      "outputs": [
        {
          "name": "stdout",
          "output_type": "stream",
          "text": [
            "MSE: 2.854887606310973\n",
            "R2: 0.9970418789959087\n"
          ]
        },
        {
          "data": {
            "image/png": "[encoded data removed]",
            "text/plain": [
              "<Figure size 640x480 with 1 Axes>"
            ]
          },
          "metadata": {},
          "output_type": "display_data"
        }
      ],
      "source": [
        "impr = {\n",
        "    'n_estimators': 30,\n",
        "    'max_depth': None,\n",
        "    'max_features': 'sqrt',\n",
        "    'random_state': 42\n",
        "}\n",
        "\n",
        "my_rf_regr_impr = MyRandomForestRegressor(**impr)\n",
        "my_rf_regr_impr.fit(X_train_regr, y_train_regr)\n",
        "predicted_regr_impr = my_rf_regr_impr.predict(X_test_regr)\n",
        "\n",
        "print(\"MSE:\", metrics.mean_squared_error(y_test_regr, predicted_regr_impr))\n",
        "print(\"R2:\", metrics.r2_score(y_test_regr, predicted_regr_impr))\n",
        "\n",
        "sns.kdeplot(y_test_regr, label='Actual', color='blue', fill=True)\n",
        "sns.kdeplot(predicted_regr_impr, label='Predicted', color='red', fill=True)\n",
        "plt.xlabel('insurance price')\n",
        "plt.ylabel('Density')\n",
        "plt.legend()\n",
        "plt.show()\n",
        "\n"
      ]
    },
    {
      "cell_type": "markdown",
      "metadata": {
        "id": "ef5GkBcHuv_K"
      },
      "source": [
        "Видим, что улучшения к небольшому улучшению результата - R2=0.9970418789959087"
      ]
    }
  ],
  "metadata": {
    "colab": {
      "provenance": []
    },
    "kernelspec": {
      "display_name": "Python 3",
      "name": "python3"
    },
    "language_info": {
      "codemirror_mode": {
        "name": "ipython",
        "version": 3
      },
      "file_extension": ".py",
      "mimetype": "text/x-python",
      "name": "python",
      "nbconvert_exporter": "python",
      "pygments_lexer": "ipython3",
      "version": "3.11.8"
    }
  },
  "nbformat": 4,
  "nbformat_minor": 0
}
