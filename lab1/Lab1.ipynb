{
  "cells": [
    {
      "cell_type": "markdown",
      "metadata": {
        "id": "iwu9W9faBwbG"
      },
      "source": [
        "# ЛР №1 Проведение исследований с алгоритмом KNN.\n",
        "Для классификации был выбрал датасет '[Mushroom Dataset](https://www.kaggle.com/datasets/prishasawhney/mushroom-dataset)' \\\n",
        "Задачей было классифицировать съедобные и несъедобные грибы  \\\n",
        "Для регрессии был выбран датасет '[Gold Price Regression](https://www.kaggle.com/datasets/franciscogcc/financial-data)'\\\n",
        "Задачей было предсказывать стоимость золота."
      ]
    },
    {
      "cell_type": "markdown",
      "metadata": {
        "id": "U7l2u9R6CEd1"
      },
      "source": [
        "# Классификация\n",
        "Сначала рассмотрим задачу классификации"
      ]
    },
    {
      "cell_type": "markdown",
      "metadata": {
        "id": "jWTvgV3GBxZl"
      },
      "source": [
        "Загружаем датасет и смотрим его верхние строки"
      ]
    },
    {
      "cell_type": "code",
      "execution_count": 1,
      "metadata": {
        "colab": {
          "base_uri": "https://localhost:8080/",
          "height": 255
        },
        "id": "VLIuEyBWPfgG",
        "outputId": "07c28436-1aa0-4336-8e40-70c3964db928"
      },
      "outputs": [
        {
          "data": {
            "text/html": [
              "<div>\n",
              "<style scoped>\n",
              "    .dataframe tbody tr th:only-of-type {\n",
              "        vertical-align: middle;\n",
              "    }\n",
              "\n",
              "    .dataframe tbody tr th {\n",
              "        vertical-align: top;\n",
              "    }\n",
              "\n",
              "    .dataframe thead th {\n",
              "        text-align: right;\n",
              "    }\n",
              "</style>\n",
              "<table border=\"1\" class=\"dataframe\">\n",
              "  <thead>\n",
              "    <tr style=\"text-align: right;\">\n",
              "      <th></th>\n",
              "      <th>cap-diameter</th>\n",
              "      <th>cap-shape</th>\n",
              "      <th>gill-attachment</th>\n",
              "      <th>gill-color</th>\n",
              "      <th>stem-height</th>\n",
              "      <th>stem-width</th>\n",
              "      <th>stem-color</th>\n",
              "      <th>season</th>\n",
              "      <th>class</th>\n",
              "    </tr>\n",
              "  </thead>\n",
              "  <tbody>\n",
              "    <tr>\n",
              "      <th>0</th>\n",
              "      <td>1372</td>\n",
              "      <td>2</td>\n",
              "      <td>2</td>\n",
              "      <td>10</td>\n",
              "      <td>3.807467</td>\n",
              "      <td>1545</td>\n",
              "      <td>11</td>\n",
              "      <td>1.804273</td>\n",
              "      <td>1</td>\n",
              "    </tr>\n",
              "    <tr>\n",
              "      <th>1</th>\n",
              "      <td>1461</td>\n",
              "      <td>2</td>\n",
              "      <td>2</td>\n",
              "      <td>10</td>\n",
              "      <td>3.807467</td>\n",
              "      <td>1557</td>\n",
              "      <td>11</td>\n",
              "      <td>1.804273</td>\n",
              "      <td>1</td>\n",
              "    </tr>\n",
              "    <tr>\n",
              "      <th>2</th>\n",
              "      <td>1371</td>\n",
              "      <td>2</td>\n",
              "      <td>2</td>\n",
              "      <td>10</td>\n",
              "      <td>3.612496</td>\n",
              "      <td>1566</td>\n",
              "      <td>11</td>\n",
              "      <td>1.804273</td>\n",
              "      <td>1</td>\n",
              "    </tr>\n",
              "    <tr>\n",
              "      <th>3</th>\n",
              "      <td>1261</td>\n",
              "      <td>6</td>\n",
              "      <td>2</td>\n",
              "      <td>10</td>\n",
              "      <td>3.787572</td>\n",
              "      <td>1566</td>\n",
              "      <td>11</td>\n",
              "      <td>1.804273</td>\n",
              "      <td>1</td>\n",
              "    </tr>\n",
              "    <tr>\n",
              "      <th>4</th>\n",
              "      <td>1305</td>\n",
              "      <td>6</td>\n",
              "      <td>2</td>\n",
              "      <td>10</td>\n",
              "      <td>3.711971</td>\n",
              "      <td>1464</td>\n",
              "      <td>11</td>\n",
              "      <td>0.943195</td>\n",
              "      <td>1</td>\n",
              "    </tr>\n",
              "  </tbody>\n",
              "</table>\n",
              "</div>"
            ],
            "text/plain": [
              "   cap-diameter  cap-shape  gill-attachment  gill-color  stem-height  \\\n",
              "0          1372          2                2          10     3.807467   \n",
              "1          1461          2                2          10     3.807467   \n",
              "2          1371          2                2          10     3.612496   \n",
              "3          1261          6                2          10     3.787572   \n",
              "4          1305          6                2          10     3.711971   \n",
              "\n",
              "   stem-width  stem-color    season  class  \n",
              "0        1545          11  1.804273      1  \n",
              "1        1557          11  1.804273      1  \n",
              "2        1566          11  1.804273      1  \n",
              "3        1566          11  1.804273      1  \n",
              "4        1464          11  0.943195      1  "
            ]
          },
          "execution_count": 1,
          "metadata": {},
          "output_type": "execute_result"
        }
      ],
      "source": [
        "import pandas as pd\n",
        "from sklearn.model_selection import train_test_split, GridSearchCV\n",
        "from sklearn.preprocessing import StandardScaler, LabelEncoder\n",
        "from sklearn.impute import SimpleImputer\n",
        "from sklearn.neighbors import KNeighborsClassifier\n",
        "from sklearn.metrics import classification_report, accuracy_score\n",
        "\n",
        "file_path = \"mushroom_cleaned.csv\"\n",
        "data = pd.read_csv(file_path)\n",
        "data.head()\n"
      ]
    },
    {
      "cell_type": "markdown",
      "metadata": {
        "id": "UpgxeklICAOt"
      },
      "source": [
        "Посмотрим на распределение LoanApproved в датасете:"
      ]
    },
    {
      "cell_type": "code",
      "execution_count": 2,
      "metadata": {
        "colab": {
          "base_uri": "https://localhost:8080/",
          "height": 564
        },
        "id": "ariuSSQnFgD_",
        "outputId": "af122787-246f-4b07-8b54-9262bf89e1a4"
      },
      "outputs": [
        {
          "data": {
            "image/png": "[encoded data removed]",
            "text/plain": [
              "<Figure size 800x600 with 1 Axes>"
            ]
          },
          "metadata": {},
          "output_type": "display_data"
        }
      ],
      "source": [
        "import matplotlib.pyplot as plt\n",
        "import seaborn as sns\n",
        "\n",
        "plt.figure(figsize=(8, 6))\n",
        "sns.countplot(x='class', data=data)\n",
        "plt.title('Class')\n",
        "plt.xlabel('1-edible, 0-not edible')\n",
        "plt.ylabel('count')\n",
        "plt.show()"
      ]
    },
    {
      "cell_type": "markdown",
      "metadata": {
        "id": "0mE2-PXpCNH-"
      },
      "source": [
        "Кодируем категориальные фичи и разделим фичи на целевые и не целевые"
      ]
    },
    {
      "cell_type": "code",
      "execution_count": 3,
      "metadata": {},
      "outputs": [],
      "source": [
        "encoded_data = pd.get_dummies(data, columns=[\"cap-shape\", \"gill-attachment\", \"gill-color\", \"stem-color\"])\n",
        "\n",
        "label_encoder = LabelEncoder()\n",
        "for column in [\"cap-shape\", \"gill-attachment\", \"gill-color\", \"stem-color\"]:\n",
        "    data[column] = label_encoder.fit_transform(data[column])\n",
        "\n",
        "# разделение фич на целевую и не целевую\n",
        "X = data.drop(columns=[\"class\"])\n",
        "y = data[\"class\"]\n",
        "\n",
        "X_train, X_test, y_train, y_test = train_test_split(X, y, test_size=0.2, random_state=42)\n",
        "\n",
        "scaler = StandardScaler()\n",
        "X_train = scaler.fit_transform(X_train)\n",
        "X_test = scaler.transform(X_test)\n"
      ]
    },
    {
      "cell_type": "markdown",
      "metadata": {
        "id": "q47jKKadCtAW"
      },
      "source": [
        "Обучение KNN. В качестве метрики качества будем использовать accuracy"
      ]
    },
    {
      "cell_type": "code",
      "execution_count": 4,
      "metadata": {
        "colab": {
          "base_uri": "https://localhost:8080/"
        },
        "id": "i_y6u5bWVQbW",
        "outputId": "88048cba-8f37-43fb-ddaf-216b2215e152"
      },
      "outputs": [
        {
          "name": "stdout",
          "output_type": "stream",
          "text": [
            "Accuracy: 0.9896363468122513\n",
            "              precision    recall  f1-score   support\n",
            "\n",
            "           0       0.99      0.99      0.99      4909\n",
            "           1       0.99      0.99      0.99      5898\n",
            "\n",
            "    accuracy                           0.99     10807\n",
            "   macro avg       0.99      0.99      0.99     10807\n",
            "weighted avg       0.99      0.99      0.99     10807\n",
            "\n"
          ]
        }
      ],
      "source": [
        "knn = KNeighborsClassifier(n_neighbors=5)\n",
        "knn.fit(X_train, y_train)\n",
        "\n",
        "y_pred = knn.predict(X_test)\n",
        "baseline_accuracy = accuracy_score(y_test, y_pred)\n",
        "baseline_report = classification_report(y_test, y_pred)\n",
        "\n",
        "print(\"Accuracy:\", baseline_accuracy)\n",
        "print(baseline_report)\n"
      ]
    },
    {
      "cell_type": "markdown",
      "metadata": {
        "id": "4p3jl5fdDDqO"
      },
      "source": [
        "Получаем достаточно высокие значения accuracy - 0.9896363468122513. Для класса съедобности грибов (1.0) recall ниже, поэтому это можно улучшить. \\\n",
        "Гипотеза - попробуем подобрать оптимальное число соседей (neighbors) - от 1 до 21 - и обучим модель заново. Число разбиений в кросс-валидации - 5"
      ]
    },
    {
      "cell_type": "code",
      "execution_count": 5,
      "metadata": {
        "colab": {
          "base_uri": "https://localhost:8080/"
        },
        "id": "7fhSzl_UVUru",
        "outputId": "98b3f8bc-275a-404c-b50d-e02396f963e8"
      },
      "outputs": [
        {
          "name": "stdout",
          "output_type": "stream",
          "text": [
            "best neighbors: {'n_neighbors': 5}\n",
            "best score: 0.9871379189981038\n",
            "optimized accuracy: 0.9896363468122513\n",
            "              precision    recall  f1-score   support\n",
            "\n",
            "           0       0.99      0.99      0.99      4909\n",
            "           1       0.99      0.99      0.99      5898\n",
            "\n",
            "    accuracy                           0.99     10807\n",
            "   macro avg       0.99      0.99      0.99     10807\n",
            "weighted avg       0.99      0.99      0.99     10807\n",
            "\n"
          ]
        }
      ],
      "source": [
        "#поиск оптималного числа соседей\n",
        "param_grid = {'n_neighbors': range(1, 21)}\n",
        "grid_search = GridSearchCV(KNeighborsClassifier(), param_grid, cv=5, scoring='accuracy', n_jobs=-1)\n",
        "grid_search.fit(X_train, y_train)\n",
        "\n",
        "best_params = grid_search.best_params_\n",
        "best_score = grid_search.best_score_\n",
        "\n",
        "print(\"best neighbors:\", best_params)\n",
        "print(\"best score:\", best_score)\n",
        "\n",
        "#обучим улучшенную модель, чтобы посмотреть, как улучшится или не улучшится accuracy\n",
        "knn_optimized = KNeighborsClassifier(n_neighbors=best_params['n_neighbors'])\n",
        "knn_optimized.fit(X_train, y_train)\n",
        "y_pred_optimized = knn_optimized.predict(X_test)\n",
        "optimized_accuracy = accuracy_score(y_test, y_pred_optimized)\n",
        "optimized_report = classification_report(y_test, y_pred_optimized)\n",
        "\n",
        "print(\"optimized accuracy:\", optimized_accuracy)\n",
        "print(optimized_report)\n"
      ]
    },
    {
      "cell_type": "code",
      "execution_count": 6,
      "metadata": {
        "colab": {
          "base_uri": "https://localhost:8080/"
        },
        "id": "L1V8OWWtVaXW",
        "outputId": "ec20c00a-b1b9-43d3-a530-60b1d1cf43e3"
      },
      "outputs": [
        {
          "name": "stdout",
          "output_type": "stream",
          "text": [
            "base model accuracy: 0.9896363468122513\n",
            "optimised model accuracy: 0.9896363468122513\n"
          ]
        }
      ],
      "source": [
        "print(\"base model accuracy:\", baseline_accuracy)\n",
        "print(\"optimised model accuracy:\", optimized_accuracy)\n"
      ]
    },
    {
      "cell_type": "markdown",
      "metadata": {
        "id": "Zm78q8TVFSXX"
      },
      "source": [
        "Вывод - оптимизация засчет подобранного оптмального числа соседей особенно не улучшила результат, но accuracy и так была достаточно высокой - поэтому добиться еще более хороших результатов трудно."
      ]
    },
    {
      "cell_type": "markdown",
      "metadata": {
        "id": "XA_d8OrFMa1F"
      },
      "source": [
        "# Регрессия\n",
        "Теперь перейдем к задаче регрессии. Импортируем датасет и посмотрим информацию о нем. Будем предсказывать charges"
      ]
    },
    {
      "cell_type": "code",
      "execution_count": 7,
      "metadata": {
        "colab": {
          "base_uri": "https://localhost:8080/"
        },
        "id": "ycx3pD8VL2mn",
        "outputId": "edef1377-4b3e-45a1-f369-97e6e81b6a0e"
      },
      "outputs": [
        {
          "name": "stdout",
          "output_type": "stream",
          "text": [
            "<class 'pandas.core.frame.DataFrame'>\n",
            "RangeIndex: 3904 entries, 0 to 3903\n",
            "Data columns (total 47 columns):\n",
            " #   Column              Non-Null Count  Dtype  \n",
            "---  ------              --------------  -----  \n",
            " 0   date                3904 non-null   object \n",
            " 1   sp500 open          3719 non-null   float64\n",
            " 2   sp500 high          3719 non-null   float64\n",
            " 3   sp500 low           3719 non-null   float64\n",
            " 4   sp500 close         3719 non-null   float64\n",
            " 5   sp500 volume        3719 non-null   float64\n",
            " 6   sp500 high-low      3719 non-null   float64\n",
            " 7   nasdaq open         3719 non-null   float64\n",
            " 8   nasdaq high         3719 non-null   float64\n",
            " 9   nasdaq low          3719 non-null   float64\n",
            " 10  nasdaq close        3719 non-null   float64\n",
            " 11  nasdaq volume       3719 non-null   float64\n",
            " 12  nasdaq high-low     3719 non-null   float64\n",
            " 13  us_rates_%          176 non-null    float64\n",
            " 14  CPI                 176 non-null    float64\n",
            " 15  usd_chf             3694 non-null   float64\n",
            " 16  eur_usd             3694 non-null   float64\n",
            " 17  GDP                 57 non-null     float64\n",
            " 18  silver open         3719 non-null   float64\n",
            " 19  silver high         3719 non-null   float64\n",
            " 20  silver low          3719 non-null   float64\n",
            " 21  silver close        3719 non-null   float64\n",
            " 22  silver volume       3719 non-null   float64\n",
            " 23  silver high-low     3719 non-null   float64\n",
            " 24  oil open            3719 non-null   float64\n",
            " 25  oil high            3719 non-null   float64\n",
            " 26  oil low             3719 non-null   float64\n",
            " 27  oil close           3719 non-null   float64\n",
            " 28  oil volume          3719 non-null   float64\n",
            " 29  oil high-low        3719 non-null   float64\n",
            " 30  platinum open       3719 non-null   float64\n",
            " 31  platinum high       3719 non-null   float64\n",
            " 32  platinum low        3719 non-null   float64\n",
            " 33  platinum close      3719 non-null   float64\n",
            " 34  platinum volume     3719 non-null   float64\n",
            " 35  platinum high-low   3719 non-null   float64\n",
            " 36  palladium open      3719 non-null   float64\n",
            " 37  palladium high      3719 non-null   float64\n",
            " 38  palladium low       3719 non-null   float64\n",
            " 39  palladium close     3719 non-null   float64\n",
            " 40  palladium volume    3719 non-null   float64\n",
            " 41  palladium high-low  3719 non-null   float64\n",
            " 42  gold open           3719 non-null   float64\n",
            " 43  gold high           3719 non-null   float64\n",
            " 44  gold low            3719 non-null   float64\n",
            " 45  gold close          3719 non-null   float64\n",
            " 46  gold volume         3719 non-null   float64\n",
            "dtypes: float64(46), object(1)\n",
            "memory usage: 1.4+ MB\n"
          ]
        },
        {
          "data": {
            "text/plain": [
              "(         date  sp500 open  sp500 high  sp500 low  sp500 close  sp500 volume  \\\n",
              " 0  2010-01-14      114.49      115.14     114.42       114.93   115646960.0   \n",
              " 1  2010-01-15      114.73      114.84     113.20       113.64   212252769.0   \n",
              " 2  2010-01-18         NaN         NaN        NaN          NaN           NaN   \n",
              " 3  2010-01-19      113.62      115.13     113.59       115.06   138671890.0   \n",
              " 4  2010-01-20      114.28      114.45     112.98       113.89   216330645.0   \n",
              " \n",
              "    sp500 high-low  nasdaq open  nasdaq high  nasdaq low  ...  palladium high  \\\n",
              " 0            0.72        46.26       46.520       46.22  ...           45.02   \n",
              " 1            1.64        46.46       46.550       45.65  ...           45.76   \n",
              " 2             NaN          NaN          NaN         NaN  ...             NaN   \n",
              " 3            1.54        45.96       46.640       45.95  ...           47.08   \n",
              " 4            1.47        46.27       46.604       45.43  ...           47.31   \n",
              " \n",
              "    palladium low  palladium close  palladium volume  palladium high-low  \\\n",
              " 0          43.86            44.84          364528.0                1.16   \n",
              " 1          44.40            45.76          442210.0                1.36   \n",
              " 2            NaN              NaN               NaN                 NaN   \n",
              " 3          45.70            46.94          629150.0                1.38   \n",
              " 4          45.17            47.05          643198.0                2.14   \n",
              " \n",
              "    gold open  gold high  gold low  gold close  gold volume  \n",
              " 0     111.51     112.37    110.79      112.03   18305238.0  \n",
              " 1     111.35     112.01    110.38      110.86   18000724.0  \n",
              " 2        NaN        NaN       NaN         NaN          NaN  \n",
              " 3     110.95     111.75    110.83      111.52   10467927.0  \n",
              " 4     109.97     110.05    108.46      108.94   17534231.0  \n",
              " \n",
              " [5 rows x 47 columns],\n",
              " None)"
            ]
          },
          "execution_count": 7,
          "metadata": {},
          "output_type": "execute_result"
        }
      ],
      "source": [
        "import pandas as pd\n",
        "\n",
        "file_path = 'financial_regression.csv'\n",
        "data = pd.read_csv(file_path)\n",
        "\n",
        "\n",
        "data.head(), data.info()\n"
      ]
    },
    {
      "cell_type": "markdown",
      "metadata": {
        "id": "n6uOZX9AGkF8"
      },
      "source": [
        "Разделим данные на целевые и не целевые, а так же разделим на тестовую и обучающую выборки"
      ]
    },
    {
      "cell_type": "code",
      "execution_count": 8,
      "metadata": {
        "id": "GfsDdMfxMAB_"
      },
      "outputs": [],
      "source": [
        "from sklearn.model_selection import train_test_split\n",
        "\n",
        "data = data.dropna(subset=['sp500 close', 'gold close'])\n",
        "data = data.drop(['us_rates_%', 'CPI', 'date', 'GDP'], axis=1)\n",
        "data = data.dropna()\n",
        "\n",
        "\n",
        "X = data.drop('gold close', axis=1)\n",
        "y = data['gold close']\n",
        "\n",
        "X_train, X_test, y_train, y_test = train_test_split(X, y, test_size=0.2, random_state=42)\n"
      ]
    },
    {
      "cell_type": "markdown",
      "metadata": {},
      "source": [
        "Преобразуем категориальные признаки, чтобы избавиться от текстовых признаков:"
      ]
    },
    {
      "cell_type": "code",
      "execution_count": 9,
      "metadata": {},
      "outputs": [],
      "source": [
        "from sklearn.preprocessing import StandardScaler, LabelEncoder\n",
        "categorical_columns = data.select_dtypes(include=['object']).columns\n",
        "label_encoders = {}\n",
        "for column in categorical_columns:\n",
        "    le = LabelEncoder()\n",
        "    data[column] = le.fit_transform(data[column].astype(str))\n",
        "    label_encoders[column] = le"
      ]
    },
    {
      "cell_type": "markdown",
      "metadata": {
        "id": "pdbgxSDSGtd7"
      },
      "source": [
        "Обучим базовую модель. В качестве метрик качества используем MSE и R^2 score."
      ]
    },
    {
      "cell_type": "code",
      "execution_count": 10,
      "metadata": {
        "colab": {
          "base_uri": "https://localhost:8080/"
        },
        "id": "AiKALK7UMEj3",
        "outputId": "1e65e421-3ba4-4a22-f2c2-2511df4a0b77"
      },
      "outputs": [
        {
          "name": "stdout",
          "output_type": "stream",
          "text": [
            "MSE: 374.66330476754894\n",
            "R^2 score: 0.6117887832623803\n"
          ]
        }
      ],
      "source": [
        "from sklearn.neighbors import KNeighborsRegressor\n",
        "from sklearn.metrics import mean_squared_error, r2_score\n",
        "\n",
        "baseline_model = KNeighborsRegressor()\n",
        "baseline_model.fit(X_train, y_train)\n",
        "\n",
        "y_pred = baseline_model.predict(X_test)\n",
        "\n",
        "mse = mean_squared_error(y_test, y_pred)\n",
        "r2 = r2_score(y_test, y_pred)\n",
        "\n",
        "print(\"MSE:\", mse)\n",
        "print(\"R^2 score:\", r2)"
      ]
    },
    {
      "cell_type": "markdown",
      "metadata": {
        "id": "e1cqhicOMso3"
      },
      "source": [
        "Сформулируем гипотезы по улучшению результата: \\\n",
        "- Нормализация данных \\\n",
        "- Подбор гиперпараметров \\\n",
        "- Добавление/удаление признаков \\\n",
        "\n",
        "Нормализуем данные с помощью StandardScaler из sklearn, а так же попробуем подобрать гиперпараметры."
      ]
    },
    {
      "cell_type": "code",
      "execution_count": 11,
      "metadata": {
        "colab": {
          "base_uri": "https://localhost:8080/"
        },
        "id": "jiudd6hxMHZf",
        "outputId": "50918f52-6a26-4076-d26b-3694bf4225ee"
      },
      "outputs": [
        {
          "name": "stdout",
          "output_type": "stream",
          "text": [
            "best params: {'n_neighbors': 3, 'p': 1, 'weights': 'distance'}\n"
          ]
        }
      ],
      "source": [
        "from sklearn.preprocessing import StandardScaler\n",
        "from sklearn.model_selection import GridSearchCV\n",
        "\n",
        "#нормализация данных\n",
        "scaler = StandardScaler()\n",
        "X_train_scaled = scaler.fit_transform(X_train)\n",
        "X_test_scaled = scaler.transform(X_test)\n",
        "\n",
        "#подбор гиперпараметров\n",
        "param_grid = {\n",
        "    'n_neighbors': [3, 5, 7, 9],\n",
        "    'weights': ['uniform', 'distance'],\n",
        "    'p': [1, 2]  #manhattan и евклидовые расстояния\n",
        "}\n",
        "grid_search = GridSearchCV(KNeighborsRegressor(), param_grid, cv=5, scoring='neg_mean_squared_error')\n",
        "grid_search.fit(X_train_scaled, y_train)\n",
        "\n",
        "print(\"best params:\", grid_search.best_params_)\n"
      ]
    },
    {
      "cell_type": "markdown",
      "metadata": {
        "id": "5ZsfpMOjHzP0"
      },
      "source": [
        "Получили лучшие параметры - число соседей 3, p - 1 (евклидово расстояние), веса - distance. \\\n",
        "Обучим модель с новыми параметрами:"
      ]
    },
    {
      "cell_type": "code",
      "execution_count": 12,
      "metadata": {
        "colab": {
          "base_uri": "https://localhost:8080/"
        },
        "id": "4pSIyZG8MJ1H",
        "outputId": "1cb13d28-95a5-4be5-f551-2448563b244e"
      },
      "outputs": [
        {
          "name": "stdout",
          "output_type": "stream",
          "text": [
            "improved MSE: 2.528016890375344\n",
            "improved R^2 score: 0.997380569432721\n"
          ]
        }
      ],
      "source": [
        "best_model = grid_search.best_estimator_\n",
        "best_model.fit(X_train_scaled, y_train)\n",
        "\n",
        "y_pred_improved = best_model.predict(X_test_scaled)\n",
        "\n",
        "mse_improved = mean_squared_error(y_test, y_pred_improved)\n",
        "r2_improved = r2_score(y_test, y_pred_improved)\n",
        "\n",
        "print(\"improved MSE:\", mse_improved)\n",
        "print(\"improved R^2 score:\", r2_improved)\n"
      ]
    },
    {
      "cell_type": "code",
      "execution_count": 13,
      "metadata": {
        "colab": {
          "base_uri": "https://localhost:8080/"
        },
        "id": "AbLzhn5xMMff",
        "outputId": "4586c65c-0f89-47e2-e491-171732b3fa7a"
      },
      "outputs": [
        {
          "name": "stdout",
          "output_type": "stream",
          "text": [
            "base MSE: 374.66330476754894 improved MSE: 2.528016890375344\n",
            "base R^2: 0.6117887832623803 improved R^2: 0.997380569432721\n"
          ]
        }
      ],
      "source": [
        "print(\"base MSE:\", mse, \"improved MSE:\",mse_improved)\n",
        "print(\"base R^2:\", r2, \"improved R^2:\", r2_improved)\n"
      ]
    },
    {
      "cell_type": "markdown",
      "metadata": {
        "id": "QxjhA-kHIJc0"
      },
      "source": [
        "Видно, что улучшения сильно улучшили показатели модели, например R^2 score стал гораздо больше. \\\n",
        "Построим график предсказанных и правильных значений, чтобы убедиться в точности модели:"
      ]
    },
    {
      "cell_type": "code",
      "execution_count": 14,
      "metadata": {
        "colab": {
          "base_uri": "https://localhost:8080/",
          "height": 718
        },
        "id": "4NvSriR0MY4v",
        "outputId": "e4d4301b-5a02-44ec-efe4-da852976c693"
      },
      "outputs": [
        {
          "data": {
            "image/png": "[encoded data removed]",
            "text/plain": [
              "<Figure size 800x800 with 1 Axes>"
            ]
          },
          "metadata": {},
          "output_type": "display_data"
        }
      ],
      "source": [
        "import matplotlib.pyplot as plt\n",
        "import numpy as np\n",
        "\n",
        "plt.figure(figsize=(8, 8))\n",
        "plt.scatter(y_test, y_pred_improved, alpha=0.6, edgecolor='k', label=\"predictions\")\n",
        "plt.plot([y_test.min(), y_test.max()], [y_test.min(), y_test.max()], 'r--', lw=2, label=\"ideal\")\n",
        "plt.title(\"model acc test\")\n",
        "plt.xlabel(\"actual values\")\n",
        "plt.ylabel(\"predicted values\")\n",
        "plt.legend()\n",
        "plt.grid(True)\n",
        "plt.show()\n"
      ]
    },
    {
      "cell_type": "markdown",
      "metadata": {
        "id": "2MchJuYQInok"
      },
      "source": [
        "По графику видно, что модель достаточно точно предсказывает стоимость золота"
      ]
    },
    {
      "cell_type": "markdown",
      "metadata": {
        "id": "X7xPQe6hNGfH"
      },
      "source": [
        "# Самостоятельная имплементация регрессии"
      ]
    },
    {
      "cell_type": "markdown",
      "metadata": {
        "id": "b2qyh0q9JE1E"
      },
      "source": [
        "Определим класс регрессора со всеми необходимыми функциями:"
      ]
    },
    {
      "cell_type": "code",
      "execution_count": 15,
      "metadata": {
        "id": "T0ee1e9HNLfv"
      },
      "outputs": [],
      "source": [
        "import numpy as np\n",
        "\n",
        "class KNNRegressor:\n",
        "    def __init__(self, n_neighbors=5, p=2):\n",
        "        self.n_neighbors = n_neighbors\n",
        "        self.p = p\n",
        "\n",
        "    def fit(self, X, y):\n",
        "        self.X_train = np.array(X)\n",
        "        self.y_train = np.array(y)\n",
        "\n",
        "    def _distance(self, x1, x2):\n",
        "        return np.sum(np.abs(x1 - x2) ** self.p, axis=1) ** (1 / self.p)\n",
        "\n",
        "    def _predict_one(self, x):\n",
        "        distances = self._distance(self.X_train, x)\n",
        "        neighbor_indices = distances.argsort()[:self.n_neighbors]\n",
        "        neighbor_values = self.y_train[neighbor_indices]\n",
        "        return neighbor_values.mean()\n",
        "\n",
        "    def predict(self, X):\n",
        "        return np.array([self._predict_one(x) for x in X])\n"
      ]
    },
    {
      "cell_type": "markdown",
      "metadata": {
        "id": "uXR96ThuJOC0"
      },
      "source": [
        "Обучим модель на введенных ранее данных и посмотрим на полученные значения MSE и R^2 score. Число соседей оставим 5, метрика расстояния - Евклидово."
      ]
    },
    {
      "cell_type": "code",
      "execution_count": 16,
      "metadata": {
        "colab": {
          "base_uri": "https://localhost:8080/"
        },
        "id": "X0t8-cb_NRHn",
        "outputId": "11da6dad-8a24-4192-e3eb-e246a51babfe"
      },
      "outputs": [
        {
          "name": "stdout",
          "output_type": "stream",
          "text": [
            "custom MSE: 8.034904042055972\n",
            "custom R^2 score: 0.9916745519648053\n"
          ]
        }
      ],
      "source": [
        "knn_model = KNNRegressor(n_neighbors=5, p=2)\n",
        "knn_model.fit(X_train_scaled, y_train)\n",
        "\n",
        "y_pred_custom = knn_model.predict(X_test_scaled)\n",
        "\n",
        "custom_mse = mean_squared_error(y_test, y_pred_custom)\n",
        "custom_r2 = r2_score(y_test, y_pred_custom)\n",
        "\n",
        "print(\"custom MSE:\", custom_mse)\n",
        "print(\"custom R^2 score:\", custom_r2)\n"
      ]
    },
    {
      "cell_type": "code",
      "execution_count": 17,
      "metadata": {
        "colab": {
          "base_uri": "https://localhost:8080/"
        },
        "id": "E32sAWsgNTff",
        "outputId": "9ef46a05-3969-461b-e1a8-4f1c7998884c"
      },
      "outputs": [
        {
          "name": "stdout",
          "output_type": "stream",
          "text": [
            "base MSE: 374.66330476754894 custom MSE: 8.034904042055972\n",
            "base R^2: 0.6117887832623803 custom R^2: 0.9916745519648053\n"
          ]
        }
      ],
      "source": [
        "print(\"base MSE:\", mse, \"custom MSE:\", custom_mse)\n",
        "print(\"base R^2:\", r2, \"custom R^2:\", custom_r2)\n"
      ]
    },
    {
      "cell_type": "markdown",
      "metadata": {
        "id": "2iJ4kMoTJm8c"
      },
      "source": [
        "По метрикам видно, что кастомная модель работает лучше, чем базовая (MSE:\n",
        "108.01814799999993 < 691.7266755000002)"
      ]
    },
    {
      "cell_type": "markdown",
      "metadata": {
        "id": "U2DrWHMbJ2p0"
      },
      "source": [
        "Гипотеза - подберем оптимальные гиперпараметры, которые позволят улучшить точность модели. Выбирать будем из разных комбинаций метрик расстояния и числа соседей."
      ]
    },
    {
      "cell_type": "code",
      "execution_count": 18,
      "metadata": {
        "colab": {
          "base_uri": "https://localhost:8080/"
        },
        "id": "6entANDsNV8_",
        "outputId": "45ebf793-3c68-4ad6-911b-0edcebd72d6d"
      },
      "outputs": [
        {
          "name": "stdout",
          "output_type": "stream",
          "text": [
            "best params: {'n_neighbors': 3, 'p': 1}\n",
            "best MSE: 2.5824276678713773\n"
          ]
        }
      ],
      "source": [
        "best_mse = float('inf')\n",
        "best_params = None\n",
        "\n",
        "for n_neighbors in [3, 5, 7, 9]:\n",
        "    for p in [1, 2]:\n",
        "        knn_model = KNNRegressor(n_neighbors=n_neighbors, p=p)\n",
        "        knn_model.fit(X_train_scaled, y_train)\n",
        "        y_pred_custom = knn_model.predict(X_test_scaled)\n",
        "        mse = mean_squared_error(y_test, y_pred_custom)\n",
        "        if mse < best_mse:\n",
        "            best_mse = mse\n",
        "            best_params = {'n_neighbors': n_neighbors, 'p': p}\n",
        "\n",
        "print(\"best params:\", best_params)\n",
        "print(\"best MSE:\", best_mse)\n"
      ]
    },
    {
      "cell_type": "markdown",
      "metadata": {
        "id": "uIb4ZENKKKCr"
      },
      "source": [
        "Теперь обучим модель с новыми гиперпараметрами:"
      ]
    },
    {
      "cell_type": "code",
      "execution_count": 19,
      "metadata": {
        "colab": {
          "base_uri": "https://localhost:8080/"
        },
        "id": "10Hl7qbbNY_f",
        "outputId": "b3ca6ab3-fbac-4a8c-9d29-88861c5baa64"
      },
      "outputs": [
        {
          "name": "stdout",
          "output_type": "stream",
          "text": [
            "improved custom MSE: 2.5824276678713773\n",
            "improved custom R^2 score: 0.997324191148895\n"
          ]
        }
      ],
      "source": [
        "knn_model = KNNRegressor(n_neighbors=best_params['n_neighbors'], p=best_params['p'])\n",
        "knn_model.fit(X_train_scaled, y_train)\n",
        "\n",
        "y_pred_custom_improved = knn_model.predict(X_test_scaled)\n",
        "improved_custom_mse = mean_squared_error(y_test, y_pred_custom_improved)\n",
        "improved_custom_r2 = r2_score(y_test, y_pred_custom_improved)\n",
        "\n",
        "print(\"improved custom MSE:\",improved_custom_mse)\n",
        "print(\"improved custom R^2 score:\",improved_custom_r2)\n"
      ]
    },
    {
      "cell_type": "code",
      "execution_count": 20,
      "metadata": {
        "colab": {
          "base_uri": "https://localhost:8080/"
        },
        "id": "GHNftAckNcJP",
        "outputId": "ebd7d948-0a99-4e7c-8598-b3e10d6a2bfd"
      },
      "outputs": [
        {
          "name": "stdout",
          "output_type": "stream",
          "text": [
            "base MSE: 8.759830763060421 , improved base MSE: 2.528016890375344 , improved custom MSE: 2.5824276678713773\n",
            "base R^2: 0.6117887832623803 , improved base R^2: 0.997380569432721 , improved custom R^2: 0.997324191148895\n"
          ]
        }
      ],
      "source": [
        "print(\"base MSE:\", mse, \", improved base MSE:\", mse_improved, \", improved custom MSE:\", improved_custom_mse)\n",
        "print(\"base R^2:\", r2, \", improved base R^2:\", r2_improved, \", improved custom R^2:\", improved_custom_r2)\n"
      ]
    },
    {
      "cell_type": "markdown",
      "metadata": {
        "id": "9MtU6bzQW1cj"
      },
      "source": [
        "Библиотечная и кастомная реализации показывают одинаково хорошие результаты с минимальной разницей.\n",
        "Построим график, чтобы наглядно сравнить кастомную реализацию с библиотечной"
      ]
    },
    {
      "cell_type": "code",
      "execution_count": 21,
      "metadata": {
        "colab": {
          "base_uri": "https://localhost:8080/",
          "height": 718
        },
        "id": "leQFhGQ8Lc00",
        "outputId": "8c505447-117e-4d16-fd46-6c447c9c7cc7"
      },
      "outputs": [
        {
          "data": {
            "image/png": "[encoded data removed]",
            "text/plain": [
              "<Figure size 800x800 with 1 Axes>"
            ]
          },
          "metadata": {},
          "output_type": "display_data"
        }
      ],
      "source": [
        "import matplotlib.pyplot as plt\n",
        "import numpy as np\n",
        "\n",
        "plt.figure(figsize=(8, 8))\n",
        "plt.scatter(y_test, y_pred_custom_improved, alpha=0.6, edgecolor='k', label=\"predictions\")\n",
        "plt.plot([y_test.min(), y_test.max()], [y_test.min(), y_test.max()], 'r--', lw=2, label=\"ideal\")\n",
        "plt.title(\"model acc test\")\n",
        "plt.xlabel(\"actual values\")\n",
        "plt.ylabel(\"predicted values\")\n",
        "plt.legend()\n",
        "plt.grid(True)\n",
        "plt.show()"
      ]
    },
    {
      "cell_type": "markdown",
      "metadata": {
        "id": "tdz79GHlNpLf"
      },
      "source": [
        "### Выводы:\n",
        "- Улучшенная собственная модель KNN показывает лучшие результаты по сравнению с базовой по метрике MSE, однако проигрывает базовой по R^2\n",
        "- Гиперпараметры (например, число соседей и выбранная метрика расстояния) значительно влияют на качество модели\n",
        "\n",
        "Можно сделать вывод, что бейзлайн модель показывает все же более лучший результат (что подтверждается графиком выше)\n"
      ]
    },
    {
      "cell_type": "markdown",
      "metadata": {
        "id": "R7-HT5QYQD6A"
      },
      "source": [
        "# Самостоятельная имплементация классификации:"
      ]
    },
    {
      "cell_type": "markdown",
      "metadata": {
        "id": "VgNW3YSOK3DT"
      },
      "source": [
        "Перейдем к самостоятельной имплементации классификации. Импортируем данные из датасета:"
      ]
    },
    {
      "cell_type": "code",
      "execution_count": 22,
      "metadata": {
        "colab": {
          "base_uri": "https://localhost:8080/"
        },
        "id": "W_5FMNbh9WQ1",
        "outputId": "8453b1bf-3e1c-4e4f-dea7-a38529e0c52c"
      },
      "outputs": [
        {
          "name": "stdout",
          "output_type": "stream",
          "text": [
            "       cap-diameter  cap-shape  gill-attachment  gill-color  stem-height  \\\n",
            "14085           826          2                0          10     0.044195   \n",
            "19006           571          6                2           4     0.536738   \n",
            "50623          1122          2                0           0     0.450051   \n",
            "41819           278          2                0           4     0.190566   \n",
            "8085            735          2                6          10     1.455884   \n",
            "\n",
            "       stem-width  stem-color    season  class  \n",
            "14085        2433           6  1.804273      0  \n",
            "19006         761           4  0.943195      1  \n",
            "50623        1942          11  0.943195      0  \n",
            "41819         576          11  0.943195      0  \n",
            "8085         1077          11  0.888450      1  \n",
            "<class 'pandas.core.frame.DataFrame'>\n",
            "Index: 1000 entries, 14085 to 38937\n",
            "Data columns (total 9 columns):\n",
            " #   Column           Non-Null Count  Dtype  \n",
            "---  ------           --------------  -----  \n",
            " 0   cap-diameter     1000 non-null   int64  \n",
            " 1   cap-shape        1000 non-null   int64  \n",
            " 2   gill-attachment  1000 non-null   int64  \n",
            " 3   gill-color       1000 non-null   int64  \n",
            " 4   stem-height      1000 non-null   float64\n",
            " 5   stem-width       1000 non-null   int64  \n",
            " 6   stem-color       1000 non-null   int64  \n",
            " 7   season           1000 non-null   float64\n",
            " 8   class            1000 non-null   int64  \n",
            "dtypes: float64(2), int64(7)\n",
            "memory usage: 78.1 KB\n",
            "None\n"
          ]
        }
      ],
      "source": [
        "import pandas as pd\n",
        "import numpy as np\n",
        "from sklearn.model_selection import train_test_split\n",
        "from sklearn.metrics import accuracy_score, precision_score, recall_score, f1_score, confusion_matrix\n",
        "\n",
        "file_path = \"mushroom_cleaned.csv\"\n",
        "data = pd.read_csv(file_path)\n",
        "data = data.sample(n=1000, random_state=42)\n",
        "\n",
        "\n",
        "print(data.head())\n",
        "print(data.info())\n"
      ]
    },
    {
      "cell_type": "markdown",
      "metadata": {
        "id": "9Qeki1wEL9_U"
      },
      "source": [
        "Преобразуем категориальные признаки, разделим выборки на обучающую и тестовую:"
      ]
    },
    {
      "cell_type": "code",
      "execution_count": 23,
      "metadata": {
        "id": "yaJ_zlyj9w8V"
      },
      "outputs": [],
      "source": [
        "data = pd.get_dummies(data, drop_first=True)\n",
        "\n",
        "X = data.drop(\"class\", axis=1)\n",
        "y = data[\"class\"]\n",
        "\n",
        "X_train, X_test, y_train, y_test = train_test_split(X, y, test_size=0.01, random_state=42)"
      ]
    },
    {
      "cell_type": "markdown",
      "metadata": {
        "id": "v0k5R7ZAOtiL"
      },
      "source": [
        "Определим кастомный классификатор"
      ]
    },
    {
      "cell_type": "code",
      "execution_count": 24,
      "metadata": {
        "id": "GuYeRA-j-ErV"
      },
      "outputs": [],
      "source": [
        "import numpy as np\n",
        "from collections import Counter\n",
        "\n",
        "class CustomKNNClassifier:\n",
        "    def __init__(self, n_neighbors=5):\n",
        "        self.n_neighbors = n_neighbors\n",
        "\n",
        "    def fit(self, X, y):\n",
        "        self.X_train = np.array(X)\n",
        "        self.y_train = np.array(y)\n",
        "\n",
        "    def predict(self, X):\n",
        "        X = np.array(X)\n",
        "        predictions = []\n",
        "        for x in X:\n",
        "            distances = np.linalg.norm(self.X_train - x, axis=1)\n",
        "            neighbor_indices = np.argsort(distances)[:self.n_neighbors]\n",
        "            neighbor_labels = self.y_train[neighbor_indices]\n",
        "            most_common = Counter(neighbor_labels).most_common(1)\n",
        "            predictions.append(most_common[0][0])\n",
        "        return np.array(predictions)\n",
        "\n",
        "    def score(self, X, y):\n",
        "        predictions = self.predict(X)\n",
        "        return np.mean(predictions == np.array(y))\n",
        "    def get_params(self, deep=True):\n",
        "        return {'n_neighbors': self.n_neighbors}\n",
        "\n",
        "    def set_params(self, **params):\n",
        "        for key, value in params.items():\n",
        "            setattr(self, key, value)\n",
        "        return self\n",
        "\n"
      ]
    },
    {
      "cell_type": "markdown",
      "metadata": {
        "id": "txQP-fu-O6Fr"
      },
      "source": [
        "Обучим кастомную модель, выведем результаты в консоль (будем ориентироваться на метрику accuracy)"
      ]
    },
    {
      "cell_type": "code",
      "execution_count": 25,
      "metadata": {
        "colab": {
          "base_uri": "https://localhost:8080/"
        },
        "id": "v1xiN-kD-GfF",
        "outputId": "3207f3ae-b655-45bc-bf4e-0988134c3ea5"
      },
      "outputs": [
        {
          "name": "stdout",
          "output_type": "stream",
          "text": [
            "Accuracy: 0.6\n"
          ]
        }
      ],
      "source": [
        "from sklearn.preprocessing import StandardScaler\n",
        "\n",
        "scaler = StandardScaler()\n",
        "X_train = scaler.fit_transform(X_train)\n",
        "X_test = scaler.transform(X_test)\n",
        "\n",
        "model = CustomKNNClassifier(5)\n",
        "model.fit(X_train, y_train)\n",
        "\n",
        "y_pred = model.predict(X_test)\n",
        "\n",
        "print(\"Accuracy:\", accuracy_score(y_test, y_pred))\n"
      ]
    },
    {
      "cell_type": "markdown",
      "metadata": {
        "id": "LO3sqbBYYjDy"
      },
      "source": [
        "Нормализация, поиск оптимальных параметров и обучение"
      ]
    },
    {
      "cell_type": "code",
      "execution_count": 26,
      "metadata": {
        "colab": {
          "base_uri": "https://localhost:8080/"
        },
        "id": "3gvhQ-NfPX1b",
        "outputId": "d2b0368d-ebce-4f4d-b58a-e85dd89de0f2"
      },
      "outputs": [
        {
          "name": "stdout",
          "output_type": "stream",
          "text": [
            "best neighbors: {'n_neighbors': 3}\n",
            "best score: 0.8292929292929293\n",
            "optimized accuracy: 0.7\n"
          ]
        }
      ],
      "source": [
        "from sklearn.model_selection import GridSearchCV\n",
        "\n",
        "from sklearn.preprocessing import StandardScaler\n",
        "from sklearn.metrics import classification_report, accuracy_score\n",
        "#norm\n",
        "scaler = StandardScaler()\n",
        "X_train = scaler.fit_transform(X_train)\n",
        "#поиск оптималного числа соседей\n",
        "param_grid = {'n_neighbors': [3,5,6,7]}\n",
        "grid_search = GridSearchCV(CustomKNNClassifier(), param_grid, cv=3, scoring='accuracy', n_jobs=-1)\n",
        "grid_search.fit(X_train, y_train)\n",
        "\n",
        "best_params = grid_search.best_params_\n",
        "best_score = grid_search.best_score_\n",
        "\n",
        "print(\"best neighbors:\", best_params)\n",
        "print(\"best score:\", best_score)\n",
        "\n",
        "#обучим улучшенную модель, чтобы посмотреть, как улучшится или не улучшится accuracy\n",
        "knn_optimized = CustomKNNClassifier(n_neighbors=best_params['n_neighbors'])\n",
        "knn_optimized.fit(X_train, y_train)\n",
        "y_pred_optimized = knn_optimized.predict(X_test)\n",
        "optimized_accuracy = accuracy_score(y_test, y_pred_optimized)\n",
        "\n",
        "print(\"optimized accuracy:\", optimized_accuracy)"
      ]
    },
    {
      "cell_type": "markdown",
      "metadata": {
        "id": "CdEbJ0QH_WH1"
      },
      "source": [
        "Можно сделать вывод, что кастомный классификатор справляется хуже, чем бейзлайн. Это может быть связано с уменьшенным размером датасета (что было сделано исходя из hardware-ных ограничений)."
      ]
    }
  ],
  "metadata": {
    "colab": {
      "provenance": []
    },
    "kernelspec": {
      "display_name": "Python 3",
      "name": "python3"
    },
    "language_info": {
      "codemirror_mode": {
        "name": "ipython",
        "version": 3
      },
      "file_extension": ".py",
      "mimetype": "text/x-python",
      "name": "python",
      "nbconvert_exporter": "python",
      "pygments_lexer": "ipython3",
      "version": "3.11.8"
    }
  },
  "nbformat": 4,
  "nbformat_minor": 0
}
